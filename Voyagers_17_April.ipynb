{
  "cells": [
    {
      "cell_type": "code",
      "source": [
        "# Adult income dataset Predict whether a person will end up earning more than 50k\n",
        "# using factors like age, education, background, gender, marital status, etc.\n",
        "# : 🎯 Target: ‘income’ 🔗 Link: Kaggle 📦Dimensions: (48842, 15) \n",
        "#⚙Missing values: Yes"
      ],
      "metadata": {
        "id": "s8rQdXLxXlg0"
      },
      "execution_count": 30,
      "outputs": []
    },
    {
      "cell_type": "code",
      "source": [
        "import numpy as np\n",
        "import pandas as pd\n",
        "\n",
        "\n",
        "from sklearn.compose import make_column_transformer\n",
        "from sklearn.preprocessing import MinMaxScaler, OneHotEncoder\n",
        "\n",
        "from sklearn.model_selection import train_test_split\n",
        "\n"
      ],
      "metadata": {
        "id": "O4g0AItlSrx-"
      },
      "execution_count": 31,
      "outputs": []
    },
    {
      "cell_type": "markdown",
      "source": [
        "\n",
        "# Classification"
      ],
      "metadata": {
        "id": "JoRAOA7kS5tE"
      }
    },
    {
      "cell_type": "code",
      "source": [
        "df = pd.read_csv(\"https://github.com/fenago/datasets/blob/main/adultIncome.csv?raw=true\")\n",
        "df.sample(5)"
      ],
      "metadata": {
        "colab": {
          "base_uri": "https://localhost:8080/",
          "height": 206
        },
        "id": "zOmWOGgfSrrT",
        "outputId": "2cb96375-a59d-43ac-81b2-17b206df2ac2"
      },
      "execution_count": 32,
      "outputs": [
        {
          "output_type": "execute_result",
          "data": {
            "text/plain": [
              "       age         workclass  fnlwgt     education  educational-num  \\\n",
              "41677   34         Local-gov  325792  Some-college               10   \n",
              "8130    67           Private  131656     Bachelors               13   \n",
              "23378   45  Self-emp-not-inc   40666     Assoc-voc               11   \n",
              "2623    63           Private  153894     Assoc-voc               11   \n",
              "40141   65      Self-emp-inc  157403       HS-grad                9   \n",
              "\n",
              "           marital-status        occupation   relationship   race  gender  \\\n",
              "41677  Married-civ-spouse      Craft-repair        Husband  White    Male   \n",
              "8130   Married-civ-spouse  Transport-moving        Husband  White    Male   \n",
              "23378  Married-civ-spouse   Farming-fishing        Husband  White    Male   \n",
              "2623             Divorced   Exec-managerial  Not-in-family  White  Female   \n",
              "40141  Married-civ-spouse             Sales        Husband  White    Male   \n",
              "\n",
              "       capital-gain  capital-loss  hours-per-week native-country income  \n",
              "41677             0             0              40  United-States  <=50K  \n",
              "8130              0          2392              24  United-States   >50K  \n",
              "23378             0             0              60  United-States  <=50K  \n",
              "2623              0             0              24    Puerto-Rico  <=50K  \n",
              "40141             0             0              50  United-States  <=50K  "
            ],
            "text/html": [
              "\n",
              "  <div id=\"df-785d6472-6442-4ba6-b685-d063e20befd8\">\n",
              "    <div class=\"colab-df-container\">\n",
              "      <div>\n",
              "<style scoped>\n",
              "    .dataframe tbody tr th:only-of-type {\n",
              "        vertical-align: middle;\n",
              "    }\n",
              "\n",
              "    .dataframe tbody tr th {\n",
              "        vertical-align: top;\n",
              "    }\n",
              "\n",
              "    .dataframe thead th {\n",
              "        text-align: right;\n",
              "    }\n",
              "</style>\n",
              "<table border=\"1\" class=\"dataframe\">\n",
              "  <thead>\n",
              "    <tr style=\"text-align: right;\">\n",
              "      <th></th>\n",
              "      <th>age</th>\n",
              "      <th>workclass</th>\n",
              "      <th>fnlwgt</th>\n",
              "      <th>education</th>\n",
              "      <th>educational-num</th>\n",
              "      <th>marital-status</th>\n",
              "      <th>occupation</th>\n",
              "      <th>relationship</th>\n",
              "      <th>race</th>\n",
              "      <th>gender</th>\n",
              "      <th>capital-gain</th>\n",
              "      <th>capital-loss</th>\n",
              "      <th>hours-per-week</th>\n",
              "      <th>native-country</th>\n",
              "      <th>income</th>\n",
              "    </tr>\n",
              "  </thead>\n",
              "  <tbody>\n",
              "    <tr>\n",
              "      <th>41677</th>\n",
              "      <td>34</td>\n",
              "      <td>Local-gov</td>\n",
              "      <td>325792</td>\n",
              "      <td>Some-college</td>\n",
              "      <td>10</td>\n",
              "      <td>Married-civ-spouse</td>\n",
              "      <td>Craft-repair</td>\n",
              "      <td>Husband</td>\n",
              "      <td>White</td>\n",
              "      <td>Male</td>\n",
              "      <td>0</td>\n",
              "      <td>0</td>\n",
              "      <td>40</td>\n",
              "      <td>United-States</td>\n",
              "      <td>&lt;=50K</td>\n",
              "    </tr>\n",
              "    <tr>\n",
              "      <th>8130</th>\n",
              "      <td>67</td>\n",
              "      <td>Private</td>\n",
              "      <td>131656</td>\n",
              "      <td>Bachelors</td>\n",
              "      <td>13</td>\n",
              "      <td>Married-civ-spouse</td>\n",
              "      <td>Transport-moving</td>\n",
              "      <td>Husband</td>\n",
              "      <td>White</td>\n",
              "      <td>Male</td>\n",
              "      <td>0</td>\n",
              "      <td>2392</td>\n",
              "      <td>24</td>\n",
              "      <td>United-States</td>\n",
              "      <td>&gt;50K</td>\n",
              "    </tr>\n",
              "    <tr>\n",
              "      <th>23378</th>\n",
              "      <td>45</td>\n",
              "      <td>Self-emp-not-inc</td>\n",
              "      <td>40666</td>\n",
              "      <td>Assoc-voc</td>\n",
              "      <td>11</td>\n",
              "      <td>Married-civ-spouse</td>\n",
              "      <td>Farming-fishing</td>\n",
              "      <td>Husband</td>\n",
              "      <td>White</td>\n",
              "      <td>Male</td>\n",
              "      <td>0</td>\n",
              "      <td>0</td>\n",
              "      <td>60</td>\n",
              "      <td>United-States</td>\n",
              "      <td>&lt;=50K</td>\n",
              "    </tr>\n",
              "    <tr>\n",
              "      <th>2623</th>\n",
              "      <td>63</td>\n",
              "      <td>Private</td>\n",
              "      <td>153894</td>\n",
              "      <td>Assoc-voc</td>\n",
              "      <td>11</td>\n",
              "      <td>Divorced</td>\n",
              "      <td>Exec-managerial</td>\n",
              "      <td>Not-in-family</td>\n",
              "      <td>White</td>\n",
              "      <td>Female</td>\n",
              "      <td>0</td>\n",
              "      <td>0</td>\n",
              "      <td>24</td>\n",
              "      <td>Puerto-Rico</td>\n",
              "      <td>&lt;=50K</td>\n",
              "    </tr>\n",
              "    <tr>\n",
              "      <th>40141</th>\n",
              "      <td>65</td>\n",
              "      <td>Self-emp-inc</td>\n",
              "      <td>157403</td>\n",
              "      <td>HS-grad</td>\n",
              "      <td>9</td>\n",
              "      <td>Married-civ-spouse</td>\n",
              "      <td>Sales</td>\n",
              "      <td>Husband</td>\n",
              "      <td>White</td>\n",
              "      <td>Male</td>\n",
              "      <td>0</td>\n",
              "      <td>0</td>\n",
              "      <td>50</td>\n",
              "      <td>United-States</td>\n",
              "      <td>&lt;=50K</td>\n",
              "    </tr>\n",
              "  </tbody>\n",
              "</table>\n",
              "</div>\n",
              "      <button class=\"colab-df-convert\" onclick=\"convertToInteractive('df-785d6472-6442-4ba6-b685-d063e20befd8')\"\n",
              "              title=\"Convert this dataframe to an interactive table.\"\n",
              "              style=\"display:none;\">\n",
              "        \n",
              "  <svg xmlns=\"http://www.w3.org/2000/svg\" height=\"24px\"viewBox=\"0 0 24 24\"\n",
              "       width=\"24px\">\n",
              "    <path d=\"M0 0h24v24H0V0z\" fill=\"none\"/>\n",
              "    <path d=\"M18.56 5.44l.94 2.06.94-2.06 2.06-.94-2.06-.94-.94-2.06-.94 2.06-2.06.94zm-11 1L8.5 8.5l.94-2.06 2.06-.94-2.06-.94L8.5 2.5l-.94 2.06-2.06.94zm10 10l.94 2.06.94-2.06 2.06-.94-2.06-.94-.94-2.06-.94 2.06-2.06.94z\"/><path d=\"M17.41 7.96l-1.37-1.37c-.4-.4-.92-.59-1.43-.59-.52 0-1.04.2-1.43.59L10.3 9.45l-7.72 7.72c-.78.78-.78 2.05 0 2.83L4 21.41c.39.39.9.59 1.41.59.51 0 1.02-.2 1.41-.59l7.78-7.78 2.81-2.81c.8-.78.8-2.07 0-2.86zM5.41 20L4 18.59l7.72-7.72 1.47 1.35L5.41 20z\"/>\n",
              "  </svg>\n",
              "      </button>\n",
              "      \n",
              "  <style>\n",
              "    .colab-df-container {\n",
              "      display:flex;\n",
              "      flex-wrap:wrap;\n",
              "      gap: 12px;\n",
              "    }\n",
              "\n",
              "    .colab-df-convert {\n",
              "      background-color: #E8F0FE;\n",
              "      border: none;\n",
              "      border-radius: 50%;\n",
              "      cursor: pointer;\n",
              "      display: none;\n",
              "      fill: #1967D2;\n",
              "      height: 32px;\n",
              "      padding: 0 0 0 0;\n",
              "      width: 32px;\n",
              "    }\n",
              "\n",
              "    .colab-df-convert:hover {\n",
              "      background-color: #E2EBFA;\n",
              "      box-shadow: 0px 1px 2px rgba(60, 64, 67, 0.3), 0px 1px 3px 1px rgba(60, 64, 67, 0.15);\n",
              "      fill: #174EA6;\n",
              "    }\n",
              "\n",
              "    [theme=dark] .colab-df-convert {\n",
              "      background-color: #3B4455;\n",
              "      fill: #D2E3FC;\n",
              "    }\n",
              "\n",
              "    [theme=dark] .colab-df-convert:hover {\n",
              "      background-color: #434B5C;\n",
              "      box-shadow: 0px 1px 3px 1px rgba(0, 0, 0, 0.15);\n",
              "      filter: drop-shadow(0px 1px 2px rgba(0, 0, 0, 0.3));\n",
              "      fill: #FFFFFF;\n",
              "    }\n",
              "  </style>\n",
              "\n",
              "      <script>\n",
              "        const buttonEl =\n",
              "          document.querySelector('#df-785d6472-6442-4ba6-b685-d063e20befd8 button.colab-df-convert');\n",
              "        buttonEl.style.display =\n",
              "          google.colab.kernel.accessAllowed ? 'block' : 'none';\n",
              "\n",
              "        async function convertToInteractive(key) {\n",
              "          const element = document.querySelector('#df-785d6472-6442-4ba6-b685-d063e20befd8');\n",
              "          const dataTable =\n",
              "            await google.colab.kernel.invokeFunction('convertToInteractive',\n",
              "                                                     [key], {});\n",
              "          if (!dataTable) return;\n",
              "\n",
              "          const docLinkHtml = 'Like what you see? Visit the ' +\n",
              "            '<a target=\"_blank\" href=https://colab.research.google.com/notebooks/data_table.ipynb>data table notebook</a>'\n",
              "            + ' to learn more about interactive tables.';\n",
              "          element.innerHTML = '';\n",
              "          dataTable['output_type'] = 'display_data';\n",
              "          await google.colab.output.renderOutput(dataTable, element);\n",
              "          const docLink = document.createElement('div');\n",
              "          docLink.innerHTML = docLinkHtml;\n",
              "          element.appendChild(docLink);\n",
              "        }\n",
              "      </script>\n",
              "    </div>\n",
              "  </div>\n",
              "  "
            ]
          },
          "metadata": {},
          "execution_count": 32
        }
      ]
    },
    {
      "cell_type": "code",
      "source": [
        "\n",
        "df.info()"
      ],
      "metadata": {
        "colab": {
          "base_uri": "https://localhost:8080/"
        },
        "id": "HVOF0QDuSrkc",
        "outputId": "77c261ff-c855-426e-f6c9-df37978c39ab"
      },
      "execution_count": 33,
      "outputs": [
        {
          "output_type": "stream",
          "name": "stdout",
          "text": [
            "<class 'pandas.core.frame.DataFrame'>\n",
            "RangeIndex: 48842 entries, 0 to 48841\n",
            "Data columns (total 15 columns):\n",
            " #   Column           Non-Null Count  Dtype \n",
            "---  ------           --------------  ----- \n",
            " 0   age              48842 non-null  int64 \n",
            " 1   workclass        48842 non-null  object\n",
            " 2   fnlwgt           48842 non-null  int64 \n",
            " 3   education        48842 non-null  object\n",
            " 4   educational-num  48842 non-null  int64 \n",
            " 5   marital-status   48842 non-null  object\n",
            " 6   occupation       48842 non-null  object\n",
            " 7   relationship     48842 non-null  object\n",
            " 8   race             48842 non-null  object\n",
            " 9   gender           48842 non-null  object\n",
            " 10  capital-gain     48842 non-null  int64 \n",
            " 11  capital-loss     48842 non-null  int64 \n",
            " 12  hours-per-week   48842 non-null  int64 \n",
            " 13  native-country   48842 non-null  object\n",
            " 14  income           48842 non-null  object\n",
            "dtypes: int64(6), object(9)\n",
            "memory usage: 5.6+ MB\n"
          ]
        }
      ]
    },
    {
      "cell_type": "code",
      "source": [
        "df['race'].unique()\n",
        "# df['quality'].unique()"
      ],
      "metadata": {
        "colab": {
          "base_uri": "https://localhost:8080/"
        },
        "id": "SvWoZ0ZdToQK",
        "outputId": "7f1bc739-fab8-49c3-ccda-5bbe50965593"
      },
      "execution_count": 34,
      "outputs": [
        {
          "output_type": "execute_result",
          "data": {
            "text/plain": [
              "array(['Black', 'White', 'Asian-Pac-Islander', 'Other',\n",
              "       'Amer-Indian-Eskimo'], dtype=object)"
            ]
          },
          "metadata": {},
          "execution_count": 34
        }
      ]
    },
    {
      "cell_type": "code",
      "source": [
        "df = df.dropna()"
      ],
      "metadata": {
        "id": "ENXziV7pUc5b"
      },
      "execution_count": 35,
      "outputs": []
    },
    {
      "cell_type": "code",
      "source": [
        "# numerical features\n",
        "df_numerical=df.select_dtypes(include='number')\n",
        "df_numerical.head()"
      ],
      "metadata": {
        "colab": {
          "base_uri": "https://localhost:8080/",
          "height": 206
        },
        "id": "cfgLj_RlTtih",
        "outputId": "7d88310b-6580-4ba5-ca52-dce964006ee0"
      },
      "execution_count": 36,
      "outputs": [
        {
          "output_type": "execute_result",
          "data": {
            "text/plain": [
              "   age  fnlwgt  educational-num  capital-gain  capital-loss  hours-per-week\n",
              "0   25  226802                7             0             0              40\n",
              "1   38   89814                9             0             0              50\n",
              "2   28  336951               12             0             0              40\n",
              "3   44  160323               10          7688             0              40\n",
              "4   18  103497               10             0             0              30"
            ],
            "text/html": [
              "\n",
              "  <div id=\"df-c9bebf7b-b624-42dd-81c2-42134e733723\">\n",
              "    <div class=\"colab-df-container\">\n",
              "      <div>\n",
              "<style scoped>\n",
              "    .dataframe tbody tr th:only-of-type {\n",
              "        vertical-align: middle;\n",
              "    }\n",
              "\n",
              "    .dataframe tbody tr th {\n",
              "        vertical-align: top;\n",
              "    }\n",
              "\n",
              "    .dataframe thead th {\n",
              "        text-align: right;\n",
              "    }\n",
              "</style>\n",
              "<table border=\"1\" class=\"dataframe\">\n",
              "  <thead>\n",
              "    <tr style=\"text-align: right;\">\n",
              "      <th></th>\n",
              "      <th>age</th>\n",
              "      <th>fnlwgt</th>\n",
              "      <th>educational-num</th>\n",
              "      <th>capital-gain</th>\n",
              "      <th>capital-loss</th>\n",
              "      <th>hours-per-week</th>\n",
              "    </tr>\n",
              "  </thead>\n",
              "  <tbody>\n",
              "    <tr>\n",
              "      <th>0</th>\n",
              "      <td>25</td>\n",
              "      <td>226802</td>\n",
              "      <td>7</td>\n",
              "      <td>0</td>\n",
              "      <td>0</td>\n",
              "      <td>40</td>\n",
              "    </tr>\n",
              "    <tr>\n",
              "      <th>1</th>\n",
              "      <td>38</td>\n",
              "      <td>89814</td>\n",
              "      <td>9</td>\n",
              "      <td>0</td>\n",
              "      <td>0</td>\n",
              "      <td>50</td>\n",
              "    </tr>\n",
              "    <tr>\n",
              "      <th>2</th>\n",
              "      <td>28</td>\n",
              "      <td>336951</td>\n",
              "      <td>12</td>\n",
              "      <td>0</td>\n",
              "      <td>0</td>\n",
              "      <td>40</td>\n",
              "    </tr>\n",
              "    <tr>\n",
              "      <th>3</th>\n",
              "      <td>44</td>\n",
              "      <td>160323</td>\n",
              "      <td>10</td>\n",
              "      <td>7688</td>\n",
              "      <td>0</td>\n",
              "      <td>40</td>\n",
              "    </tr>\n",
              "    <tr>\n",
              "      <th>4</th>\n",
              "      <td>18</td>\n",
              "      <td>103497</td>\n",
              "      <td>10</td>\n",
              "      <td>0</td>\n",
              "      <td>0</td>\n",
              "      <td>30</td>\n",
              "    </tr>\n",
              "  </tbody>\n",
              "</table>\n",
              "</div>\n",
              "      <button class=\"colab-df-convert\" onclick=\"convertToInteractive('df-c9bebf7b-b624-42dd-81c2-42134e733723')\"\n",
              "              title=\"Convert this dataframe to an interactive table.\"\n",
              "              style=\"display:none;\">\n",
              "        \n",
              "  <svg xmlns=\"http://www.w3.org/2000/svg\" height=\"24px\"viewBox=\"0 0 24 24\"\n",
              "       width=\"24px\">\n",
              "    <path d=\"M0 0h24v24H0V0z\" fill=\"none\"/>\n",
              "    <path d=\"M18.56 5.44l.94 2.06.94-2.06 2.06-.94-2.06-.94-.94-2.06-.94 2.06-2.06.94zm-11 1L8.5 8.5l.94-2.06 2.06-.94-2.06-.94L8.5 2.5l-.94 2.06-2.06.94zm10 10l.94 2.06.94-2.06 2.06-.94-2.06-.94-.94-2.06-.94 2.06-2.06.94z\"/><path d=\"M17.41 7.96l-1.37-1.37c-.4-.4-.92-.59-1.43-.59-.52 0-1.04.2-1.43.59L10.3 9.45l-7.72 7.72c-.78.78-.78 2.05 0 2.83L4 21.41c.39.39.9.59 1.41.59.51 0 1.02-.2 1.41-.59l7.78-7.78 2.81-2.81c.8-.78.8-2.07 0-2.86zM5.41 20L4 18.59l7.72-7.72 1.47 1.35L5.41 20z\"/>\n",
              "  </svg>\n",
              "      </button>\n",
              "      \n",
              "  <style>\n",
              "    .colab-df-container {\n",
              "      display:flex;\n",
              "      flex-wrap:wrap;\n",
              "      gap: 12px;\n",
              "    }\n",
              "\n",
              "    .colab-df-convert {\n",
              "      background-color: #E8F0FE;\n",
              "      border: none;\n",
              "      border-radius: 50%;\n",
              "      cursor: pointer;\n",
              "      display: none;\n",
              "      fill: #1967D2;\n",
              "      height: 32px;\n",
              "      padding: 0 0 0 0;\n",
              "      width: 32px;\n",
              "    }\n",
              "\n",
              "    .colab-df-convert:hover {\n",
              "      background-color: #E2EBFA;\n",
              "      box-shadow: 0px 1px 2px rgba(60, 64, 67, 0.3), 0px 1px 3px 1px rgba(60, 64, 67, 0.15);\n",
              "      fill: #174EA6;\n",
              "    }\n",
              "\n",
              "    [theme=dark] .colab-df-convert {\n",
              "      background-color: #3B4455;\n",
              "      fill: #D2E3FC;\n",
              "    }\n",
              "\n",
              "    [theme=dark] .colab-df-convert:hover {\n",
              "      background-color: #434B5C;\n",
              "      box-shadow: 0px 1px 3px 1px rgba(0, 0, 0, 0.15);\n",
              "      filter: drop-shadow(0px 1px 2px rgba(0, 0, 0, 0.3));\n",
              "      fill: #FFFFFF;\n",
              "    }\n",
              "  </style>\n",
              "\n",
              "      <script>\n",
              "        const buttonEl =\n",
              "          document.querySelector('#df-c9bebf7b-b624-42dd-81c2-42134e733723 button.colab-df-convert');\n",
              "        buttonEl.style.display =\n",
              "          google.colab.kernel.accessAllowed ? 'block' : 'none';\n",
              "\n",
              "        async function convertToInteractive(key) {\n",
              "          const element = document.querySelector('#df-c9bebf7b-b624-42dd-81c2-42134e733723');\n",
              "          const dataTable =\n",
              "            await google.colab.kernel.invokeFunction('convertToInteractive',\n",
              "                                                     [key], {});\n",
              "          if (!dataTable) return;\n",
              "\n",
              "          const docLinkHtml = 'Like what you see? Visit the ' +\n",
              "            '<a target=\"_blank\" href=https://colab.research.google.com/notebooks/data_table.ipynb>data table notebook</a>'\n",
              "            + ' to learn more about interactive tables.';\n",
              "          element.innerHTML = '';\n",
              "          dataTable['output_type'] = 'display_data';\n",
              "          await google.colab.output.renderOutput(dataTable, element);\n",
              "          const docLink = document.createElement('div');\n",
              "          docLink.innerHTML = docLinkHtml;\n",
              "          element.appendChild(docLink);\n",
              "        }\n",
              "      </script>\n",
              "    </div>\n",
              "  </div>\n",
              "  "
            ]
          },
          "metadata": {},
          "execution_count": 36
        }
      ]
    },
    {
      "cell_type": "code",
      "source": [
        "df_numerical.columns"
      ],
      "metadata": {
        "colab": {
          "base_uri": "https://localhost:8080/"
        },
        "id": "Tl6rlzdGqyKc",
        "outputId": "6420c363-728f-4f84-dcfe-4d5935958e44"
      },
      "execution_count": 43,
      "outputs": [
        {
          "output_type": "execute_result",
          "data": {
            "text/plain": [
              "Index(['age', 'fnlwgt', 'educational-num', 'capital-gain', 'capital-loss',\n",
              "       'hours-per-week'],\n",
              "      dtype='object')"
            ]
          },
          "metadata": {},
          "execution_count": 43
        }
      ]
    },
    {
      "cell_type": "code",
      "source": [
        "# categorical features\n",
        "df_categorical=df.select_dtypes(exclude='number')\n",
        "variables_categorical=df_categorical.columns"
      ],
      "metadata": {
        "id": "KMUL0icnlgZN"
      },
      "execution_count": 37,
      "outputs": []
    },
    {
      "cell_type": "code",
      "source": [
        "# splitting\n",
        "from sklearn.model_selection import train_test_split\n",
        "X=df.drop('income',axis=1)\n",
        "y=df['income']\n",
        "\n",
        "\n",
        "X_train, X_test, y_train, y_test = train_test_split(\n",
        "    X, y, \n",
        "    test_size=0.2, random_state=42\n",
        ")"
      ],
      "metadata": {
        "id": "4OZeAlsnUcrU"
      },
      "execution_count": 38,
      "outputs": []
    },
    {
      "cell_type": "code",
      "source": [
        "variables_categorical"
      ],
      "metadata": {
        "colab": {
          "base_uri": "https://localhost:8080/"
        },
        "id": "st0mX9iho2gM",
        "outputId": "3824e045-6646-4750-b84b-f84d6da4b21b"
      },
      "execution_count": 39,
      "outputs": [
        {
          "output_type": "execute_result",
          "data": {
            "text/plain": [
              "Index(['workclass', 'education', 'marital-status', 'occupation',\n",
              "       'relationship', 'race', 'gender', 'native-country', 'income'],\n",
              "      dtype='object')"
            ]
          },
          "metadata": {},
          "execution_count": 39
        }
      ]
    },
    {
      "cell_type": "code",
      "source": [
        "from sklearn.compose import make_column_transformer\n",
        "from sklearn.preprocessing import MinMaxScaler, OneHotEncoder\n",
        "transformer = make_column_transformer(\n",
        "    (MinMaxScaler(), \n",
        "        ['age', 'fnlwgt', 'educational-num', 'capital-gain', 'capital-loss','hours-per-week']),\n",
        "    (OneHotEncoder(handle_unknown='ignore'), \n",
        "        ['workclass', 'education', 'marital-status', 'occupation','relationship', 'race', 'gender', 'native-country'])\n",
        ")"
      ],
      "metadata": {
        "id": "JWZRi3svqn38"
      },
      "execution_count": 44,
      "outputs": []
    },
    {
      "cell_type": "code",
      "source": [
        "# Fit\n",
        "transformer.fit(X_train)\n",
        "\n",
        "# Apply the transformation\n",
        "X_train = transformer.transform(X_train).toarray()\n",
        "X_test = transformer.transform(X_test).toarray()\n",
        "\n"
      ],
      "metadata": {
        "id": "sOcbxXiwrW5s"
      },
      "execution_count": 45,
      "outputs": []
    },
    {
      "cell_type": "code",
      "source": [
        "from sklearn.preprocessing import LabelEncoder\n",
        "label_encoder = LabelEncoder()\n",
        "y_train=label_encoder.fit_transform(y_train)\n",
        "y_test=label_encoder.fit_transform(y_test)"
      ],
      "metadata": {
        "id": "xnCiPCt6mTEL"
      },
      "execution_count": 46,
      "outputs": []
    },
    {
      "cell_type": "code",
      "source": [
        "import tensorflow as tf\n",
        "tf.random.set_seed(42)\n",
        "\n",
        "# 128 + 256 + 256 neurons in 3 hidden layers + 1 sigmoid activation function\n",
        "model = tf.keras.Sequential([\n",
        "    tf.keras.layers.Dense(128, activation='relu'),\n",
        "    tf.keras.layers.Dense(256, activation='relu'),\n",
        "    tf.keras.layers.Dense(256, activation='relu'),\n",
        "    tf.keras.layers.Dense(1, activation='sigmoid')\n",
        "])\n",
        "\n",
        "# Adam is gradient descent\n",
        "model.compile(\n",
        "    loss=tf.keras.losses.binary_crossentropy,\n",
        "    optimizer=tf.keras.optimizers.Adam(lr=0.03),\n",
        "    metrics=[\n",
        "        tf.keras.metrics.BinaryAccuracy(name='accuracy'),\n",
        "        tf.keras.metrics.Precision(name='precision'),\n",
        "        tf.keras.metrics.Recall(name='recall')\n",
        "    ]\n",
        ")\n",
        "\n",
        "history = model.fit(X_train, y_train, epochs=100)"
      ],
      "metadata": {
        "id": "WxE1N2YUWqt0",
        "colab": {
          "base_uri": "https://localhost:8080/"
        },
        "outputId": "b7c480a3-f976-4534-d886-8fe19da1a444"
      },
      "execution_count": 50,
      "outputs": [
        {
          "output_type": "stream",
          "name": "stderr",
          "text": [
            "WARNING:absl:`lr` is deprecated in Keras optimizer, please use `learning_rate` or use the legacy optimizer, e.g.,tf.keras.optimizers.legacy.Adam.\n"
          ]
        },
        {
          "output_type": "stream",
          "name": "stdout",
          "text": [
            "Epoch 1/100\n",
            "1222/1222 [==============================] - 7s 4ms/step - loss: 0.3515 - accuracy: 0.8346 - precision: 0.6965 - recall: 0.5533\n",
            "Epoch 2/100\n",
            "1222/1222 [==============================] - 10s 8ms/step - loss: 0.3265 - accuracy: 0.8486 - precision: 0.7302 - recall: 0.5873\n",
            "Epoch 3/100\n",
            "1222/1222 [==============================] - 9s 7ms/step - loss: 0.3176 - accuracy: 0.8514 - precision: 0.7347 - recall: 0.5977\n",
            "Epoch 4/100\n",
            "1222/1222 [==============================] - 8s 6ms/step - loss: 0.3120 - accuracy: 0.8555 - precision: 0.7415 - recall: 0.6125\n",
            "Epoch 5/100\n",
            "1222/1222 [==============================] - 7s 6ms/step - loss: 0.3075 - accuracy: 0.8582 - precision: 0.7474 - recall: 0.6200\n",
            "Epoch 6/100\n",
            "1222/1222 [==============================] - 7s 5ms/step - loss: 0.3024 - accuracy: 0.8594 - precision: 0.7516 - recall: 0.6205\n",
            "Epoch 7/100\n",
            "1222/1222 [==============================] - 5s 4ms/step - loss: 0.2967 - accuracy: 0.8597 - precision: 0.7551 - recall: 0.6164\n",
            "Epoch 8/100\n",
            "1222/1222 [==============================] - 6s 5ms/step - loss: 0.2938 - accuracy: 0.8637 - precision: 0.7621 - recall: 0.6302\n",
            "Epoch 9/100\n",
            "1222/1222 [==============================] - 5s 4ms/step - loss: 0.2894 - accuracy: 0.8639 - precision: 0.7660 - recall: 0.6252\n",
            "Epoch 10/100\n",
            "1222/1222 [==============================] - 6s 5ms/step - loss: 0.2848 - accuracy: 0.8659 - precision: 0.7614 - recall: 0.6442\n",
            "Epoch 11/100\n",
            "1222/1222 [==============================] - 5s 4ms/step - loss: 0.2796 - accuracy: 0.8692 - precision: 0.7681 - recall: 0.6533\n",
            "Epoch 12/100\n",
            "1222/1222 [==============================] - 6s 5ms/step - loss: 0.2757 - accuracy: 0.8700 - precision: 0.7697 - recall: 0.6558\n",
            "Epoch 13/100\n",
            "1222/1222 [==============================] - 5s 4ms/step - loss: 0.2716 - accuracy: 0.8719 - precision: 0.7762 - recall: 0.6568\n",
            "Epoch 14/100\n",
            "1222/1222 [==============================] - 5s 4ms/step - loss: 0.2679 - accuracy: 0.8746 - precision: 0.7816 - recall: 0.6640\n",
            "Epoch 15/100\n",
            "1222/1222 [==============================] - 6s 5ms/step - loss: 0.2650 - accuracy: 0.8754 - precision: 0.7802 - recall: 0.6706\n",
            "Epoch 16/100\n",
            "1222/1222 [==============================] - 5s 4ms/step - loss: 0.2616 - accuracy: 0.8754 - precision: 0.7775 - recall: 0.6751\n",
            "Epoch 17/100\n",
            "1222/1222 [==============================] - 6s 5ms/step - loss: 0.2577 - accuracy: 0.8778 - precision: 0.7849 - recall: 0.6777\n",
            "Epoch 18/100\n",
            "1222/1222 [==============================] - 5s 4ms/step - loss: 0.2556 - accuracy: 0.8767 - precision: 0.7788 - recall: 0.6810\n",
            "Epoch 19/100\n",
            "1222/1222 [==============================] - 5s 4ms/step - loss: 0.2514 - accuracy: 0.8792 - precision: 0.7841 - recall: 0.6870\n",
            "Epoch 20/100\n",
            "1222/1222 [==============================] - 6s 5ms/step - loss: 0.2500 - accuracy: 0.8819 - precision: 0.7871 - recall: 0.6975\n",
            "Epoch 21/100\n",
            "1222/1222 [==============================] - 5s 4ms/step - loss: 0.2486 - accuracy: 0.8809 - precision: 0.7864 - recall: 0.6931\n",
            "Epoch 22/100\n",
            "1222/1222 [==============================] - 6s 5ms/step - loss: 0.2429 - accuracy: 0.8852 - precision: 0.7934 - recall: 0.7068\n",
            "Epoch 23/100\n",
            "1222/1222 [==============================] - 5s 4ms/step - loss: 0.2428 - accuracy: 0.8839 - precision: 0.7903 - recall: 0.7043\n",
            "Epoch 24/100\n",
            "1222/1222 [==============================] - 6s 5ms/step - loss: 0.2390 - accuracy: 0.8866 - precision: 0.7987 - recall: 0.7066\n",
            "Epoch 25/100\n",
            "1222/1222 [==============================] - 5s 4ms/step - loss: 0.2378 - accuracy: 0.8847 - precision: 0.7920 - recall: 0.7062\n",
            "Epoch 26/100\n",
            "1222/1222 [==============================] - 5s 4ms/step - loss: 0.2346 - accuracy: 0.8876 - precision: 0.7984 - recall: 0.7125\n",
            "Epoch 27/100\n",
            "1222/1222 [==============================] - 6s 5ms/step - loss: 0.2328 - accuracy: 0.8868 - precision: 0.7973 - recall: 0.7097\n",
            "Epoch 28/100\n",
            "1222/1222 [==============================] - 5s 4ms/step - loss: 0.2313 - accuracy: 0.8881 - precision: 0.8007 - recall: 0.7121\n",
            "Epoch 29/100\n",
            "1222/1222 [==============================] - 6s 5ms/step - loss: 0.2303 - accuracy: 0.8885 - precision: 0.7986 - recall: 0.7175\n",
            "Epoch 30/100\n",
            "1222/1222 [==============================] - 5s 4ms/step - loss: 0.2285 - accuracy: 0.8894 - precision: 0.8047 - recall: 0.7130\n",
            "Epoch 31/100\n",
            "1222/1222 [==============================] - 5s 4ms/step - loss: 0.2273 - accuracy: 0.8917 - precision: 0.8047 - recall: 0.7258\n",
            "Epoch 32/100\n",
            "1222/1222 [==============================] - 6s 5ms/step - loss: 0.2220 - accuracy: 0.8936 - precision: 0.8111 - recall: 0.7270\n",
            "Epoch 33/100\n",
            "1222/1222 [==============================] - 5s 4ms/step - loss: 0.2207 - accuracy: 0.8919 - precision: 0.8063 - recall: 0.7246\n",
            "Epoch 34/100\n",
            "1222/1222 [==============================] - 7s 6ms/step - loss: 0.2210 - accuracy: 0.8930 - precision: 0.8095 - recall: 0.7259\n",
            "Epoch 35/100\n",
            "1222/1222 [==============================] - 5s 4ms/step - loss: 0.2199 - accuracy: 0.8937 - precision: 0.8110 - recall: 0.7276\n",
            "Epoch 36/100\n",
            "1222/1222 [==============================] - 5s 4ms/step - loss: 0.2194 - accuracy: 0.8951 - precision: 0.8109 - recall: 0.7356\n",
            "Epoch 37/100\n",
            "1222/1222 [==============================] - 5s 4ms/step - loss: 0.2133 - accuracy: 0.8968 - precision: 0.8171 - recall: 0.7352\n",
            "Epoch 38/100\n",
            "1222/1222 [==============================] - 5s 4ms/step - loss: 0.2143 - accuracy: 0.8970 - precision: 0.8163 - recall: 0.7377\n",
            "Epoch 39/100\n",
            "1222/1222 [==============================] - 6s 5ms/step - loss: 0.2126 - accuracy: 0.8980 - precision: 0.8181 - recall: 0.7404\n",
            "Epoch 40/100\n",
            "1222/1222 [==============================] - 5s 4ms/step - loss: 0.2134 - accuracy: 0.8980 - precision: 0.8192 - recall: 0.7391\n",
            "Epoch 41/100\n",
            "1222/1222 [==============================] - 5s 4ms/step - loss: 0.2098 - accuracy: 0.8985 - precision: 0.8204 - recall: 0.7401\n",
            "Epoch 42/100\n",
            "1222/1222 [==============================] - 5s 4ms/step - loss: 0.2113 - accuracy: 0.8977 - precision: 0.8168 - recall: 0.7407\n",
            "Epoch 43/100\n",
            "1222/1222 [==============================] - 5s 4ms/step - loss: 0.2048 - accuracy: 0.9005 - precision: 0.8231 - recall: 0.7469\n",
            "Epoch 44/100\n",
            "1222/1222 [==============================] - 6s 5ms/step - loss: 0.2085 - accuracy: 0.8998 - precision: 0.8216 - recall: 0.7449\n",
            "Epoch 45/100\n",
            "1222/1222 [==============================] - 5s 4ms/step - loss: 0.2032 - accuracy: 0.9028 - precision: 0.8267 - recall: 0.7539\n",
            "Epoch 46/100\n",
            "1222/1222 [==============================] - 6s 5ms/step - loss: 0.2004 - accuracy: 0.9026 - precision: 0.8254 - recall: 0.7547\n",
            "Epoch 47/100\n",
            "1222/1222 [==============================] - 5s 4ms/step - loss: 0.2027 - accuracy: 0.9015 - precision: 0.8264 - recall: 0.7474\n",
            "Epoch 48/100\n",
            "1222/1222 [==============================] - 5s 4ms/step - loss: 0.2016 - accuracy: 0.9024 - precision: 0.8293 - recall: 0.7481\n",
            "Epoch 49/100\n",
            "1222/1222 [==============================] - 6s 5ms/step - loss: 0.1986 - accuracy: 0.9036 - precision: 0.8285 - recall: 0.7553\n",
            "Epoch 50/100\n",
            "1222/1222 [==============================] - 5s 4ms/step - loss: 0.1947 - accuracy: 0.9049 - precision: 0.8325 - recall: 0.7571\n",
            "Epoch 51/100\n",
            "1222/1222 [==============================] - 6s 5ms/step - loss: 0.2020 - accuracy: 0.9053 - precision: 0.8329 - recall: 0.7581\n",
            "Epoch 52/100\n",
            "1222/1222 [==============================] - 5s 4ms/step - loss: 0.1961 - accuracy: 0.9054 - precision: 0.8344 - recall: 0.7571\n",
            "Epoch 53/100\n",
            "1222/1222 [==============================] - 5s 4ms/step - loss: 0.1922 - accuracy: 0.9072 - precision: 0.8343 - recall: 0.7664\n",
            "Epoch 54/100\n",
            "1222/1222 [==============================] - 6s 5ms/step - loss: 0.1932 - accuracy: 0.9070 - precision: 0.8395 - recall: 0.7581\n",
            "Epoch 55/100\n",
            "1222/1222 [==============================] - 5s 4ms/step - loss: 0.1896 - accuracy: 0.9087 - precision: 0.8397 - recall: 0.7667\n",
            "Epoch 56/100\n",
            "1222/1222 [==============================] - 6s 5ms/step - loss: 0.1918 - accuracy: 0.9084 - precision: 0.8369 - recall: 0.7692\n",
            "Epoch 57/100\n",
            "1222/1222 [==============================] - 5s 4ms/step - loss: 0.1913 - accuracy: 0.9080 - precision: 0.8410 - recall: 0.7612\n",
            "Epoch 58/100\n",
            "1222/1222 [==============================] - 5s 4ms/step - loss: 0.1874 - accuracy: 0.9086 - precision: 0.8372 - recall: 0.7697\n",
            "Epoch 59/100\n",
            "1222/1222 [==============================] - 6s 5ms/step - loss: 0.1863 - accuracy: 0.9091 - precision: 0.8393 - recall: 0.7692\n",
            "Epoch 60/100\n",
            "1222/1222 [==============================] - 5s 4ms/step - loss: 0.1846 - accuracy: 0.9109 - precision: 0.8450 - recall: 0.7709\n",
            "Epoch 61/100\n",
            "1222/1222 [==============================] - 6s 5ms/step - loss: 0.1847 - accuracy: 0.9107 - precision: 0.8418 - recall: 0.7742\n",
            "Epoch 62/100\n",
            "1222/1222 [==============================] - 5s 4ms/step - loss: 0.1846 - accuracy: 0.9117 - precision: 0.8428 - recall: 0.7778\n",
            "Epoch 63/100\n",
            "1222/1222 [==============================] - 5s 4ms/step - loss: 0.1797 - accuracy: 0.9124 - precision: 0.8462 - recall: 0.7771\n",
            "Epoch 64/100\n",
            "1222/1222 [==============================] - 5s 4ms/step - loss: 0.1821 - accuracy: 0.9119 - precision: 0.8440 - recall: 0.7774\n",
            "Epoch 65/100\n",
            "1222/1222 [==============================] - 5s 4ms/step - loss: 0.1805 - accuracy: 0.9136 - precision: 0.8479 - recall: 0.7807\n",
            "Epoch 66/100\n",
            "1222/1222 [==============================] - 6s 5ms/step - loss: 0.1781 - accuracy: 0.9150 - precision: 0.8511 - recall: 0.7835\n",
            "Epoch 67/100\n",
            "1222/1222 [==============================] - 5s 4ms/step - loss: 0.1788 - accuracy: 0.9138 - precision: 0.8498 - recall: 0.7794\n",
            "Epoch 68/100\n",
            "1222/1222 [==============================] - 6s 5ms/step - loss: 0.1758 - accuracy: 0.9147 - precision: 0.8519 - recall: 0.7814\n",
            "Epoch 69/100\n",
            "1222/1222 [==============================] - 5s 4ms/step - loss: 0.1760 - accuracy: 0.9164 - precision: 0.8533 - recall: 0.7876\n",
            "Epoch 70/100\n",
            "1222/1222 [==============================] - 5s 4ms/step - loss: 0.1745 - accuracy: 0.9158 - precision: 0.8562 - recall: 0.7813\n",
            "Epoch 71/100\n",
            "1222/1222 [==============================] - 6s 5ms/step - loss: 0.1762 - accuracy: 0.9155 - precision: 0.8524 - recall: 0.7846\n",
            "Epoch 72/100\n",
            "1222/1222 [==============================] - 5s 4ms/step - loss: 0.1720 - accuracy: 0.9171 - precision: 0.8565 - recall: 0.7870\n",
            "Epoch 73/100\n",
            "1222/1222 [==============================] - 6s 5ms/step - loss: 0.1713 - accuracy: 0.9181 - precision: 0.8574 - recall: 0.7910\n",
            "Epoch 74/100\n",
            "1222/1222 [==============================] - 5s 4ms/step - loss: 0.1749 - accuracy: 0.9176 - precision: 0.8562 - recall: 0.7901\n",
            "Epoch 75/100\n",
            "1222/1222 [==============================] - 5s 4ms/step - loss: 0.1695 - accuracy: 0.9185 - precision: 0.8579 - recall: 0.7924\n",
            "Epoch 76/100\n",
            "1222/1222 [==============================] - 6s 5ms/step - loss: 0.1722 - accuracy: 0.9182 - precision: 0.8570 - recall: 0.7917\n",
            "Epoch 77/100\n",
            "1222/1222 [==============================] - 5s 4ms/step - loss: 0.1655 - accuracy: 0.9200 - precision: 0.8621 - recall: 0.7945\n",
            "Epoch 78/100\n",
            "1222/1222 [==============================] - 6s 5ms/step - loss: 0.1672 - accuracy: 0.9195 - precision: 0.8606 - recall: 0.7938\n",
            "Epoch 79/100\n",
            "1222/1222 [==============================] - 5s 4ms/step - loss: 0.1626 - accuracy: 0.9222 - precision: 0.8678 - recall: 0.7980\n",
            "Epoch 80/100\n",
            "1222/1222 [==============================] - 5s 4ms/step - loss: 0.1718 - accuracy: 0.9182 - precision: 0.8577 - recall: 0.7911\n",
            "Epoch 81/100\n",
            "1222/1222 [==============================] - 6s 5ms/step - loss: 0.1612 - accuracy: 0.9224 - precision: 0.8648 - recall: 0.8026\n",
            "Epoch 82/100\n",
            "1222/1222 [==============================] - 5s 4ms/step - loss: 0.1647 - accuracy: 0.9212 - precision: 0.8649 - recall: 0.7967\n",
            "Epoch 83/100\n",
            "1222/1222 [==============================] - 6s 5ms/step - loss: 0.1606 - accuracy: 0.9216 - precision: 0.8645 - recall: 0.7994\n",
            "Epoch 84/100\n",
            "1222/1222 [==============================] - 5s 4ms/step - loss: 0.1646 - accuracy: 0.9214 - precision: 0.8641 - recall: 0.7989\n",
            "Epoch 85/100\n",
            "1222/1222 [==============================] - 5s 4ms/step - loss: 0.1599 - accuracy: 0.9227 - precision: 0.8683 - recall: 0.8000\n",
            "Epoch 86/100\n",
            "1222/1222 [==============================] - 6s 5ms/step - loss: 0.1604 - accuracy: 0.9243 - precision: 0.8689 - recall: 0.8070\n",
            "Epoch 87/100\n",
            "1222/1222 [==============================] - 5s 4ms/step - loss: 0.1576 - accuracy: 0.9247 - precision: 0.8709 - recall: 0.8066\n",
            "Epoch 88/100\n",
            "1222/1222 [==============================] - 6s 5ms/step - loss: 0.1579 - accuracy: 0.9240 - precision: 0.8682 - recall: 0.8066\n",
            "Epoch 89/100\n",
            "1222/1222 [==============================] - 5s 4ms/step - loss: 0.1570 - accuracy: 0.9239 - precision: 0.8680 - recall: 0.8062\n",
            "Epoch 90/100\n",
            "1222/1222 [==============================] - 5s 4ms/step - loss: 0.1656 - accuracy: 0.9233 - precision: 0.8673 - recall: 0.8041\n",
            "Epoch 91/100\n",
            "1222/1222 [==============================] - 6s 5ms/step - loss: 0.1581 - accuracy: 0.9254 - precision: 0.8703 - recall: 0.8107\n",
            "Epoch 92/100\n",
            "1222/1222 [==============================] - 5s 4ms/step - loss: 0.1497 - accuracy: 0.9279 - precision: 0.8737 - recall: 0.8182\n",
            "Epoch 93/100\n",
            "1222/1222 [==============================] - 6s 5ms/step - loss: 0.1507 - accuracy: 0.9267 - precision: 0.8739 - recall: 0.8125\n",
            "Epoch 94/100\n",
            "1222/1222 [==============================] - 5s 4ms/step - loss: 0.1563 - accuracy: 0.9257 - precision: 0.8706 - recall: 0.8117\n",
            "Epoch 95/100\n",
            "1222/1222 [==============================] - 5s 4ms/step - loss: 0.1520 - accuracy: 0.9266 - precision: 0.8728 - recall: 0.8135\n",
            "Epoch 96/100\n",
            "1222/1222 [==============================] - 6s 5ms/step - loss: 0.1539 - accuracy: 0.9272 - precision: 0.8730 - recall: 0.8160\n",
            "Epoch 97/100\n",
            "1222/1222 [==============================] - 5s 4ms/step - loss: 0.1551 - accuracy: 0.9262 - precision: 0.8716 - recall: 0.8128\n",
            "Epoch 98/100\n",
            "1222/1222 [==============================] - 6s 5ms/step - loss: 0.1532 - accuracy: 0.9291 - precision: 0.8779 - recall: 0.8190\n",
            "Epoch 99/100\n",
            "1222/1222 [==============================] - 5s 4ms/step - loss: 0.1495 - accuracy: 0.9278 - precision: 0.8757 - recall: 0.8157\n",
            "Epoch 100/100\n",
            "1222/1222 [==============================] - 5s 4ms/step - loss: 0.1454 - accuracy: 0.9296 - precision: 0.8768 - recall: 0.8231\n"
          ]
        }
      ]
    },
    {
      "cell_type": "code",
      "source": [
        "import matplotlib.pyplot as plt\n",
        "from matplotlib import rcParams\n",
        "rcParams['figure.figsize'] = (18, 8)\n",
        "rcParams['axes.spines.top'] = False\n",
        "rcParams['axes.spines.right'] = False"
      ],
      "metadata": {
        "id": "iySGUz-cXl-D"
      },
      "execution_count": 51,
      "outputs": []
    },
    {
      "cell_type": "code",
      "source": [
        "plt.plot(\n",
        "    np.arange(1, 101), \n",
        "    history.history['loss'], label='Loss'\n",
        ")\n",
        "plt.plot(\n",
        "    np.arange(1, 101), \n",
        "    history.history['accuracy'], label='Accuracy'\n",
        ")\n",
        "plt.plot(\n",
        "    np.arange(1, 101), \n",
        "    history.history['precision'], label='Precision'\n",
        ")\n",
        "plt.plot(\n",
        "    np.arange(1, 101), \n",
        "    history.history['recall'], label='Recall'\n",
        ")\n",
        "plt.title('Evaluation metrics', size=20)\n",
        "plt.xlabel('Epoch', size=14)\n",
        "plt.legend();"
      ],
      "metadata": {
        "colab": {
          "base_uri": "https://localhost:8080/",
          "height": 731
        },
        "id": "70ZOenNBXl7l",
        "outputId": "f2005315-4548-46dd-a38e-391f0526749b"
      },
      "execution_count": 52,
      "outputs": [
        {
          "output_type": "display_data",
          "data": {
            "text/plain": [
              "<Figure size 1800x800 with 1 Axes>"
            ],
            "image/png": "[encoded data removed]"
          },
          "metadata": {}
        }
      ]
    },
    {
      "cell_type": "code",
      "source": [
        "predictions = model.predict(X_test)"
      ],
      "metadata": {
        "colab": {
          "base_uri": "https://localhost:8080/"
        },
        "id": "smM9jxfLXl20",
        "outputId": "e368648c-85ce-42f8-ce32-dbcbf6bc3b54"
      },
      "execution_count": 54,
      "outputs": [
        {
          "output_type": "stream",
          "name": "stdout",
          "text": [
            "306/306 [==============================] - 1s 4ms/step\n"
          ]
        }
      ]
    },
    {
      "cell_type": "code",
      "source": [
        "prediction_classes = [\n",
        "    1 if prob > 0.5 else 0 for prob in np.ravel(predictions)\n",
        "]"
      ],
      "metadata": {
        "id": "JTreIPZMXl0L"
      },
      "execution_count": 55,
      "outputs": []
    },
    {
      "cell_type": "code",
      "source": [
        "from sklearn.metrics import confusion_matrix\n",
        "import seaborn as sns\n",
        "\n",
        "cm=confusion_matrix(y_test, prediction_classes)\n",
        "\n",
        "\n",
        "# Generate heatmap of confusion matrix\n",
        "sns.heatmap(cm, annot=True, cmap='Blues',fmt='.2f')\n",
        "\n",
        "# Add axis labels and title\n",
        "plt.xlabel('Predicted labels')\n",
        "plt.ylabel('True labels')\n",
        "plt.title('Confusion Matrix')\n",
        "\n",
        "# Display plot\n",
        "plt.show()"
      ],
      "metadata": {
        "colab": {
          "base_uri": "https://localhost:8080/",
          "height": 718
        },
        "id": "mfahbMGIXlxl",
        "outputId": "d33725eb-a094-42d0-afa9-70454ddc23ac"
      },
      "execution_count": 61,
      "outputs": [
        {
          "output_type": "display_data",
          "data": {
            "text/plain": [
              "<Figure size 1800x800 with 2 Axes>"
            ],
            "image/png": "[encoded data removed]"
          },
          "metadata": {}
        }
      ]
    },
    {
      "cell_type": "code",
      "source": [
        "from sklearn.metrics import accuracy_score, precision_score, recall_score\n",
        "\n",
        "\n",
        "print(f'Accuracy: {accuracy_score(y_test, prediction_classes):.2f}')\n",
        "print(f'Precision: {precision_score(y_test, prediction_classes):.2f}')\n",
        "print(f'Recall: {recall_score(y_test, prediction_classes):.2f}')"
      ],
      "metadata": {
        "colab": {
          "base_uri": "https://localhost:8080/"
        },
        "id": "yKBlITS1Xlsz",
        "outputId": "626b40d8-18a6-42c7-cf4b-aac2d3a56a7f"
      },
      "execution_count": 57,
      "outputs": [
        {
          "output_type": "stream",
          "name": "stdout",
          "text": [
            "Accuracy: 0.83\n",
            "Precision: 0.66\n",
            "Recall: 0.60\n"
          ]
        }
      ]
    },
    {
      "cell_type": "markdown",
      "source": [],
      "metadata": {
        "id": "PYoQsthvZZDj"
      }
    },
    {
      "cell_type": "code",
      "source": [],
      "metadata": {
        "id": "OCwjVWT-Zbqy"
      },
      "execution_count": null,
      "outputs": []
    }
  ],
  "metadata": {
    "colab": {
      "provenance": []
    },
    "kernelspec": {
      "display_name": "Python 3",
      "name": "python3"
    },
    "language_info": {
      "codemirror_mode": {
        "name": "ipython",
        "version": 3
      },
      "file_extension": ".py",
      "mimetype": "text/x-python",
      "name": "python",
      "nbconvert_exporter": "python",
      "pygments_lexer": "ipython3",
      "version": "3.11.3"
    }
  },
  "nbformat": 4,
  "nbformat_minor": 0
}