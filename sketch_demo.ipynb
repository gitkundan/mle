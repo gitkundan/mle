{
 "cells": [
  {
   "cell_type": "markdown",
   "metadata": {
    "id": "y0v8Wz2xo6P9"
   },
   "source": [
    "! pip install sketch\n",
    "\n",
    "https://github.com/approximatelabs/sketch\n",
    "\n",
    "https://news.ycombinator.com/item?id=34400443\n",
    "\n",
    "sales_data.sketch.howto(\"Create some derived features from the address\")\n",
    "\n",
    "sales_data.sketch.ask(\"What columns might have PII information in them?\")\n",
    "\n"
   ]
  },
  {
   "cell_type": "code",
   "execution_count": 48,
   "metadata": {
    "id": "2jE8G3_vo8ic"
   },
   "outputs": [
    {
     "data": {
      "text/html": [
       "<div>\n",
       "<style scoped>\n",
       "    .dataframe tbody tr th:only-of-type {\n",
       "        vertical-align: middle;\n",
       "    }\n",
       "\n",
       "    .dataframe tbody tr th {\n",
       "        vertical-align: top;\n",
       "    }\n",
       "\n",
       "    .dataframe thead th {\n",
       "        text-align: right;\n",
       "    }\n",
       "</style>\n",
       "<table border=\"1\" class=\"dataframe\">\n",
       "  <thead>\n",
       "    <tr style=\"text-align: right;\">\n",
       "      <th></th>\n",
       "      <th>year</th>\n",
       "      <th>month</th>\n",
       "      <th>passengers</th>\n",
       "    </tr>\n",
       "  </thead>\n",
       "  <tbody>\n",
       "    <tr>\n",
       "      <th>0</th>\n",
       "      <td>1949</td>\n",
       "      <td>Jan</td>\n",
       "      <td>112</td>\n",
       "    </tr>\n",
       "    <tr>\n",
       "      <th>1</th>\n",
       "      <td>1949</td>\n",
       "      <td>Feb</td>\n",
       "      <td>118</td>\n",
       "    </tr>\n",
       "    <tr>\n",
       "      <th>2</th>\n",
       "      <td>1949</td>\n",
       "      <td>Mar</td>\n",
       "      <td>132</td>\n",
       "    </tr>\n",
       "    <tr>\n",
       "      <th>3</th>\n",
       "      <td>1949</td>\n",
       "      <td>Apr</td>\n",
       "      <td>129</td>\n",
       "    </tr>\n",
       "    <tr>\n",
       "      <th>4</th>\n",
       "      <td>1949</td>\n",
       "      <td>May</td>\n",
       "      <td>121</td>\n",
       "    </tr>\n",
       "    <tr>\n",
       "      <th>...</th>\n",
       "      <td>...</td>\n",
       "      <td>...</td>\n",
       "      <td>...</td>\n",
       "    </tr>\n",
       "    <tr>\n",
       "      <th>139</th>\n",
       "      <td>1960</td>\n",
       "      <td>Aug</td>\n",
       "      <td>606</td>\n",
       "    </tr>\n",
       "    <tr>\n",
       "      <th>140</th>\n",
       "      <td>1960</td>\n",
       "      <td>Sep</td>\n",
       "      <td>508</td>\n",
       "    </tr>\n",
       "    <tr>\n",
       "      <th>141</th>\n",
       "      <td>1960</td>\n",
       "      <td>Oct</td>\n",
       "      <td>461</td>\n",
       "    </tr>\n",
       "    <tr>\n",
       "      <th>142</th>\n",
       "      <td>1960</td>\n",
       "      <td>Nov</td>\n",
       "      <td>390</td>\n",
       "    </tr>\n",
       "    <tr>\n",
       "      <th>143</th>\n",
       "      <td>1960</td>\n",
       "      <td>Dec</td>\n",
       "      <td>432</td>\n",
       "    </tr>\n",
       "  </tbody>\n",
       "</table>\n",
       "<p>144 rows × 3 columns</p>\n",
       "</div>"
      ],
      "text/plain": [
       "     year month  passengers\n",
       "0    1949   Jan         112\n",
       "1    1949   Feb         118\n",
       "2    1949   Mar         132\n",
       "3    1949   Apr         129\n",
       "4    1949   May         121\n",
       "..    ...   ...         ...\n",
       "139  1960   Aug         606\n",
       "140  1960   Sep         508\n",
       "141  1960   Oct         461\n",
       "142  1960   Nov         390\n",
       "143  1960   Dec         432\n",
       "\n",
       "[144 rows x 3 columns]"
      ]
     },
     "execution_count": 48,
     "metadata": {},
     "output_type": "execute_result"
    }
   ],
   "source": [
    "import sketch\n",
    "import pandas as pd\n",
    "import matplotlib.pyplot as plt\n",
    "import seaborn as sns\n",
    "import numpy as np\n",
    "import plotly.express as px\n",
    "\n",
    "# df=sns.load_dataset('mpg')\n",
    "# df.head()\n",
    "# sns.get_dataset_names()\n",
    "df=sns.load_dataset('flights')\n",
    "df"
   ]
  },
  {
   "cell_type": "code",
   "execution_count": 49,
   "metadata": {},
   "outputs": [
    {
     "data": {
      "text/html": [
       "<div style=\"display:flex;flex-direction:row;justify-content:space-between;\">\n",
       "                <pre style=\"width: 100%; white-space: pre-wrap;\" id=\"6668055d-d750-44cd-8ae6-c4470a9ae3ce\">\n",
       "# Get the maximum passengers by month and year\n",
       "max_passengers = _.groupby(['year', 'month'])['passengers'].max().reset_index()\n",
       "\n",
       "# Print the result\n",
       "print(max_passengers)\n",
       "</pre>\n",
       "                <button style=\"height: fit-content;\" onclick=\"navigator.clipboard.writeText(JSON.parse(atob(`IlxuIyBHZXQgdGhlIG1heGltdW0gcGFzc2VuZ2VycyBieSBtb250aCBhbmQgeWVhclxubWF4X3Bhc3NlbmdlcnMgPSBfLmdyb3VwYnkoWyd5ZWFyJywgJ21vbnRoJ10pWydwYXNzZW5nZXJzJ10ubWF4KCkucmVzZXRfaW5kZXgoKVxuXG4jIFByaW50IHRoZSByZXN1bHRcbnByaW50KG1heF9wYXNzZW5nZXJzKVxuIg==`)))\">Copy</button>\n",
       "                </div>"
      ],
      "text/plain": [
       "<IPython.core.display.HTML object>"
      ]
     },
     "metadata": {},
     "output_type": "display_data"
    }
   ],
   "source": [
    "df.sketch.howto('max passengers by month and by year')"
   ]
  },
  {
   "cell_type": "code",
   "execution_count": 55,
   "metadata": {},
   "outputs": [
    {
     "data": {
      "text/html": [
       "<div>\n",
       "<style scoped>\n",
       "    .dataframe tbody tr th:only-of-type {\n",
       "        vertical-align: middle;\n",
       "    }\n",
       "\n",
       "    .dataframe tbody tr th {\n",
       "        vertical-align: top;\n",
       "    }\n",
       "\n",
       "    .dataframe thead th {\n",
       "        text-align: right;\n",
       "    }\n",
       "</style>\n",
       "<table border=\"1\" class=\"dataframe\">\n",
       "  <thead>\n",
       "    <tr style=\"text-align: right;\">\n",
       "      <th></th>\n",
       "      <th>year</th>\n",
       "      <th>passengers</th>\n",
       "    </tr>\n",
       "  </thead>\n",
       "  <tbody>\n",
       "    <tr>\n",
       "      <th>0</th>\n",
       "      <td>1949</td>\n",
       "      <td>148</td>\n",
       "    </tr>\n",
       "    <tr>\n",
       "      <th>1</th>\n",
       "      <td>1950</td>\n",
       "      <td>170</td>\n",
       "    </tr>\n",
       "    <tr>\n",
       "      <th>2</th>\n",
       "      <td>1951</td>\n",
       "      <td>199</td>\n",
       "    </tr>\n",
       "    <tr>\n",
       "      <th>3</th>\n",
       "      <td>1952</td>\n",
       "      <td>242</td>\n",
       "    </tr>\n",
       "    <tr>\n",
       "      <th>4</th>\n",
       "      <td>1953</td>\n",
       "      <td>272</td>\n",
       "    </tr>\n",
       "    <tr>\n",
       "      <th>5</th>\n",
       "      <td>1954</td>\n",
       "      <td>302</td>\n",
       "    </tr>\n",
       "    <tr>\n",
       "      <th>6</th>\n",
       "      <td>1955</td>\n",
       "      <td>364</td>\n",
       "    </tr>\n",
       "    <tr>\n",
       "      <th>7</th>\n",
       "      <td>1956</td>\n",
       "      <td>413</td>\n",
       "    </tr>\n",
       "    <tr>\n",
       "      <th>8</th>\n",
       "      <td>1957</td>\n",
       "      <td>467</td>\n",
       "    </tr>\n",
       "    <tr>\n",
       "      <th>9</th>\n",
       "      <td>1958</td>\n",
       "      <td>505</td>\n",
       "    </tr>\n",
       "    <tr>\n",
       "      <th>10</th>\n",
       "      <td>1959</td>\n",
       "      <td>559</td>\n",
       "    </tr>\n",
       "    <tr>\n",
       "      <th>11</th>\n",
       "      <td>1960</td>\n",
       "      <td>622</td>\n",
       "    </tr>\n",
       "  </tbody>\n",
       "</table>\n",
       "</div>"
      ],
      "text/plain": [
       "    year  passengers\n",
       "0   1949         148\n",
       "1   1950         170\n",
       "2   1951         199\n",
       "3   1952         242\n",
       "4   1953         272\n",
       "5   1954         302\n",
       "6   1955         364\n",
       "7   1956         413\n",
       "8   1957         467\n",
       "9   1958         505\n",
       "10  1959         559\n",
       "11  1960         622"
      ]
     },
     "execution_count": 55,
     "metadata": {},
     "output_type": "execute_result"
    }
   ],
   "source": [
    "df.groupby(['year'],as_index=False)['passengers'].max()"
   ]
  },
  {
   "cell_type": "code",
   "execution_count": 2,
   "metadata": {
    "id": "LVblmEhepD8n"
   },
   "outputs": [],
   "source": [
    "sales_data = pd.read_csv(\"https://gist.githubusercontent.com/bluecoconut/9ce2135aafb5c6ab2dc1d60ac595646e/raw/c93c3500a1f7fae469cba716f09358cfddea6343/sales_demo_with_pii_and_all_states.csv\")"
   ]
  },
  {
   "cell_type": "code",
   "execution_count": 9,
   "metadata": {},
   "outputs": [
    {
     "data": {
      "text/html": [
       "<div>\n",
       "<style scoped>\n",
       "    .dataframe tbody tr th:only-of-type {\n",
       "        vertical-align: middle;\n",
       "    }\n",
       "\n",
       "    .dataframe tbody tr th {\n",
       "        vertical-align: top;\n",
       "    }\n",
       "\n",
       "    .dataframe thead th {\n",
       "        text-align: right;\n",
       "    }\n",
       "</style>\n",
       "<table border=\"1\" class=\"dataframe\">\n",
       "  <thead>\n",
       "    <tr style=\"text-align: right;\">\n",
       "      <th></th>\n",
       "      <th>Order ID</th>\n",
       "      <th>Product</th>\n",
       "      <th>Quantity Ordered</th>\n",
       "      <th>Price Each</th>\n",
       "      <th>Order Date</th>\n",
       "      <th>Purchase Address</th>\n",
       "      <th>Credit Card</th>\n",
       "      <th>SSN</th>\n",
       "      <th>City</th>\n",
       "      <th>State</th>\n",
       "      <th>Zipcode</th>\n",
       "    </tr>\n",
       "  </thead>\n",
       "  <tbody>\n",
       "    <tr>\n",
       "      <th>0</th>\n",
       "      <td>141234</td>\n",
       "      <td>iPhone</td>\n",
       "      <td>1.0</td>\n",
       "      <td>700.00</td>\n",
       "      <td>01/22/19 21:25</td>\n",
       "      <td>10995 Williams Cliffs, East Michelleborough, A...</td>\n",
       "      <td>9753-7632-8228-2717</td>\n",
       "      <td>499-70-8008</td>\n",
       "      <td>East Michelleborough</td>\n",
       "      <td>AZ</td>\n",
       "      <td>86031</td>\n",
       "    </tr>\n",
       "    <tr>\n",
       "      <th>1</th>\n",
       "      <td>141235</td>\n",
       "      <td>Lightning Charging Cable</td>\n",
       "      <td>1.0</td>\n",
       "      <td>14.95</td>\n",
       "      <td>01/28/19 14:15</td>\n",
       "      <td>1067 Guzman View Suite 342, Tylerton, TX 75901</td>\n",
       "      <td>4353-8782-6482-8223</td>\n",
       "      <td>596-54-9892</td>\n",
       "      <td>Tylerton</td>\n",
       "      <td>TX</td>\n",
       "      <td>75901</td>\n",
       "    </tr>\n",
       "    <tr>\n",
       "      <th>2</th>\n",
       "      <td>141236</td>\n",
       "      <td>Wired Headphones</td>\n",
       "      <td>2.0</td>\n",
       "      <td>11.99</td>\n",
       "      <td>01/17/19 13:33</td>\n",
       "      <td>7616 Lauren Run Apt. 642, South Julia, CO 81368</td>\n",
       "      <td>2581-0339-8831-3503</td>\n",
       "      <td>608-47-3943</td>\n",
       "      <td>South Julia</td>\n",
       "      <td>CO</td>\n",
       "      <td>81368</td>\n",
       "    </tr>\n",
       "    <tr>\n",
       "      <th>3</th>\n",
       "      <td>141237</td>\n",
       "      <td>27in FHD Monitor</td>\n",
       "      <td>1.0</td>\n",
       "      <td>149.99</td>\n",
       "      <td>01/05/19 20:33</td>\n",
       "      <td>23081 Kyle Crest, Laurenchester, NY 10177</td>\n",
       "      <td>9431-1332-2561-3939</td>\n",
       "      <td>678-46-9684</td>\n",
       "      <td>Laurenchester</td>\n",
       "      <td>NY</td>\n",
       "      <td>10177</td>\n",
       "    </tr>\n",
       "    <tr>\n",
       "      <th>4</th>\n",
       "      <td>141238</td>\n",
       "      <td>Wired Headphones</td>\n",
       "      <td>1.0</td>\n",
       "      <td>11.99</td>\n",
       "      <td>01/25/19 11:59</td>\n",
       "      <td>59764 Spears Mountains, Port Amanda, SC 29826</td>\n",
       "      <td>4788-2969-5170-6914</td>\n",
       "      <td>980-25-2977</td>\n",
       "      <td>Port Amanda</td>\n",
       "      <td>SC</td>\n",
       "      <td>29826</td>\n",
       "    </tr>\n",
       "  </tbody>\n",
       "</table>\n",
       "</div>"
      ],
      "text/plain": [
       "   Order ID                   Product  Quantity Ordered  Price Each  \\\n",
       "0    141234                    iPhone               1.0      700.00   \n",
       "1    141235  Lightning Charging Cable               1.0       14.95   \n",
       "2    141236          Wired Headphones               2.0       11.99   \n",
       "3    141237          27in FHD Monitor               1.0      149.99   \n",
       "4    141238          Wired Headphones               1.0       11.99   \n",
       "\n",
       "       Order Date                                   Purchase Address  \\\n",
       "0  01/22/19 21:25  10995 Williams Cliffs, East Michelleborough, A...   \n",
       "1  01/28/19 14:15     1067 Guzman View Suite 342, Tylerton, TX 75901   \n",
       "2  01/17/19 13:33    7616 Lauren Run Apt. 642, South Julia, CO 81368   \n",
       "3  01/05/19 20:33          23081 Kyle Crest, Laurenchester, NY 10177   \n",
       "4  01/25/19 11:59      59764 Spears Mountains, Port Amanda, SC 29826   \n",
       "\n",
       "           Credit Card          SSN                   City State Zipcode  \n",
       "0  9753-7632-8228-2717  499-70-8008   East Michelleborough    AZ   86031  \n",
       "1  4353-8782-6482-8223  596-54-9892               Tylerton    TX   75901  \n",
       "2  2581-0339-8831-3503  608-47-3943            South Julia    CO   81368  \n",
       "3  9431-1332-2561-3939  678-46-9684          Laurenchester    NY   10177  \n",
       "4  4788-2969-5170-6914  980-25-2977            Port Amanda    SC   29826  "
      ]
     },
     "execution_count": 9,
     "metadata": {},
     "output_type": "execute_result"
    }
   ],
   "source": [
    "sales_data.head()"
   ]
  },
  {
   "cell_type": "code",
   "execution_count": 20,
   "metadata": {},
   "outputs": [
    {
     "data": {
      "text/html": [
       "<div>\n",
       "<style scoped>\n",
       "    .dataframe tbody tr th:only-of-type {\n",
       "        vertical-align: middle;\n",
       "    }\n",
       "\n",
       "    .dataframe tbody tr th {\n",
       "        vertical-align: top;\n",
       "    }\n",
       "\n",
       "    .dataframe thead th {\n",
       "        text-align: right;\n",
       "    }\n",
       "</style>\n",
       "<table border=\"1\" class=\"dataframe\">\n",
       "  <thead>\n",
       "    <tr style=\"text-align: right;\">\n",
       "      <th></th>\n",
       "      <th>Order ID</th>\n",
       "      <th>Product</th>\n",
       "      <th>Quantity Ordered</th>\n",
       "      <th>Price Each</th>\n",
       "      <th>Order Date</th>\n",
       "      <th>Purchase Address</th>\n",
       "      <th>Credit Card</th>\n",
       "      <th>SSN</th>\n",
       "      <th>City</th>\n",
       "      <th>State</th>\n",
       "      <th>Zipcode</th>\n",
       "      <th>test</th>\n",
       "      <th>test2</th>\n",
       "    </tr>\n",
       "  </thead>\n",
       "  <tbody>\n",
       "    <tr>\n",
       "      <th>0</th>\n",
       "      <td>141234</td>\n",
       "      <td>iPhone</td>\n",
       "      <td>1.0</td>\n",
       "      <td>700.00</td>\n",
       "      <td>01/22/19 21:25</td>\n",
       "      <td>10995 Williams Cliffs, East Michelleborough, A...</td>\n",
       "      <td>9753-7632-8228-2717</td>\n",
       "      <td>499-70-8008</td>\n",
       "      <td>East Michelleborough</td>\n",
       "      <td>AZ</td>\n",
       "      <td>86031</td>\n",
       "      <td>0</td>\n",
       "      <td>10995 Williams Cliffs</td>\n",
       "    </tr>\n",
       "    <tr>\n",
       "      <th>1</th>\n",
       "      <td>141235</td>\n",
       "      <td>Lightning Charging Cable</td>\n",
       "      <td>1.0</td>\n",
       "      <td>14.95</td>\n",
       "      <td>01/28/19 14:15</td>\n",
       "      <td>1067 Guzman View Suite 342, Tylerton, TX 75901</td>\n",
       "      <td>4353-8782-6482-8223</td>\n",
       "      <td>596-54-9892</td>\n",
       "      <td>Tylerton</td>\n",
       "      <td>TX</td>\n",
       "      <td>75901</td>\n",
       "      <td>0</td>\n",
       "      <td>1067 Guzman View Suite 342</td>\n",
       "    </tr>\n",
       "    <tr>\n",
       "      <th>2</th>\n",
       "      <td>141236</td>\n",
       "      <td>Wired Headphones</td>\n",
       "      <td>2.0</td>\n",
       "      <td>11.99</td>\n",
       "      <td>01/17/19 13:33</td>\n",
       "      <td>7616 Lauren Run Apt. 642, South Julia, CO 81368</td>\n",
       "      <td>2581-0339-8831-3503</td>\n",
       "      <td>608-47-3943</td>\n",
       "      <td>South Julia</td>\n",
       "      <td>CO</td>\n",
       "      <td>81368</td>\n",
       "      <td>6</td>\n",
       "      <td>7616 Lauren Run Apt. 642</td>\n",
       "    </tr>\n",
       "    <tr>\n",
       "      <th>3</th>\n",
       "      <td>141237</td>\n",
       "      <td>27in FHD Monitor</td>\n",
       "      <td>1.0</td>\n",
       "      <td>149.99</td>\n",
       "      <td>01/05/19 20:33</td>\n",
       "      <td>23081 Kyle Crest, Laurenchester, NY 10177</td>\n",
       "      <td>9431-1332-2561-3939</td>\n",
       "      <td>678-46-9684</td>\n",
       "      <td>Laurenchester</td>\n",
       "      <td>NY</td>\n",
       "      <td>10177</td>\n",
       "      <td>3</td>\n",
       "      <td>23081 Kyle Crest</td>\n",
       "    </tr>\n",
       "    <tr>\n",
       "      <th>4</th>\n",
       "      <td>141238</td>\n",
       "      <td>Wired Headphones</td>\n",
       "      <td>1.0</td>\n",
       "      <td>11.99</td>\n",
       "      <td>01/25/19 11:59</td>\n",
       "      <td>59764 Spears Mountains, Port Amanda, SC 29826</td>\n",
       "      <td>4788-2969-5170-6914</td>\n",
       "      <td>980-25-2977</td>\n",
       "      <td>Port Amanda</td>\n",
       "      <td>SC</td>\n",
       "      <td>29826</td>\n",
       "      <td>9</td>\n",
       "      <td>59764 Spears Mountains</td>\n",
       "    </tr>\n",
       "    <tr>\n",
       "      <th>...</th>\n",
       "      <td>...</td>\n",
       "      <td>...</td>\n",
       "      <td>...</td>\n",
       "      <td>...</td>\n",
       "      <td>...</td>\n",
       "      <td>...</td>\n",
       "      <td>...</td>\n",
       "      <td>...</td>\n",
       "      <td>...</td>\n",
       "      <td>...</td>\n",
       "      <td>...</td>\n",
       "      <td>...</td>\n",
       "      <td>...</td>\n",
       "    </tr>\n",
       "    <tr>\n",
       "      <th>185945</th>\n",
       "      <td>319666</td>\n",
       "      <td>Lightning Charging Cable</td>\n",
       "      <td>1.0</td>\n",
       "      <td>14.95</td>\n",
       "      <td>12/11/19 20:58</td>\n",
       "      <td>0918 Sellers Stravenue, Murrayport, VA 23529</td>\n",
       "      <td>6330-9667-7648-5375</td>\n",
       "      <td>326-43-8038</td>\n",
       "      <td>Murrayport</td>\n",
       "      <td>VA</td>\n",
       "      <td>23529</td>\n",
       "      <td>9</td>\n",
       "      <td>0918 Sellers Stravenue</td>\n",
       "    </tr>\n",
       "    <tr>\n",
       "      <th>185946</th>\n",
       "      <td>319667</td>\n",
       "      <td>AA Batteries (4-pack)</td>\n",
       "      <td>2.0</td>\n",
       "      <td>3.84</td>\n",
       "      <td>12/01/19 12:01</td>\n",
       "      <td>8646 Higgins Road Apt. 673, East Luke, WI 54318</td>\n",
       "      <td>7928-0521-1139-8895</td>\n",
       "      <td>802-83-9528</td>\n",
       "      <td>East Luke</td>\n",
       "      <td>WI</td>\n",
       "      <td>54318</td>\n",
       "      <td>6</td>\n",
       "      <td>8646 Higgins Road Apt. 673</td>\n",
       "    </tr>\n",
       "    <tr>\n",
       "      <th>185947</th>\n",
       "      <td>319668</td>\n",
       "      <td>Vareebadd Phone</td>\n",
       "      <td>1.0</td>\n",
       "      <td>400.00</td>\n",
       "      <td>12/09/19 06:43</td>\n",
       "      <td>962 Mcbride Motorway Apt. 085, Williamshaven, ...</td>\n",
       "      <td>8809-4349-6427-8935</td>\n",
       "      <td>157-00-6893</td>\n",
       "      <td>Williamshaven</td>\n",
       "      <td>NY</td>\n",
       "      <td>13124</td>\n",
       "      <td>6</td>\n",
       "      <td>962 Mcbride Motorway Apt. 085</td>\n",
       "    </tr>\n",
       "    <tr>\n",
       "      <th>185948</th>\n",
       "      <td>319669</td>\n",
       "      <td>Wired Headphones</td>\n",
       "      <td>1.0</td>\n",
       "      <td>11.99</td>\n",
       "      <td>12/03/19 10:39</td>\n",
       "      <td>86305 Ricky Radial Apt. 414, Morachester, MO 6...</td>\n",
       "      <td>0526-5467-8300-3974</td>\n",
       "      <td>714-39-2575</td>\n",
       "      <td>Morachester</td>\n",
       "      <td>MO</td>\n",
       "      <td>65438</td>\n",
       "      <td>6</td>\n",
       "      <td>86305 Ricky Radial Apt. 414</td>\n",
       "    </tr>\n",
       "    <tr>\n",
       "      <th>185949</th>\n",
       "      <td>319670</td>\n",
       "      <td>Bose SoundSport Headphones</td>\n",
       "      <td>1.0</td>\n",
       "      <td>99.99</td>\n",
       "      <td>12/21/19 21:45</td>\n",
       "      <td>8919 Sean Parkways Apt. 636, Jenniferhaven, NY...</td>\n",
       "      <td>3011-3004-3146-8666</td>\n",
       "      <td>021-60-0991</td>\n",
       "      <td>Jenniferhaven</td>\n",
       "      <td>NY</td>\n",
       "      <td>10261</td>\n",
       "      <td>9</td>\n",
       "      <td>8919 Sean Parkways Apt. 636</td>\n",
       "    </tr>\n",
       "  </tbody>\n",
       "</table>\n",
       "<p>185950 rows × 13 columns</p>\n",
       "</div>"
      ],
      "text/plain": [
       "        Order ID                     Product  Quantity Ordered  Price Each  \\\n",
       "0         141234                      iPhone               1.0      700.00   \n",
       "1         141235    Lightning Charging Cable               1.0       14.95   \n",
       "2         141236            Wired Headphones               2.0       11.99   \n",
       "3         141237            27in FHD Monitor               1.0      149.99   \n",
       "4         141238            Wired Headphones               1.0       11.99   \n",
       "...          ...                         ...               ...         ...   \n",
       "185945    319666    Lightning Charging Cable               1.0       14.95   \n",
       "185946    319667       AA Batteries (4-pack)               2.0        3.84   \n",
       "185947    319668             Vareebadd Phone               1.0      400.00   \n",
       "185948    319669            Wired Headphones               1.0       11.99   \n",
       "185949    319670  Bose SoundSport Headphones               1.0       99.99   \n",
       "\n",
       "            Order Date                                   Purchase Address  \\\n",
       "0       01/22/19 21:25  10995 Williams Cliffs, East Michelleborough, A...   \n",
       "1       01/28/19 14:15     1067 Guzman View Suite 342, Tylerton, TX 75901   \n",
       "2       01/17/19 13:33    7616 Lauren Run Apt. 642, South Julia, CO 81368   \n",
       "3       01/05/19 20:33          23081 Kyle Crest, Laurenchester, NY 10177   \n",
       "4       01/25/19 11:59      59764 Spears Mountains, Port Amanda, SC 29826   \n",
       "...                ...                                                ...   \n",
       "185945  12/11/19 20:58       0918 Sellers Stravenue, Murrayport, VA 23529   \n",
       "185946  12/01/19 12:01    8646 Higgins Road Apt. 673, East Luke, WI 54318   \n",
       "185947  12/09/19 06:43  962 Mcbride Motorway Apt. 085, Williamshaven, ...   \n",
       "185948  12/03/19 10:39  86305 Ricky Radial Apt. 414, Morachester, MO 6...   \n",
       "185949  12/21/19 21:45  8919 Sean Parkways Apt. 636, Jenniferhaven, NY...   \n",
       "\n",
       "                Credit Card          SSN                   City State Zipcode  \\\n",
       "0       9753-7632-8228-2717  499-70-8008   East Michelleborough    AZ   86031   \n",
       "1       4353-8782-6482-8223  596-54-9892               Tylerton    TX   75901   \n",
       "2       2581-0339-8831-3503  608-47-3943            South Julia    CO   81368   \n",
       "3       9431-1332-2561-3939  678-46-9684          Laurenchester    NY   10177   \n",
       "4       4788-2969-5170-6914  980-25-2977            Port Amanda    SC   29826   \n",
       "...                     ...          ...                    ...   ...     ...   \n",
       "185945  6330-9667-7648-5375  326-43-8038             Murrayport    VA   23529   \n",
       "185946  7928-0521-1139-8895  802-83-9528              East Luke    WI   54318   \n",
       "185947  8809-4349-6427-8935  157-00-6893          Williamshaven    NY   13124   \n",
       "185948  0526-5467-8300-3974  714-39-2575            Morachester    MO   65438   \n",
       "185949  3011-3004-3146-8666  021-60-0991          Jenniferhaven    NY   10261   \n",
       "\n",
       "       test                          test2  \n",
       "0         0          10995 Williams Cliffs  \n",
       "1         0     1067 Guzman View Suite 342  \n",
       "2         6       7616 Lauren Run Apt. 642  \n",
       "3         3               23081 Kyle Crest  \n",
       "4         9         59764 Spears Mountains  \n",
       "...     ...                            ...  \n",
       "185945    9         0918 Sellers Stravenue  \n",
       "185946    6     8646 Higgins Road Apt. 673  \n",
       "185947    6  962 Mcbride Motorway Apt. 085  \n",
       "185948    6    86305 Ricky Radial Apt. 414  \n",
       "185949    9    8919 Sean Parkways Apt. 636  \n",
       "\n",
       "[185950 rows x 13 columns]"
      ]
     },
     "execution_count": 20,
     "metadata": {},
     "output_type": "execute_result"
    }
   ],
   "source": [
    "sales_data['test']=sales_data['Purchase Address'].str.split(',').str[0].str[1]\n",
    "sales_data['test2']=sales_data['Purchase Address'].apply(lambda x:x.split(',')[0] )\n",
    "sales_data"
   ]
  },
  {
   "cell_type": "code",
   "execution_count": 10,
   "metadata": {},
   "outputs": [
    {
     "data": {
      "text/html": [
       "<div style=\"display:flex;flex-direction:row;justify-content:space-between;\">\n",
       "                <pre style=\"width: 100%; white-space: pre-wrap;\" id=\"7f9a48b0-2a49-475b-a893-0ad39e8f6de7\">\n",
       "# Create a new column for the city\n",
       "sales_data['City'] = sales_data['Purchase Address'].apply(lambda x: x.split(',')[1])\n",
       "\n",
       "# Create a new column for the state\n",
       "sales_data['State'] = sales_data['Purchase Address'].apply(lambda x: x.split(',')[2].split(' ')[1])\n",
       "\n",
       "# Create a new column for the zipcode\n",
       "sales_data['Zipcode'] = sales_data['Purchase Address'].apply(lambda x: x.split(',')[2].split(' ')[2])\n",
       "</pre>\n",
       "                <button style=\"height: fit-content;\" onclick=\"navigator.clipboard.writeText(JSON.parse(atob(`IlxuIyBDcmVhdGUgYSBuZXcgY29sdW1uIGZvciB0aGUgY2l0eVxuc2FsZXNfZGF0YVsnQ2l0eSddID0gc2FsZXNfZGF0YVsnUHVyY2hhc2UgQWRkcmVzcyddLmFwcGx5KGxhbWJkYSB4OiB4LnNwbGl0KCcsJylbMV0pXG5cbiMgQ3JlYXRlIGEgbmV3IGNvbHVtbiBmb3IgdGhlIHN0YXRlXG5zYWxlc19kYXRhWydTdGF0ZSddID0gc2FsZXNfZGF0YVsnUHVyY2hhc2UgQWRkcmVzcyddLmFwcGx5KGxhbWJkYSB4OiB4LnNwbGl0KCcsJylbMl0uc3BsaXQoJyAnKVsxXSlcblxuIyBDcmVhdGUgYSBuZXcgY29sdW1uIGZvciB0aGUgemlwY29kZVxuc2FsZXNfZGF0YVsnWmlwY29kZSddID0gc2FsZXNfZGF0YVsnUHVyY2hhc2UgQWRkcmVzcyddLmFwcGx5KGxhbWJkYSB4OiB4LnNwbGl0KCcsJylbMl0uc3BsaXQoJyAnKVsyXSlcbiI=`)))\">Copy</button>\n",
       "                </div>"
      ],
      "text/plain": [
       "<IPython.core.display.HTML object>"
      ]
     },
     "metadata": {},
     "output_type": "display_data"
    }
   ],
   "source": [
    "sales_data.sketch.howto(\"Create some derived features from the address\")"
   ]
  },
  {
   "cell_type": "code",
   "execution_count": 3,
   "metadata": {
    "colab": {
     "base_uri": "https://localhost:8080/",
     "height": 34
    },
    "id": "6Ka6k6zypH5O",
    "outputId": "a8f8ff56-365f-4f1f-dc77-e2c13142412c"
   },
   "outputs": [
    {
     "data": {
      "text/html": [
       "\n",
       "The columns that might have PII information in them are Credit Card, SSN, and Purchase Address."
      ],
      "text/plain": [
       "<IPython.core.display.HTML object>"
      ]
     },
     "metadata": {},
     "output_type": "display_data"
    }
   ],
   "source": [
    "sales_data.sketch.ask(\"What columns might have PII information in them?\")"
   ]
  },
  {
   "cell_type": "code",
   "execution_count": 4,
   "metadata": {
    "colab": {
     "base_uri": "https://localhost:8080/",
     "height": 185
    },
    "id": "0hrjE-q9pLbp",
    "outputId": "9ad6f55d-9d2c-4eee-b10d-48faa6e830c0"
   },
   "outputs": [
    {
     "data": {
      "text/html": [
       "\n",
       "<ul>\n",
       "  <li>Index: Index</li>\n",
       "  <li>Order ID: Order ID</li>\n",
       "  <li>Product: Product</li>\n",
       "  <li>Quantity Ordered: Quantity Ordered</li>\n",
       "  <li>Price Each: Price Each</li>\n",
       "  <li>Order Date: Order Date</li>\n",
       "  <li>Purchase Address: Purchase Address</li>\n",
       "  <li>Credit Card: Credit Card</li>\n",
       "  <li>SSN: SSN</li>\n",
       "</ul>\n"
      ],
      "text/plain": [
       "<IPython.core.display.HTML object>"
      ]
     },
     "metadata": {},
     "output_type": "display_data"
    }
   ],
   "source": [
    "sales_data.sketch.ask(\"Can you give me friendly names for each column? (output as an HTML list)\")"
   ]
  },
  {
   "cell_type": "code",
   "execution_count": 5,
   "metadata": {
    "colab": {
     "base_uri": "https://localhost:8080/",
     "height": 156
    },
    "id": "SPZBkh6qpPgg",
    "outputId": "c8038247-e453-43b7-8f94-4a8f793c4d71"
   },
   "outputs": [
    {
     "data": {
      "text/html": [
       "<div style=\"display:flex;flex-direction:row;justify-content:space-between;\">\n",
       "                <pre style=\"width: 100%; white-space: pre-wrap;\" id=\"c04d7f90-57f1-4fbd-88ab-cd84b27d0396\">\n",
       "# Create a new column for the city\n",
       "sales_data['City'] = sales_data['Purchase Address'].apply(lambda x: x.split(',')[1])\n",
       "\n",
       "# Create a new column for the state\n",
       "sales_data['State'] = sales_data['Purchase Address'].apply(lambda x: x.split(',')[2].split(' ')[1])\n",
       "\n",
       "# Create a new column for the zipcode\n",
       "sales_data['Zipcode'] = sales_data['Purchase Address'].apply(lambda x: x.split(',')[2].split(' ')[2])\n",
       "</pre>\n",
       "                <button style=\"height: fit-content;\" onclick=\"navigator.clipboard.writeText(JSON.parse(atob(`IlxuIyBDcmVhdGUgYSBuZXcgY29sdW1uIGZvciB0aGUgY2l0eVxuc2FsZXNfZGF0YVsnQ2l0eSddID0gc2FsZXNfZGF0YVsnUHVyY2hhc2UgQWRkcmVzcyddLmFwcGx5KGxhbWJkYSB4OiB4LnNwbGl0KCcsJylbMV0pXG5cbiMgQ3JlYXRlIGEgbmV3IGNvbHVtbiBmb3IgdGhlIHN0YXRlXG5zYWxlc19kYXRhWydTdGF0ZSddID0gc2FsZXNfZGF0YVsnUHVyY2hhc2UgQWRkcmVzcyddLmFwcGx5KGxhbWJkYSB4OiB4LnNwbGl0KCcsJylbMl0uc3BsaXQoJyAnKVsxXSlcblxuIyBDcmVhdGUgYSBuZXcgY29sdW1uIGZvciB0aGUgemlwY29kZVxuc2FsZXNfZGF0YVsnWmlwY29kZSddID0gc2FsZXNfZGF0YVsnUHVyY2hhc2UgQWRkcmVzcyddLmFwcGx5KGxhbWJkYSB4OiB4LnNwbGl0KCcsJylbMl0uc3BsaXQoJyAnKVsyXSlcbiI=`)))\">Copy</button>\n",
       "                </div>"
      ],
      "text/plain": [
       "<IPython.core.display.HTML object>"
      ]
     },
     "metadata": {},
     "output_type": "display_data"
    }
   ],
   "source": [
    "sales_data.sketch.howto(\"Create some derived features from the address\")"
   ]
  },
  {
   "cell_type": "code",
   "execution_count": 6,
   "metadata": {
    "id": "hK9S4lHWpZLl"
   },
   "outputs": [],
   "source": [
    "\n",
    "# Create a new column for the city\n",
    "sales_data['City'] = sales_data['Purchase Address'].apply(lambda x: x.split(',')[1])\n",
    "\n",
    "# Create a new column for the state\n",
    "sales_data['State'] = sales_data['Purchase Address'].apply(lambda x: x.split(',')[2].split(' ')[1])\n",
    "\n",
    "# Create a new column for the zipcode\n",
    "sales_data['Zipcode'] = sales_data['Purchase Address'].apply(lambda x: x.split(',')[2].split(' ')[2])\n"
   ]
  },
  {
   "cell_type": "code",
   "execution_count": 7,
   "metadata": {
    "colab": {
     "base_uri": "https://localhost:8080/",
     "height": 243
    },
    "id": "RNKJjuWHph0v",
    "outputId": "cf1a91d3-aa6e-430b-f6b4-e64bdc884671"
   },
   "outputs": [
    {
     "data": {
      "text/html": [
       "<div style=\"display:flex;flex-direction:row;justify-content:space-between;\">\n",
       "                <pre style=\"width: 100%; white-space: pre-wrap;\" id=\"a6e03164-9335-45e4-8cec-e7713315b97a\">\n",
       "# Get the top 5 grossing states\n",
       "\n",
       "# Calculate total sales per state\n",
       "state_sales = sales_data.groupby('State')['Price Each'].sum().reset_index()\n",
       "\n",
       "# Sort the dataframe by total sales in descending order\n",
       "state_sales = state_sales.sort_values(by='Price Each', ascending=False)\n",
       "\n",
       "# Get the top 5 grossing states\n",
       "top_5_states = state_sales.head(5)\n",
       "\n",
       "# Print the results\n",
       "print(top_5_states)\n",
       "</pre>\n",
       "                <button style=\"height: fit-content;\" onclick=\"navigator.clipboard.writeText(JSON.parse(atob(`IlxuIyBHZXQgdGhlIHRvcCA1IGdyb3NzaW5nIHN0YXRlc1xuXG4jIENhbGN1bGF0ZSB0b3RhbCBzYWxlcyBwZXIgc3RhdGVcbnN0YXRlX3NhbGVzID0gc2FsZXNfZGF0YS5ncm91cGJ5KCdTdGF0ZScpWydQcmljZSBFYWNoJ10uc3VtKCkucmVzZXRfaW5kZXgoKVxuXG4jIFNvcnQgdGhlIGRhdGFmcmFtZSBieSB0b3RhbCBzYWxlcyBpbiBkZXNjZW5kaW5nIG9yZGVyXG5zdGF0ZV9zYWxlcyA9IHN0YXRlX3NhbGVzLnNvcnRfdmFsdWVzKGJ5PSdQcmljZSBFYWNoJywgYXNjZW5kaW5nPUZhbHNlKVxuXG4jIEdldCB0aGUgdG9wIDUgZ3Jvc3Npbmcgc3RhdGVzXG50b3BfNV9zdGF0ZXMgPSBzdGF0ZV9zYWxlcy5oZWFkKDUpXG5cbiMgUHJpbnQgdGhlIHJlc3VsdHNcbnByaW50KHRvcF81X3N0YXRlcylcbiI=`)))\">Copy</button>\n",
       "                </div>"
      ],
      "text/plain": [
       "<IPython.core.display.HTML object>"
      ]
     },
     "metadata": {},
     "output_type": "display_data"
    }
   ],
   "source": [
    "sales_data.sketch.howto(\"Get the top 5 grossing states\")"
   ]
  },
  {
   "cell_type": "code",
   "execution_count": 8,
   "metadata": {
    "colab": {
     "base_uri": "https://localhost:8080/"
    },
    "id": "cOD1OG35pkLB",
    "outputId": "6fbdbdde-3500-47dc-a573-69eb296794b0"
   },
   "outputs": [
    {
     "name": "stdout",
     "output_type": "stream",
     "text": [
      "   State  Price Each\n",
      "4     CA  4222370.22\n",
      "42    TX  2940575.44\n",
      "8     FL  2166926.57\n",
      "33    NY  2070624.71\n",
      "13    IL  1413911.86\n"
     ]
    }
   ],
   "source": [
    "\n",
    "# Get the top 5 grossing states\n",
    "\n",
    "# Calculate total sales per state\n",
    "state_sales = sales_data.groupby('State')['Price Each'].sum().reset_index()\n",
    "\n",
    "# Sort the dataframe by total sales in descending order\n",
    "state_sales = state_sales.sort_values(by='Price Each', ascending=False)\n",
    "\n",
    "# Get the top 5 grossing states\n",
    "top_5_states = state_sales.head(5)\n",
    "\n",
    "# Print the results\n",
    "print(top_5_states)\n"
   ]
  },
  {
   "cell_type": "code",
   "execution_count": null,
   "metadata": {
    "id": "6xZgjwWypy91"
   },
   "outputs": [],
   "source": []
  }
 ],
 "metadata": {
  "colab": {
   "provenance": []
  },
  "kernelspec": {
   "display_name": "Python 3 (ipykernel)",
   "language": "python",
   "name": "python3"
  },
  "language_info": {
   "codemirror_mode": {
    "name": "ipython",
    "version": 3
   },
   "file_extension": ".py",
   "mimetype": "text/x-python",
   "name": "python",
   "nbconvert_exporter": "python",
   "pygments_lexer": "ipython3",
   "version": "3.10.8"
  }
 },
 "nbformat": 4,
 "nbformat_minor": 4
}
