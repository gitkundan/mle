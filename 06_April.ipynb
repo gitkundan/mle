{
 "cells": [
  {
   "cell_type": "code",
   "execution_count": 1,
   "metadata": {},
   "outputs": [],
   "source": [
    "import pandas as pd"
   ]
  },
  {
   "cell_type": "code",
   "execution_count": 2,
   "metadata": {},
   "outputs": [],
   "source": [
    "data = [    [1, 0, 'No'],\n",
    "    [2, 0, 'No'],\n",
    "    [2, 1, 'Yes'],\n",
    "    [0, 0, 'No'],\n",
    "    [0, 1, 'Yes'],\n",
    "    [1, 1, 'Yes'],\n",
    "    [2, 0, 'No'],\n",
    "    [0, 1, 'No']\n",
    "]\n"
   ]
  },
  {
   "cell_type": "code",
   "execution_count": 3,
   "metadata": {},
   "outputs": [
    {
     "data": {
      "text/plain": [
       "[[1, 0, 'No'],\n",
       " [2, 0, 'No'],\n",
       " [2, 1, 'Yes'],\n",
       " [0, 0, 'No'],\n",
       " [0, 1, 'Yes'],\n",
       " [1, 1, 'Yes'],\n",
       " [2, 0, 'No'],\n",
       " [0, 1, 'No']]"
      ]
     },
     "execution_count": 3,
     "metadata": {},
     "output_type": "execute_result"
    }
   ],
   "source": [
    "data"
   ]
  },
  {
   "cell_type": "code",
   "execution_count": 4,
   "metadata": {},
   "outputs": [],
   "source": [
    "import math\n",
    "\n",
    "def entropy(data):\n",
    "    counts = {}\n",
    "    for example in data:\n",
    "        label = example[-1]\n",
    "        if label not in counts:\n",
    "            counts[label] = 0\n",
    "        counts[label] += 1\n",
    "    \n",
    "    entropy = 0.0\n",
    "    total_examples = len(data)\n",
    "    for label in counts:\n",
    "        proportion = counts[label] / total_examples\n",
    "        entropy -= proportion * math.log2(proportion)\n",
    "    \n",
    "    return entropy\n"
   ]
  },
  {
   "cell_type": "code",
   "execution_count": 5,
   "metadata": {},
   "outputs": [
    {
     "name": "stdout",
     "output_type": "stream",
     "text": [
      "0.954434002924965\n"
     ]
    }
   ],
   "source": [
    "print(entropy(data))\n"
   ]
  },
  {
   "cell_type": "code",
   "execution_count": null,
   "metadata": {},
   "outputs": [],
   "source": []
  }
 ],
 "metadata": {
  "kernelspec": {
   "display_name": ".venv",
   "language": "python",
   "name": "python3"
  },
  "language_info": {
   "codemirror_mode": {
    "name": "ipython",
    "version": 3
   },
   "file_extension": ".py",
   "mimetype": "text/x-python",
   "name": "python",
   "nbconvert_exporter": "python",
   "pygments_lexer": "ipython3",
   "version": "3.11.2"
  },
  "orig_nbformat": 4,
  "vscode": {
   "interpreter": {
    "hash": "205e0e69bcba8190304d81bbbd8493c8ba5108741c4533765cb1c4b7efbc9ceb"
   }
  }
 },
 "nbformat": 4,
 "nbformat_minor": 2
}
