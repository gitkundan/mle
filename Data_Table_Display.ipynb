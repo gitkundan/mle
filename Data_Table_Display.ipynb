{
 "cells": [
  {
   "cell_type": "markdown",
   "metadata": {
    "id": "JgBtx0xFFv_i"
   },
   "source": [
    "# Data Table Display\n",
    "\n",
    "Colab includes an extension that renders pandas dataframes into interactive displays that can be filtered, sorted, and explored dynamically.\n",
    "\n",
    "Data table display for Pandas dataframes can be enabled by running:\n",
    "```python\n",
    "from google.colab import data_table\n",
    "data_table.enable_dataframe_formatter()\n",
    "```\n",
    "and disabled by running\n",
    "```python\n",
    "from google.colab import data_table\n",
    "data_table.disable_dataframe_formatter()\n",
    "```\n"
   ]
  },
  {
   "cell_type": "markdown",
   "metadata": {
    "id": "3jcHW3nRJpaE"
   },
   "source": [
    "## Exploring Data Tables\n",
    "\n",
    "Here is an example of a data table display:"
   ]
  },
  {
   "cell_type": "code",
   "execution_count": 1,
   "metadata": {
    "colab": {
     "base_uri": "https://localhost:8080/",
     "height": 637
    },
    "id": "jcQEX_3vHOUz",
    "outputId": "48ef60a0-163d-4639-eb1e-1d77a5a94eaa"
   },
   "outputs": [
    {
     "ename": "ModuleNotFoundError",
     "evalue": "No module named 'google'",
     "output_type": "error",
     "traceback": [
      "\u001b[1;31m---------------------------------------------------------------------------\u001b[0m",
      "\u001b[1;31mModuleNotFoundError\u001b[0m                       Traceback (most recent call last)",
      "Cell \u001b[1;32mIn[1], line 1\u001b[0m\n\u001b[1;32m----> 1\u001b[0m \u001b[38;5;28;01mfrom\u001b[39;00m \u001b[38;5;21;01mgoogle\u001b[39;00m\u001b[38;5;21;01m.\u001b[39;00m\u001b[38;5;21;01mcolab\u001b[39;00m \u001b[38;5;28;01mimport\u001b[39;00m data_table\n\u001b[0;32m      2\u001b[0m \u001b[38;5;28;01mfrom\u001b[39;00m \u001b[38;5;21;01mvega_datasets\u001b[39;00m \u001b[38;5;28;01mimport\u001b[39;00m data\n\u001b[0;32m      4\u001b[0m data_table\u001b[38;5;241m.\u001b[39menable_dataframe_formatter()\n",
      "\u001b[1;31mModuleNotFoundError\u001b[0m: No module named 'google'"
     ]
    }
   ],
   "source": [
    "from google.colab import data_table\n",
    "from vega_datasets import data\n",
    "\n",
    "data_table.enable_dataframe_formatter()\n",
    "\n",
    "data.airports()"
   ]
  },
  {
   "cell_type": "markdown",
   "metadata": {
    "id": "Dv9IBN8eFvuo"
   },
   "source": [
    "A few interesting features of the data table display:\n",
    "\n",
    "- Clicking the <button>Filter</button> button in the upper right allows you to search for terms or values in any particular column.\n",
    "- Clicking on any column title lets you sort the results according to that column's value.\n",
    "- The table displays only a subset of the data at a time. You can navigate through pages of data using the controls on the lower right.\n"
   ]
  },
  {
   "cell_type": "markdown",
   "metadata": {
    "id": "3V6VUDgMKZN9"
   },
   "source": [
    "## Disabling Data Table Display\n",
    "\n",
    "To restore the native pandas dataframe display, use the following:"
   ]
  },
  {
   "cell_type": "code",
   "execution_count": null,
   "metadata": {
    "colab": {
     "base_uri": "https://localhost:8080/",
     "height": 424
    },
    "id": "8l8uwWuQlZhw",
    "outputId": "83e93ca2-23ba-4b6c-ebf7-780effeb82e0"
   },
   "outputs": [],
   "source": [
    "from google.colab import data_table\n",
    "data_table.disable_dataframe_formatter()\n",
    "\n",
    "data.airports()"
   ]
  },
  {
   "cell_type": "markdown",
   "metadata": {
    "id": "R9vCdItlKVAk"
   },
   "source": [
    "## Customizing the Data Table Display"
   ]
  },
  {
   "cell_type": "markdown",
   "metadata": {
    "id": "DLdg0EWaHAiH"
   },
   "source": [
    "If you would like to create data tables directly, you can do that with the Python API, which allows additional customizations via keyword arguments:"
   ]
  },
  {
   "cell_type": "code",
   "execution_count": null,
   "metadata": {
    "colab": {
     "base_uri": "https://localhost:8080/",
     "height": 315
    },
    "id": "IdBulJJa8Jta",
    "outputId": "86135251-941f-48a1-b6dc-3d35ea4952f6",
    "tags": []
   },
   "outputs": [],
   "source": [
    "from google.colab import data_table\n",
    "data_table.DataTable(data.airports(), include_index=False, num_rows_per_page=10)"
   ]
  }
 ],
 "metadata": {
  "colab": {
   "name": "Data Table Display",
   "provenance": []
  },
  "kernelspec": {
   "display_name": "Python 3 (ipykernel)",
   "language": "python",
   "name": "python3"
  },
  "language_info": {
   "codemirror_mode": {
    "name": "ipython",
    "version": 3
   },
   "file_extension": ".py",
   "mimetype": "text/x-python",
   "name": "python",
   "nbconvert_exporter": "python",
   "pygments_lexer": "ipython3",
   "version": "3.10.8"
  }
 },
 "nbformat": 4,
 "nbformat_minor": 4
}
