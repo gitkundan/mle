{
 "cells": [
  {
   "cell_type": "code",
   "execution_count": 1,
   "id": "aade7bdc-95cc-4c7b-81aa-1cf4b96748b9",
   "metadata": {
    "tags": []
   },
   "outputs": [],
   "source": [
    "\n",
    "# Python Project Template\n",
    "# Remember to df.to_csv(\"periodic_backup.csv\")   OFTEN!!!\n",
    "# df.to_csv(\"auto_data_uk.csv\")\n",
    "\n",
    "# 1. Prepare Problem\n",
    "# a) Load libraries\n",
    "import pandas as pd\n",
    "import numpy as np\n",
    "import scipy.stats as stats\n",
    "import matplotlib.pyplot as plt\n",
    "import seaborn as sns\n",
    "from sklearn.model_selection import train_test_split\n",
    "%matplotlib inline\n",
    "\n",
    "import ssl \n",
    "ssl._create_default_https_context = ssl._create_unverified_context\n",
    "import certifi\n",
    "from sklearn.datasets import fetch_openml \n",
    "\n",
    "\n",
    "# b) Load dataset\n",
    "# Data Dictionary: https://www.kaggle.com/datasets/uciml/default-of-credit-card-clients-dataset\n",
    "df = pd.read_csv(\"https://raw.githubusercontent.com/fenago/introml/main/Life%20Expectancy%20Data.csv\")\n",
    "\n",
    "# df = pd.read_csv(\"https://raw.githubusercontent.com/fenago/datasets/main/UCI_Credit_Card.csv\")\n",
    "# adult_census = pd.read_csv(\"https://github.com/fenago/MLEssentials2/blob/main/datasets/adult-census.csv?raw=true\")\n",
    "\n",
    "# Docs: https://pandas.pydata.org/pandas-docs/stable/reference/api/pandas.read_csv.html\n",
    "# Most models assume linear; for non-linear/quadratic better to use xgboost or neural net\n",
    "# XGBoost and LightGBM are the most common models in Kaggle\n",
    "# https://www.amazon.co.uk/Data-Analytics-Python-ERNESTO-LEE/dp/B093R5TMDS#detailBullets_feature_div\n",
    "# Binary Classification is the MOST COMMON use case\n"
   ]
  },
  {
   "cell_type": "code",
   "execution_count": null,
   "id": "0ccc4cf3-633e-4f1d-b996-e74892ba4941",
   "metadata": {},
   "outputs": [],
   "source": [
    "# Set the Environment\n",
    "# Ignore Warnings\n",
    "import warnings\n",
    "warnings.simplefilter(action='ignore', category=FutureWarning)\n",
    "\n",
    "#Write out the versions of all packages to requirements.txt\n",
    "!pip freeze >> requirements.txt\n",
    "\n",
    "# Remove the restriction on Jupyter that limits the columns displayed (the ... in the middle)\n",
    "pd.set_option('max_columns',None)\n",
    "# Docs: https://pandas.pydata.org/pandas-docs/stable/reference/api/pandas.set_option.html#\n",
    "\n",
    "# Pretty Display of variables.  for instance, you can call df.head() and df.tail() in the same cell and BOTH display w/o print\n",
    "from IPython.core.interactiveshell import InteractiveShell\n",
    "InteractiveShell.ast_node_interactivity = \"all\"\n",
    "\n",
    "# List of ALL Magic Commands.  To run a magic command %var  --- i.e.:  %env\n",
    "%lsmagic\n",
    "# %env  -- list environment variables\n",
    "# %%time  -- gives you information about how long a cel took to run\n",
    "# %%timeit -- runs a cell 100,000 times and then gives you the average time the cell will take to run (can be LONG)\n",
    "# %pdb -- python debugger\n",
    "\n",
    "# to display nice model diagram\n",
    "from sklearn import set_config\n",
    "set_config(display='diagram')\n",
    "\n",
    "# Python ≥3.5 is required\n",
    "import sys\n",
    "assert sys.version_info >= (3, 5)\n",
    "\n",
    "# Scikit-Learn ≥0.20 is required\n",
    "import sklearn\n",
    "assert sklearn.__version__ >= \"0.20\"\n",
    "\n",
    "print(np.__version__)\n",
    "print(sklearn.__version__)"
   ]
  },
  {
   "cell_type": "code",
   "execution_count": 5,
   "id": "6603554e-b83c-40ee-81a6-fb64f6faa032",
   "metadata": {
    "tags": []
   },
   "outputs": [],
   "source": [
    "# BLUF - Bottom Line Up Front\n",
    "# Today:  Outliers, Feature Selection\n",
    "# BUT - before that... let's create a quick template for building models... Algorithm Harness\n",
    "# Given a binary classification type of data build a template ML model quickly"
   ]
  },
  {
   "cell_type": "code",
   "execution_count": 6,
   "id": "66ca9b82-52ba-4591-89ac-f6c22d06af90",
   "metadata": {
    "tags": []
   },
   "outputs": [
    {
     "data": {
      "text/html": [
       "<div>\n",
       "<style scoped>\n",
       "    .dataframe tbody tr th:only-of-type {\n",
       "        vertical-align: middle;\n",
       "    }\n",
       "\n",
       "    .dataframe tbody tr th {\n",
       "        vertical-align: top;\n",
       "    }\n",
       "\n",
       "    .dataframe thead th {\n",
       "        text-align: right;\n",
       "    }\n",
       "</style>\n",
       "<table border=\"1\" class=\"dataframe\">\n",
       "  <thead>\n",
       "    <tr style=\"text-align: right;\">\n",
       "      <th></th>\n",
       "      <th>Status</th>\n",
       "      <th>Seniority</th>\n",
       "      <th>Home</th>\n",
       "      <th>Time</th>\n",
       "      <th>Age</th>\n",
       "      <th>Marital</th>\n",
       "      <th>Records</th>\n",
       "      <th>Job</th>\n",
       "      <th>Expenses</th>\n",
       "      <th>Income</th>\n",
       "      <th>Assets</th>\n",
       "      <th>Debt</th>\n",
       "      <th>Amount</th>\n",
       "      <th>Price</th>\n",
       "    </tr>\n",
       "  </thead>\n",
       "  <tbody>\n",
       "    <tr>\n",
       "      <th>0</th>\n",
       "      <td>1</td>\n",
       "      <td>9</td>\n",
       "      <td>1</td>\n",
       "      <td>60</td>\n",
       "      <td>30</td>\n",
       "      <td>2</td>\n",
       "      <td>1</td>\n",
       "      <td>3</td>\n",
       "      <td>73</td>\n",
       "      <td>129</td>\n",
       "      <td>0</td>\n",
       "      <td>0</td>\n",
       "      <td>800</td>\n",
       "      <td>846</td>\n",
       "    </tr>\n",
       "    <tr>\n",
       "      <th>1</th>\n",
       "      <td>1</td>\n",
       "      <td>17</td>\n",
       "      <td>1</td>\n",
       "      <td>60</td>\n",
       "      <td>58</td>\n",
       "      <td>3</td>\n",
       "      <td>1</td>\n",
       "      <td>1</td>\n",
       "      <td>48</td>\n",
       "      <td>131</td>\n",
       "      <td>0</td>\n",
       "      <td>0</td>\n",
       "      <td>1000</td>\n",
       "      <td>1658</td>\n",
       "    </tr>\n",
       "    <tr>\n",
       "      <th>2</th>\n",
       "      <td>2</td>\n",
       "      <td>10</td>\n",
       "      <td>2</td>\n",
       "      <td>36</td>\n",
       "      <td>46</td>\n",
       "      <td>2</td>\n",
       "      <td>2</td>\n",
       "      <td>3</td>\n",
       "      <td>90</td>\n",
       "      <td>200</td>\n",
       "      <td>3000</td>\n",
       "      <td>0</td>\n",
       "      <td>2000</td>\n",
       "      <td>2985</td>\n",
       "    </tr>\n",
       "    <tr>\n",
       "      <th>3</th>\n",
       "      <td>1</td>\n",
       "      <td>0</td>\n",
       "      <td>1</td>\n",
       "      <td>60</td>\n",
       "      <td>24</td>\n",
       "      <td>1</td>\n",
       "      <td>1</td>\n",
       "      <td>1</td>\n",
       "      <td>63</td>\n",
       "      <td>182</td>\n",
       "      <td>2500</td>\n",
       "      <td>0</td>\n",
       "      <td>900</td>\n",
       "      <td>1325</td>\n",
       "    </tr>\n",
       "    <tr>\n",
       "      <th>4</th>\n",
       "      <td>1</td>\n",
       "      <td>0</td>\n",
       "      <td>1</td>\n",
       "      <td>36</td>\n",
       "      <td>26</td>\n",
       "      <td>1</td>\n",
       "      <td>1</td>\n",
       "      <td>1</td>\n",
       "      <td>46</td>\n",
       "      <td>107</td>\n",
       "      <td>0</td>\n",
       "      <td>0</td>\n",
       "      <td>310</td>\n",
       "      <td>910</td>\n",
       "    </tr>\n",
       "  </tbody>\n",
       "</table>\n",
       "</div>"
      ],
      "text/plain": [
       "   Status  Seniority  Home  Time  Age  Marital  Records  Job  Expenses  \\\n",
       "0       1          9     1    60   30        2        1    3        73   \n",
       "1       1         17     1    60   58        3        1    1        48   \n",
       "2       2         10     2    36   46        2        2    3        90   \n",
       "3       1          0     1    60   24        1        1    1        63   \n",
       "4       1          0     1    36   26        1        1    1        46   \n",
       "\n",
       "   Income  Assets  Debt  Amount  Price  \n",
       "0     129       0     0     800    846  \n",
       "1     131       0     0    1000   1658  \n",
       "2     200    3000     0    2000   2985  \n",
       "3     182    2500     0     900   1325  \n",
       "4     107       0     0     310    910  "
      ]
     },
     "execution_count": 6,
     "metadata": {},
     "output_type": "execute_result"
    }
   ],
   "source": [
    "df = pd.read_csv('https://raw.githubusercontent.com/fenago/classify/main/data/CreditScoring.csv')\n",
    "df.head()"
   ]
  },
  {
   "cell_type": "code",
   "execution_count": 7,
   "id": "a0620645-9c38-419c-a4ae-e8f5d953d4e6",
   "metadata": {
    "tags": []
   },
   "outputs": [
    {
     "data": {
      "text/html": [
       "<div>\n",
       "<style scoped>\n",
       "    .dataframe tbody tr th:only-of-type {\n",
       "        vertical-align: middle;\n",
       "    }\n",
       "\n",
       "    .dataframe tbody tr th {\n",
       "        vertical-align: top;\n",
       "    }\n",
       "\n",
       "    .dataframe thead th {\n",
       "        text-align: right;\n",
       "    }\n",
       "</style>\n",
       "<table border=\"1\" class=\"dataframe\">\n",
       "  <thead>\n",
       "    <tr style=\"text-align: right;\">\n",
       "      <th></th>\n",
       "      <th>Status</th>\n",
       "      <th>Seniority</th>\n",
       "      <th>Home</th>\n",
       "      <th>Time</th>\n",
       "      <th>Age</th>\n",
       "      <th>Marital</th>\n",
       "      <th>Records</th>\n",
       "      <th>Job</th>\n",
       "      <th>Expenses</th>\n",
       "      <th>Income</th>\n",
       "      <th>Assets</th>\n",
       "      <th>Debt</th>\n",
       "      <th>Amount</th>\n",
       "      <th>Price</th>\n",
       "    </tr>\n",
       "  </thead>\n",
       "  <tbody>\n",
       "    <tr>\n",
       "      <th>count</th>\n",
       "      <td>4455.000000</td>\n",
       "      <td>4455.000000</td>\n",
       "      <td>4455.000000</td>\n",
       "      <td>4455.000000</td>\n",
       "      <td>4455.000000</td>\n",
       "      <td>4455.000000</td>\n",
       "      <td>4455.000000</td>\n",
       "      <td>4455.000000</td>\n",
       "      <td>4455.000000</td>\n",
       "      <td>4.455000e+03</td>\n",
       "      <td>4.455000e+03</td>\n",
       "      <td>4.455000e+03</td>\n",
       "      <td>4455.000000</td>\n",
       "      <td>4455.000000</td>\n",
       "    </tr>\n",
       "    <tr>\n",
       "      <th>mean</th>\n",
       "      <td>1.281257</td>\n",
       "      <td>7.987205</td>\n",
       "      <td>2.657015</td>\n",
       "      <td>46.441751</td>\n",
       "      <td>37.077666</td>\n",
       "      <td>1.879012</td>\n",
       "      <td>1.173513</td>\n",
       "      <td>1.675870</td>\n",
       "      <td>55.568799</td>\n",
       "      <td>7.633170e+05</td>\n",
       "      <td>1.060341e+06</td>\n",
       "      <td>4.043820e+05</td>\n",
       "      <td>1039.021773</td>\n",
       "      <td>1462.875645</td>\n",
       "    </tr>\n",
       "    <tr>\n",
       "      <th>std</th>\n",
       "      <td>0.450162</td>\n",
       "      <td>8.173444</td>\n",
       "      <td>1.610467</td>\n",
       "      <td>14.655225</td>\n",
       "      <td>10.984856</td>\n",
       "      <td>0.643748</td>\n",
       "      <td>0.378733</td>\n",
       "      <td>0.954035</td>\n",
       "      <td>19.515878</td>\n",
       "      <td>8.703625e+06</td>\n",
       "      <td>1.021757e+07</td>\n",
       "      <td>6.344253e+06</td>\n",
       "      <td>474.543007</td>\n",
       "      <td>628.089913</td>\n",
       "    </tr>\n",
       "    <tr>\n",
       "      <th>min</th>\n",
       "      <td>0.000000</td>\n",
       "      <td>0.000000</td>\n",
       "      <td>0.000000</td>\n",
       "      <td>6.000000</td>\n",
       "      <td>18.000000</td>\n",
       "      <td>0.000000</td>\n",
       "      <td>1.000000</td>\n",
       "      <td>0.000000</td>\n",
       "      <td>35.000000</td>\n",
       "      <td>0.000000e+00</td>\n",
       "      <td>0.000000e+00</td>\n",
       "      <td>0.000000e+00</td>\n",
       "      <td>100.000000</td>\n",
       "      <td>105.000000</td>\n",
       "    </tr>\n",
       "    <tr>\n",
       "      <th>25%</th>\n",
       "      <td>1.000000</td>\n",
       "      <td>2.000000</td>\n",
       "      <td>2.000000</td>\n",
       "      <td>36.000000</td>\n",
       "      <td>28.000000</td>\n",
       "      <td>2.000000</td>\n",
       "      <td>1.000000</td>\n",
       "      <td>1.000000</td>\n",
       "      <td>35.000000</td>\n",
       "      <td>8.000000e+01</td>\n",
       "      <td>0.000000e+00</td>\n",
       "      <td>0.000000e+00</td>\n",
       "      <td>700.000000</td>\n",
       "      <td>1117.500000</td>\n",
       "    </tr>\n",
       "    <tr>\n",
       "      <th>50%</th>\n",
       "      <td>1.000000</td>\n",
       "      <td>5.000000</td>\n",
       "      <td>2.000000</td>\n",
       "      <td>48.000000</td>\n",
       "      <td>36.000000</td>\n",
       "      <td>2.000000</td>\n",
       "      <td>1.000000</td>\n",
       "      <td>1.000000</td>\n",
       "      <td>51.000000</td>\n",
       "      <td>1.200000e+02</td>\n",
       "      <td>3.500000e+03</td>\n",
       "      <td>0.000000e+00</td>\n",
       "      <td>1000.000000</td>\n",
       "      <td>1400.000000</td>\n",
       "    </tr>\n",
       "    <tr>\n",
       "      <th>75%</th>\n",
       "      <td>2.000000</td>\n",
       "      <td>12.000000</td>\n",
       "      <td>4.000000</td>\n",
       "      <td>60.000000</td>\n",
       "      <td>45.000000</td>\n",
       "      <td>2.000000</td>\n",
       "      <td>1.000000</td>\n",
       "      <td>3.000000</td>\n",
       "      <td>72.000000</td>\n",
       "      <td>1.660000e+02</td>\n",
       "      <td>6.000000e+03</td>\n",
       "      <td>0.000000e+00</td>\n",
       "      <td>1300.000000</td>\n",
       "      <td>1692.000000</td>\n",
       "    </tr>\n",
       "    <tr>\n",
       "      <th>max</th>\n",
       "      <td>2.000000</td>\n",
       "      <td>48.000000</td>\n",
       "      <td>6.000000</td>\n",
       "      <td>72.000000</td>\n",
       "      <td>68.000000</td>\n",
       "      <td>5.000000</td>\n",
       "      <td>2.000000</td>\n",
       "      <td>4.000000</td>\n",
       "      <td>180.000000</td>\n",
       "      <td>1.000000e+08</td>\n",
       "      <td>1.000000e+08</td>\n",
       "      <td>1.000000e+08</td>\n",
       "      <td>5000.000000</td>\n",
       "      <td>11140.000000</td>\n",
       "    </tr>\n",
       "  </tbody>\n",
       "</table>\n",
       "</div>"
      ],
      "text/plain": [
       "            Status    Seniority         Home         Time          Age  \\\n",
       "count  4455.000000  4455.000000  4455.000000  4455.000000  4455.000000   \n",
       "mean      1.281257     7.987205     2.657015    46.441751    37.077666   \n",
       "std       0.450162     8.173444     1.610467    14.655225    10.984856   \n",
       "min       0.000000     0.000000     0.000000     6.000000    18.000000   \n",
       "25%       1.000000     2.000000     2.000000    36.000000    28.000000   \n",
       "50%       1.000000     5.000000     2.000000    48.000000    36.000000   \n",
       "75%       2.000000    12.000000     4.000000    60.000000    45.000000   \n",
       "max       2.000000    48.000000     6.000000    72.000000    68.000000   \n",
       "\n",
       "           Marital      Records          Job     Expenses        Income  \\\n",
       "count  4455.000000  4455.000000  4455.000000  4455.000000  4.455000e+03   \n",
       "mean      1.879012     1.173513     1.675870    55.568799  7.633170e+05   \n",
       "std       0.643748     0.378733     0.954035    19.515878  8.703625e+06   \n",
       "min       0.000000     1.000000     0.000000    35.000000  0.000000e+00   \n",
       "25%       2.000000     1.000000     1.000000    35.000000  8.000000e+01   \n",
       "50%       2.000000     1.000000     1.000000    51.000000  1.200000e+02   \n",
       "75%       2.000000     1.000000     3.000000    72.000000  1.660000e+02   \n",
       "max       5.000000     2.000000     4.000000   180.000000  1.000000e+08   \n",
       "\n",
       "             Assets          Debt       Amount         Price  \n",
       "count  4.455000e+03  4.455000e+03  4455.000000   4455.000000  \n",
       "mean   1.060341e+06  4.043820e+05  1039.021773   1462.875645  \n",
       "std    1.021757e+07  6.344253e+06   474.543007    628.089913  \n",
       "min    0.000000e+00  0.000000e+00   100.000000    105.000000  \n",
       "25%    0.000000e+00  0.000000e+00   700.000000   1117.500000  \n",
       "50%    3.500000e+03  0.000000e+00  1000.000000   1400.000000  \n",
       "75%    6.000000e+03  0.000000e+00  1300.000000   1692.000000  \n",
       "max    1.000000e+08  1.000000e+08  5000.000000  11140.000000  "
      ]
     },
     "execution_count": 7,
     "metadata": {},
     "output_type": "execute_result"
    }
   ],
   "source": [
    "df.describe()"
   ]
  },
  {
   "cell_type": "code",
   "execution_count": 8,
   "id": "ab95be5f-8d08-4315-9022-7565378409cf",
   "metadata": {
    "tags": []
   },
   "outputs": [
    {
     "data": {
      "text/plain": [
       "Status          3\n",
       "Seniority      47\n",
       "Home            7\n",
       "Time           11\n",
       "Age            50\n",
       "Marital         6\n",
       "Records         2\n",
       "Job             5\n",
       "Expenses       94\n",
       "Income        353\n",
       "Assets        160\n",
       "Debt          183\n",
       "Amount        285\n",
       "Price        1419\n",
       "dtype: int64"
      ]
     },
     "execution_count": 8,
     "metadata": {},
     "output_type": "execute_result"
    }
   ],
   "source": [
    "df.nunique()"
   ]
  },
  {
   "cell_type": "code",
   "execution_count": 9,
   "id": "50c78807-6ddb-4428-8f8e-25f4b3b609eb",
   "metadata": {
    "tags": []
   },
   "outputs": [
    {
     "data": {
      "text/html": [
       "<div>\n",
       "<style scoped>\n",
       "    .dataframe tbody tr th:only-of-type {\n",
       "        vertical-align: middle;\n",
       "    }\n",
       "\n",
       "    .dataframe tbody tr th {\n",
       "        vertical-align: top;\n",
       "    }\n",
       "\n",
       "    .dataframe thead th {\n",
       "        text-align: right;\n",
       "    }\n",
       "</style>\n",
       "<table border=\"1\" class=\"dataframe\">\n",
       "  <thead>\n",
       "    <tr style=\"text-align: right;\">\n",
       "      <th></th>\n",
       "      <th>Status</th>\n",
       "      <th>Seniority</th>\n",
       "      <th>Home</th>\n",
       "      <th>Time</th>\n",
       "      <th>Age</th>\n",
       "      <th>Marital</th>\n",
       "      <th>Records</th>\n",
       "      <th>Job</th>\n",
       "      <th>Expenses</th>\n",
       "      <th>Income</th>\n",
       "      <th>Assets</th>\n",
       "      <th>Debt</th>\n",
       "      <th>Amount</th>\n",
       "      <th>Price</th>\n",
       "    </tr>\n",
       "  </thead>\n",
       "  <tbody>\n",
       "    <tr>\n",
       "      <th>Status</th>\n",
       "      <td>1.000000</td>\n",
       "      <td>-0.260312</td>\n",
       "      <td>0.051025</td>\n",
       "      <td>0.099935</td>\n",
       "      <td>-0.094498</td>\n",
       "      <td>0.010535</td>\n",
       "      <td>0.278638</td>\n",
       "      <td>0.152722</td>\n",
       "      <td>0.029499</td>\n",
       "      <td>0.059807</td>\n",
       "      <td>0.032989</td>\n",
       "      <td>0.062401</td>\n",
       "      <td>0.153771</td>\n",
       "      <td>0.010297</td>\n",
       "    </tr>\n",
       "    <tr>\n",
       "      <th>Seniority</th>\n",
       "      <td>-0.260312</td>\n",
       "      <td>1.000000</td>\n",
       "      <td>-0.145878</td>\n",
       "      <td>-0.021320</td>\n",
       "      <td>0.505787</td>\n",
       "      <td>0.163433</td>\n",
       "      <td>-0.015674</td>\n",
       "      <td>-0.109339</td>\n",
       "      <td>0.125798</td>\n",
       "      <td>-0.034262</td>\n",
       "      <td>0.026380</td>\n",
       "      <td>0.005725</td>\n",
       "      <td>-0.007859</td>\n",
       "      <td>0.040922</td>\n",
       "    </tr>\n",
       "    <tr>\n",
       "      <th>Home</th>\n",
       "      <td>0.051025</td>\n",
       "      <td>-0.145878</td>\n",
       "      <td>1.000000</td>\n",
       "      <td>-0.020880</td>\n",
       "      <td>-0.270784</td>\n",
       "      <td>-0.260712</td>\n",
       "      <td>-0.013205</td>\n",
       "      <td>-0.032042</td>\n",
       "      <td>-0.334092</td>\n",
       "      <td>-0.022968</td>\n",
       "      <td>-0.020389</td>\n",
       "      <td>-0.043584</td>\n",
       "      <td>-0.019560</td>\n",
       "      <td>-0.026542</td>\n",
       "    </tr>\n",
       "    <tr>\n",
       "      <th>Time</th>\n",
       "      <td>0.099935</td>\n",
       "      <td>-0.021320</td>\n",
       "      <td>-0.020880</td>\n",
       "      <td>1.000000</td>\n",
       "      <td>-0.051966</td>\n",
       "      <td>0.049978</td>\n",
       "      <td>0.028094</td>\n",
       "      <td>-0.138454</td>\n",
       "      <td>-0.001059</td>\n",
       "      <td>-0.020246</td>\n",
       "      <td>-0.039491</td>\n",
       "      <td>-0.051170</td>\n",
       "      <td>0.431050</td>\n",
       "      <td>0.129796</td>\n",
       "    </tr>\n",
       "    <tr>\n",
       "      <th>Age</th>\n",
       "      <td>-0.094498</td>\n",
       "      <td>0.505787</td>\n",
       "      <td>-0.270784</td>\n",
       "      <td>-0.051966</td>\n",
       "      <td>1.000000</td>\n",
       "      <td>0.325652</td>\n",
       "      <td>0.060171</td>\n",
       "      <td>0.179447</td>\n",
       "      <td>0.248254</td>\n",
       "      <td>0.010653</td>\n",
       "      <td>0.053084</td>\n",
       "      <td>0.015971</td>\n",
       "      <td>0.028907</td>\n",
       "      <td>0.048739</td>\n",
       "    </tr>\n",
       "    <tr>\n",
       "      <th>Marital</th>\n",
       "      <td>0.010535</td>\n",
       "      <td>0.163433</td>\n",
       "      <td>-0.260712</td>\n",
       "      <td>0.049978</td>\n",
       "      <td>0.325652</td>\n",
       "      <td>1.000000</td>\n",
       "      <td>0.082440</td>\n",
       "      <td>0.034105</td>\n",
       "      <td>0.210315</td>\n",
       "      <td>0.004463</td>\n",
       "      <td>-0.007824</td>\n",
       "      <td>0.000985</td>\n",
       "      <td>0.054130</td>\n",
       "      <td>0.062537</td>\n",
       "    </tr>\n",
       "    <tr>\n",
       "      <th>Records</th>\n",
       "      <td>0.278638</td>\n",
       "      <td>-0.015674</td>\n",
       "      <td>-0.013205</td>\n",
       "      <td>0.028094</td>\n",
       "      <td>0.060171</td>\n",
       "      <td>0.082440</td>\n",
       "      <td>1.000000</td>\n",
       "      <td>0.033898</td>\n",
       "      <td>0.057329</td>\n",
       "      <td>0.034741</td>\n",
       "      <td>0.004926</td>\n",
       "      <td>0.008197</td>\n",
       "      <td>0.110349</td>\n",
       "      <td>0.085143</td>\n",
       "    </tr>\n",
       "    <tr>\n",
       "      <th>Job</th>\n",
       "      <td>0.152722</td>\n",
       "      <td>-0.109339</td>\n",
       "      <td>-0.032042</td>\n",
       "      <td>-0.138454</td>\n",
       "      <td>0.179447</td>\n",
       "      <td>0.034105</td>\n",
       "      <td>0.033898</td>\n",
       "      <td>1.000000</td>\n",
       "      <td>0.024170</td>\n",
       "      <td>0.102801</td>\n",
       "      <td>0.049138</td>\n",
       "      <td>0.029067</td>\n",
       "      <td>0.055833</td>\n",
       "      <td>0.056497</td>\n",
       "    </tr>\n",
       "    <tr>\n",
       "      <th>Expenses</th>\n",
       "      <td>0.029499</td>\n",
       "      <td>0.125798</td>\n",
       "      <td>-0.334092</td>\n",
       "      <td>-0.001059</td>\n",
       "      <td>0.248254</td>\n",
       "      <td>0.210315</td>\n",
       "      <td>0.057329</td>\n",
       "      <td>0.024170</td>\n",
       "      <td>1.000000</td>\n",
       "      <td>0.010664</td>\n",
       "      <td>-0.023255</td>\n",
       "      <td>-0.018899</td>\n",
       "      <td>0.048958</td>\n",
       "      <td>0.040162</td>\n",
       "    </tr>\n",
       "    <tr>\n",
       "      <th>Income</th>\n",
       "      <td>0.059807</td>\n",
       "      <td>-0.034262</td>\n",
       "      <td>-0.022968</td>\n",
       "      <td>-0.020246</td>\n",
       "      <td>0.010653</td>\n",
       "      <td>0.004463</td>\n",
       "      <td>0.034741</td>\n",
       "      <td>0.102801</td>\n",
       "      <td>0.010664</td>\n",
       "      <td>1.000000</td>\n",
       "      <td>0.092042</td>\n",
       "      <td>0.116399</td>\n",
       "      <td>0.019659</td>\n",
       "      <td>0.023088</td>\n",
       "    </tr>\n",
       "    <tr>\n",
       "      <th>Assets</th>\n",
       "      <td>0.032989</td>\n",
       "      <td>0.026380</td>\n",
       "      <td>-0.020389</td>\n",
       "      <td>-0.039491</td>\n",
       "      <td>0.053084</td>\n",
       "      <td>-0.007824</td>\n",
       "      <td>0.004926</td>\n",
       "      <td>0.049138</td>\n",
       "      <td>-0.023255</td>\n",
       "      <td>0.092042</td>\n",
       "      <td>1.000000</td>\n",
       "      <td>0.616823</td>\n",
       "      <td>0.014568</td>\n",
       "      <td>0.029690</td>\n",
       "    </tr>\n",
       "    <tr>\n",
       "      <th>Debt</th>\n",
       "      <td>0.062401</td>\n",
       "      <td>0.005725</td>\n",
       "      <td>-0.043584</td>\n",
       "      <td>-0.051170</td>\n",
       "      <td>0.015971</td>\n",
       "      <td>0.000985</td>\n",
       "      <td>0.008197</td>\n",
       "      <td>0.029067</td>\n",
       "      <td>-0.018899</td>\n",
       "      <td>0.116399</td>\n",
       "      <td>0.616823</td>\n",
       "      <td>1.000000</td>\n",
       "      <td>0.056259</td>\n",
       "      <td>0.066406</td>\n",
       "    </tr>\n",
       "    <tr>\n",
       "      <th>Amount</th>\n",
       "      <td>0.153771</td>\n",
       "      <td>-0.007859</td>\n",
       "      <td>-0.019560</td>\n",
       "      <td>0.431050</td>\n",
       "      <td>0.028907</td>\n",
       "      <td>0.054130</td>\n",
       "      <td>0.110349</td>\n",
       "      <td>0.055833</td>\n",
       "      <td>0.048958</td>\n",
       "      <td>0.019659</td>\n",
       "      <td>0.014568</td>\n",
       "      <td>0.056259</td>\n",
       "      <td>1.000000</td>\n",
       "      <td>0.725040</td>\n",
       "    </tr>\n",
       "    <tr>\n",
       "      <th>Price</th>\n",
       "      <td>0.010297</td>\n",
       "      <td>0.040922</td>\n",
       "      <td>-0.026542</td>\n",
       "      <td>0.129796</td>\n",
       "      <td>0.048739</td>\n",
       "      <td>0.062537</td>\n",
       "      <td>0.085143</td>\n",
       "      <td>0.056497</td>\n",
       "      <td>0.040162</td>\n",
       "      <td>0.023088</td>\n",
       "      <td>0.029690</td>\n",
       "      <td>0.066406</td>\n",
       "      <td>0.725040</td>\n",
       "      <td>1.000000</td>\n",
       "    </tr>\n",
       "  </tbody>\n",
       "</table>\n",
       "</div>"
      ],
      "text/plain": [
       "             Status  Seniority      Home      Time       Age   Marital  \\\n",
       "Status     1.000000  -0.260312  0.051025  0.099935 -0.094498  0.010535   \n",
       "Seniority -0.260312   1.000000 -0.145878 -0.021320  0.505787  0.163433   \n",
       "Home       0.051025  -0.145878  1.000000 -0.020880 -0.270784 -0.260712   \n",
       "Time       0.099935  -0.021320 -0.020880  1.000000 -0.051966  0.049978   \n",
       "Age       -0.094498   0.505787 -0.270784 -0.051966  1.000000  0.325652   \n",
       "Marital    0.010535   0.163433 -0.260712  0.049978  0.325652  1.000000   \n",
       "Records    0.278638  -0.015674 -0.013205  0.028094  0.060171  0.082440   \n",
       "Job        0.152722  -0.109339 -0.032042 -0.138454  0.179447  0.034105   \n",
       "Expenses   0.029499   0.125798 -0.334092 -0.001059  0.248254  0.210315   \n",
       "Income     0.059807  -0.034262 -0.022968 -0.020246  0.010653  0.004463   \n",
       "Assets     0.032989   0.026380 -0.020389 -0.039491  0.053084 -0.007824   \n",
       "Debt       0.062401   0.005725 -0.043584 -0.051170  0.015971  0.000985   \n",
       "Amount     0.153771  -0.007859 -0.019560  0.431050  0.028907  0.054130   \n",
       "Price      0.010297   0.040922 -0.026542  0.129796  0.048739  0.062537   \n",
       "\n",
       "            Records       Job  Expenses    Income    Assets      Debt  \\\n",
       "Status     0.278638  0.152722  0.029499  0.059807  0.032989  0.062401   \n",
       "Seniority -0.015674 -0.109339  0.125798 -0.034262  0.026380  0.005725   \n",
       "Home      -0.013205 -0.032042 -0.334092 -0.022968 -0.020389 -0.043584   \n",
       "Time       0.028094 -0.138454 -0.001059 -0.020246 -0.039491 -0.051170   \n",
       "Age        0.060171  0.179447  0.248254  0.010653  0.053084  0.015971   \n",
       "Marital    0.082440  0.034105  0.210315  0.004463 -0.007824  0.000985   \n",
       "Records    1.000000  0.033898  0.057329  0.034741  0.004926  0.008197   \n",
       "Job        0.033898  1.000000  0.024170  0.102801  0.049138  0.029067   \n",
       "Expenses   0.057329  0.024170  1.000000  0.010664 -0.023255 -0.018899   \n",
       "Income     0.034741  0.102801  0.010664  1.000000  0.092042  0.116399   \n",
       "Assets     0.004926  0.049138 -0.023255  0.092042  1.000000  0.616823   \n",
       "Debt       0.008197  0.029067 -0.018899  0.116399  0.616823  1.000000   \n",
       "Amount     0.110349  0.055833  0.048958  0.019659  0.014568  0.056259   \n",
       "Price      0.085143  0.056497  0.040162  0.023088  0.029690  0.066406   \n",
       "\n",
       "             Amount     Price  \n",
       "Status     0.153771  0.010297  \n",
       "Seniority -0.007859  0.040922  \n",
       "Home      -0.019560 -0.026542  \n",
       "Time       0.431050  0.129796  \n",
       "Age        0.028907  0.048739  \n",
       "Marital    0.054130  0.062537  \n",
       "Records    0.110349  0.085143  \n",
       "Job        0.055833  0.056497  \n",
       "Expenses   0.048958  0.040162  \n",
       "Income     0.019659  0.023088  \n",
       "Assets     0.014568  0.029690  \n",
       "Debt       0.056259  0.066406  \n",
       "Amount     1.000000  0.725040  \n",
       "Price      0.725040  1.000000  "
      ]
     },
     "execution_count": 9,
     "metadata": {},
     "output_type": "execute_result"
    }
   ],
   "source": [
    "df.corr()"
   ]
  },
  {
   "cell_type": "code",
   "execution_count": 13,
   "id": "ef4d546f-04f9-4dd9-af4a-89a86c97dcad",
   "metadata": {
    "tags": []
   },
   "outputs": [],
   "source": [
    "# Basic Data Cleaning\n",
    "df.columns = df.columns.str.lower().str.replace(' ', '_') # A\n",
    " \n",
    "string_columns = list(df.dtypes[df.dtypes == 'object'].index) # B\n",
    " \n",
    "for col in string_columns:\n",
    "    df[col] = df[col].str.lower().str.replace(' ', '_') # C"
   ]
  },
  {
   "cell_type": "code",
   "execution_count": 14,
   "id": "3ba3c3c9-5fd1-42b7-940e-0a693f20c5ba",
   "metadata": {
    "tags": []
   },
   "outputs": [],
   "source": [
    "# 999999999 - several values of that in the income, assets, and debt column\n",
    "for c in ['income', 'assets','debt']:\n",
    "  df[c] = df[c].replace(to_replace=99999999,value=np.nan)\n"
   ]
  },
  {
   "cell_type": "code",
   "execution_count": 15,
   "id": "069b6230-cfef-41c3-88cb-c63f24d625f2",
   "metadata": {
    "tags": []
   },
   "outputs": [
    {
     "data": {
      "text/html": [
       "<div>\n",
       "<style scoped>\n",
       "    .dataframe tbody tr th:only-of-type {\n",
       "        vertical-align: middle;\n",
       "    }\n",
       "\n",
       "    .dataframe tbody tr th {\n",
       "        vertical-align: top;\n",
       "    }\n",
       "\n",
       "    .dataframe thead th {\n",
       "        text-align: right;\n",
       "    }\n",
       "</style>\n",
       "<table border=\"1\" class=\"dataframe\">\n",
       "  <thead>\n",
       "    <tr style=\"text-align: right;\">\n",
       "      <th></th>\n",
       "      <th>status</th>\n",
       "      <th>seniority</th>\n",
       "      <th>home</th>\n",
       "      <th>time</th>\n",
       "      <th>age</th>\n",
       "      <th>marital</th>\n",
       "      <th>records</th>\n",
       "      <th>job</th>\n",
       "      <th>expenses</th>\n",
       "      <th>income</th>\n",
       "      <th>assets</th>\n",
       "      <th>debt</th>\n",
       "      <th>amount</th>\n",
       "      <th>price</th>\n",
       "    </tr>\n",
       "  </thead>\n",
       "  <tbody>\n",
       "    <tr>\n",
       "      <th>0</th>\n",
       "      <td>1</td>\n",
       "      <td>9</td>\n",
       "      <td>1</td>\n",
       "      <td>60</td>\n",
       "      <td>30</td>\n",
       "      <td>2</td>\n",
       "      <td>1</td>\n",
       "      <td>3</td>\n",
       "      <td>73</td>\n",
       "      <td>129.0</td>\n",
       "      <td>0.0</td>\n",
       "      <td>0.0</td>\n",
       "      <td>800</td>\n",
       "      <td>846</td>\n",
       "    </tr>\n",
       "    <tr>\n",
       "      <th>1</th>\n",
       "      <td>1</td>\n",
       "      <td>17</td>\n",
       "      <td>1</td>\n",
       "      <td>60</td>\n",
       "      <td>58</td>\n",
       "      <td>3</td>\n",
       "      <td>1</td>\n",
       "      <td>1</td>\n",
       "      <td>48</td>\n",
       "      <td>131.0</td>\n",
       "      <td>0.0</td>\n",
       "      <td>0.0</td>\n",
       "      <td>1000</td>\n",
       "      <td>1658</td>\n",
       "    </tr>\n",
       "    <tr>\n",
       "      <th>2</th>\n",
       "      <td>2</td>\n",
       "      <td>10</td>\n",
       "      <td>2</td>\n",
       "      <td>36</td>\n",
       "      <td>46</td>\n",
       "      <td>2</td>\n",
       "      <td>2</td>\n",
       "      <td>3</td>\n",
       "      <td>90</td>\n",
       "      <td>200.0</td>\n",
       "      <td>3000.0</td>\n",
       "      <td>0.0</td>\n",
       "      <td>2000</td>\n",
       "      <td>2985</td>\n",
       "    </tr>\n",
       "    <tr>\n",
       "      <th>3</th>\n",
       "      <td>1</td>\n",
       "      <td>0</td>\n",
       "      <td>1</td>\n",
       "      <td>60</td>\n",
       "      <td>24</td>\n",
       "      <td>1</td>\n",
       "      <td>1</td>\n",
       "      <td>1</td>\n",
       "      <td>63</td>\n",
       "      <td>182.0</td>\n",
       "      <td>2500.0</td>\n",
       "      <td>0.0</td>\n",
       "      <td>900</td>\n",
       "      <td>1325</td>\n",
       "    </tr>\n",
       "    <tr>\n",
       "      <th>4</th>\n",
       "      <td>1</td>\n",
       "      <td>0</td>\n",
       "      <td>1</td>\n",
       "      <td>36</td>\n",
       "      <td>26</td>\n",
       "      <td>1</td>\n",
       "      <td>1</td>\n",
       "      <td>1</td>\n",
       "      <td>46</td>\n",
       "      <td>107.0</td>\n",
       "      <td>0.0</td>\n",
       "      <td>0.0</td>\n",
       "      <td>310</td>\n",
       "      <td>910</td>\n",
       "    </tr>\n",
       "  </tbody>\n",
       "</table>\n",
       "</div>"
      ],
      "text/plain": [
       "   status  seniority  home  time  age  marital  records  job  expenses  \\\n",
       "0       1          9     1    60   30        2        1    3        73   \n",
       "1       1         17     1    60   58        3        1    1        48   \n",
       "2       2         10     2    36   46        2        2    3        90   \n",
       "3       1          0     1    60   24        1        1    1        63   \n",
       "4       1          0     1    36   26        1        1    1        46   \n",
       "\n",
       "   income  assets  debt  amount  price  \n",
       "0   129.0     0.0   0.0     800    846  \n",
       "1   131.0     0.0   0.0    1000   1658  \n",
       "2   200.0  3000.0   0.0    2000   2985  \n",
       "3   182.0  2500.0   0.0     900   1325  \n",
       "4   107.0     0.0   0.0     310    910  "
      ]
     },
     "execution_count": 15,
     "metadata": {},
     "output_type": "execute_result"
    }
   ],
   "source": [
    "df.head()"
   ]
  },
  {
   "cell_type": "code",
   "execution_count": 21,
   "id": "8366db90-387f-4c82-8696-c976bf94d038",
   "metadata": {
    "tags": []
   },
   "outputs": [
    {
     "data": {
      "text/plain": [
       "status          3\n",
       "seniority      47\n",
       "home            7\n",
       "time           11\n",
       "age            50\n",
       "marital         6\n",
       "records         2\n",
       "job             5\n",
       "expenses       94\n",
       "income        352\n",
       "assets        159\n",
       "debt          182\n",
       "amount        285\n",
       "price        1419\n",
       "dtype: int64"
      ]
     },
     "execution_count": 21,
     "metadata": {},
     "output_type": "execute_result"
    }
   ],
   "source": [
    "df.nunique()"
   ]
  },
  {
   "cell_type": "code",
   "execution_count": 22,
   "id": "3870d3cc-3eaf-4a70-8e18-e34eca020d98",
   "metadata": {
    "tags": []
   },
   "outputs": [
    {
     "data": {
      "text/plain": [
       "array([1, 2, 0], dtype=int64)"
      ]
     },
     "execution_count": 22,
     "metadata": {},
     "output_type": "execute_result"
    }
   ],
   "source": [
    "df['status'].unique()"
   ]
  },
  {
   "cell_type": "code",
   "execution_count": 23,
   "id": "7dbe4fb2-3926-496c-9489-ace0b7950a49",
   "metadata": {
    "tags": []
   },
   "outputs": [
    {
     "data": {
      "text/plain": [
       "1    3200\n",
       "2    1254\n",
       "0       1\n",
       "Name: status, dtype: int64"
      ]
     },
     "execution_count": 23,
     "metadata": {},
     "output_type": "execute_result"
    }
   ],
   "source": [
    "df['status'].value_counts()"
   ]
  },
  {
   "cell_type": "code",
   "execution_count": 24,
   "id": "b128dcaa-41ee-476e-8e1a-6873f827f831",
   "metadata": {
    "tags": []
   },
   "outputs": [],
   "source": [
    "df=df[df.status !=0]"
   ]
  },
  {
   "cell_type": "code",
   "execution_count": 26,
   "id": "382431fb-bb94-4a93-9d1b-d664b6075ed8",
   "metadata": {
    "tags": []
   },
   "outputs": [
    {
     "data": {
      "text/plain": [
       "1    3200\n",
       "2    1254\n",
       "Name: status, dtype: int64"
      ]
     },
     "execution_count": 26,
     "metadata": {},
     "output_type": "execute_result"
    }
   ],
   "source": [
    "df['status'].value_counts()"
   ]
  },
  {
   "cell_type": "code",
   "execution_count": 27,
   "id": "cc36963d-bdc4-476a-b78f-54b396d94b8d",
   "metadata": {
    "tags": []
   },
   "outputs": [
    {
     "data": {
      "image/png": "[encoded data removed]",
      "text/plain": [
       "<Figure size 600x400 with 1 Axes>"
      ]
     },
     "metadata": {},
     "output_type": "display_data"
    }
   ],
   "source": [
    "# Replace with your target variable --- df.YOUR_TARGET_VARIABLE  \n",
    "# Look for major data imbalances\n",
    "# Also replace your X label\n",
    "# REPLACE YOUR TARGET VARIABLE\n",
    "plt.figure(figsize=(6, 4))\n",
    "\n",
    "sns.histplot(df.status, bins=40, color='black', alpha=1)\n",
    "plt.ylabel('Frequency')\n",
    "plt.xlabel('status')\n",
    "plt.title('status')\n",
    "\n",
    "#plt.show()"
   ]
  },
  {
   "cell_type": "code",
   "execution_count": 29,
   "id": "ce25f358-79de-4f18-99d1-dfd68d7be1d9",
   "metadata": {
    "tags": []
   },
   "outputs": [
    {
     "data": {
      "text/plain": [
       "status        0\n",
       "seniority     0\n",
       "home          0\n",
       "time          0\n",
       "age           0\n",
       "marital       0\n",
       "records       0\n",
       "job           0\n",
       "expenses      0\n",
       "income       34\n",
       "assets       47\n",
       "debt         18\n",
       "amount        0\n",
       "price         0\n",
       "dtype: int64"
      ]
     },
     "execution_count": 29,
     "metadata": {},
     "output_type": "execute_result"
    }
   ],
   "source": [
    "#nulls exist because we removed 999 with nulls\n",
    "df.isnull().sum()"
   ]
  },
  {
   "cell_type": "code",
   "execution_count": 35,
   "id": "8c38699a-a825-4d31-871b-34a6b59ce9ef",
   "metadata": {
    "tags": []
   },
   "outputs": [
    {
     "data": {
      "text/plain": [
       "891"
      ]
     },
     "execution_count": 35,
     "metadata": {},
     "output_type": "execute_result"
    }
   ],
   "source": [
    "from sklearn.model_selection import train_test_split\n",
    "df_train_full,df_test=train_test_split(df,test_size=0.2,random_state=11)\n",
    "\n",
    "#data leakage - insidious problem in ML\n",
    "# split the data into training and learning fastest and then treat each set \n",
    "# separately i.e. nulll handling later after splitting\n",
    "# another problem is stratification : because all random values which are 2 could be in training set and not in testing set\n",
    "# make a stratified split is an advanced way to split\n",
    "# test data should be raw i.e. without pre-processing\n",
    "# in the real world you wont pre-process the real data i.e. test data\n",
    "# that way you wont bias the test data\n",
    "# test should be closest to real world data\n",
    "\n",
    "#data leakage will make predictions that are accurate on the training data but not when the model is used to make predictions on new data.\n",
    "# but test data will have the dependent variable value already unlike real world\n",
    "\n",
    "df_train_full=df_train_full.fillna(0)\n",
    "df_test=df_test.fillna(0)\n",
    "\n",
    "len(df_train_full)\n",
    "len(df_test)"
   ]
  },
  {
   "cell_type": "code",
   "execution_count": 40,
   "id": "ea4d044e-e70c-442a-bb2b-392310459023",
   "metadata": {
    "tags": []
   },
   "outputs": [],
   "source": [
    "#Split the y out into train/test/splits... these are numpy ndarrays ... msrp is your target variables\n",
    "# Replace with your target variable!!!  \n",
    "y_train = (df_train_full.status).values\n",
    "y_test = (df_test.status).values\n",
    "del df_train_full['status']\n",
    "del df_test['status']"
   ]
  },
  {
   "cell_type": "code",
   "execution_count": 41,
   "id": "c8beed14-9eee-4a13-bf73-a72e283ab2b8",
   "metadata": {
    "tags": []
   },
   "outputs": [
    {
     "data": {
      "text/plain": [
       "(3563, 891)"
      ]
     },
     "execution_count": 41,
     "metadata": {},
     "output_type": "execute_result"
    }
   ],
   "source": [
    "len(y_train),len(y_test)"
   ]
  },
  {
   "cell_type": "code",
   "execution_count": 43,
   "id": "0c159dfb-6c13-444d-9350-9956fb24a8cb",
   "metadata": {
    "tags": []
   },
   "outputs": [],
   "source": [
    "# Convert these data frames into a LIST of DICTIONARIES (each element in the list is a dictionary (the record))\n",
    "# IF YOU HAVE CAT values... we need to encode them... pandas get dummies OR dictionary vectorizor OR several other examples... allow us to encode\n",
    "# this example will work with ANY cat data.\n",
    "dict_train = df_train_full.to_dict(orient='records')\n",
    "dict_test = df_test.to_dict(orient='records')\n",
    "\n",
    "#DictVectorizer needs a dict, so convert into dict. dictvectorizer converts strings to intergers \n",
    "# i.e. it is .map({'string':'int'})"
   ]
  },
  {
   "cell_type": "code",
   "execution_count": 45,
   "id": "9ea08c99-7470-4567-a07a-fbc82a31f565",
   "metadata": {
    "tags": []
   },
   "outputs": [],
   "source": [
    "# Convert the LIST OF DICTIONARIES into a Feature Matrix (does all of the encoding)\n",
    "from sklearn.feature_extraction import DictVectorizer\n",
    " \n",
    "dv = DictVectorizer(sparse=False)\n",
    " \n",
    "X_train = dv.fit_transform(dict_train)\n",
    "X_test = dv.transform(dict_test)\n",
    "features = dv.feature_names_  #Features as they exist in the Vectorized Dictionary (this is an ndarray)\n",
    "#dictionary verctoriszer is OHE : alternative to get_dummies\n",
    "#both dictvectorizer and pandas.get_dummies are OHE; pandas.get_dummies is more manual - have to do one column at a time\n"
   ]
  },
  {
   "cell_type": "code",
   "execution_count": 46,
   "id": "78b1a9a6-a68b-4122-9a1c-0c29aa45220e",
   "metadata": {
    "tags": []
   },
   "outputs": [
    {
     "data": {
      "text/plain": [
       "['age',\n",
       " 'amount',\n",
       " 'assets',\n",
       " 'debt',\n",
       " 'expenses',\n",
       " 'home',\n",
       " 'income',\n",
       " 'job',\n",
       " 'marital',\n",
       " 'price',\n",
       " 'records',\n",
       " 'seniority',\n",
       " 'time']"
      ]
     },
     "execution_count": 46,
     "metadata": {},
     "output_type": "execute_result"
    }
   ],
   "source": [
    "features"
   ]
  },
  {
   "cell_type": "markdown",
   "id": "44822508-2f62-4592-865b-e5eeea39f2ea",
   "metadata": {},
   "source": [
    "* AUTOML SOLUTION BELOW *"
   ]
  },
  {
   "cell_type": "code",
   "execution_count": 47,
   "id": "7939f402-56cd-4325-80fe-3cf25420047c",
   "metadata": {
    "tags": []
   },
   "outputs": [
    {
     "name": "stdout",
     "output_type": "stream",
     "text": [
      "LR: 0.807315 (0.030664)\n",
      "Score for each of the 10 K-fold tests:  [0.81248451 0.81951296 0.82553373 0.77251603 0.84063745 0.82276608\n",
      " 0.84519744 0.73858293 0.79872503 0.79719235]\n",
      "LogisticRegression(solver='liblinear')\n",
      "\tTraining time: 0.058s\n",
      "\tPrediction time: 0.566s\n",
      "\n",
      "LDA: 0.811220 (0.037792)\n",
      "Score for each of the 10 K-fold tests:  [0.81215401 0.81070394 0.84204827 0.74551282 0.84860558 0.82223487\n",
      " 0.87167581 0.7501942  0.8081452  0.80092593]\n",
      "LinearDiscriminantAnalysis()\n",
      "\tTraining time: 0.013s\n",
      "\tPrediction time: 0.129s\n",
      "\n",
      "KNN: 0.664181 (0.022899)\n",
      "Score for each of the 10 K-fold tests:  [0.66198463 0.67541696 0.61593054 0.62670272 0.676513   0.6732878\n",
      " 0.6726275  0.69469316 0.67011126 0.6745445 ]\n",
      "KNeighborsClassifier()\n",
      "\tTraining time: 0.014s\n",
      "\tPrediction time: 0.222s\n",
      "\n",
      "CART: 0.643770 (0.025119)\n",
      "Score for each of the 10 K-fold tests:  [0.64820706 0.66925065 0.65468363 0.60641026 0.63849364 0.65896414\n",
      " 0.67913197 0.59278793 0.64763684 0.6421371 ]\n",
      "DecisionTreeClassifier()\n",
      "\tTraining time: 0.035s\n",
      "\tPrediction time: 0.279s\n",
      "\n",
      "NB: 0.774106 (0.035434)\n",
      "Score for each of the 10 K-fold tests:  [0.72424192 0.80412654 0.80275371 0.72592147 0.79381522 0.81259723\n",
      " 0.82075291 0.74209902 0.77143901 0.74331691]\n",
      "GaussianNB()\n",
      "\tTraining time: 0.000s\n",
      "\tPrediction time: 0.057s\n",
      "\n",
      "SVM: 0.502723 (0.008600)\n",
      "Score for each of the 10 K-fold tests:  [0.51082376 0.49690706 0.4972927  0.50062099 0.51149687 0.50134699\n",
      " 0.4855712  0.50030664 0.51758161 0.505283  ]\n",
      "SVC(gamma='auto')\n",
      "\tTraining time: 1.193s\n",
      "\tPrediction time: 12.795s\n",
      "\n"
     ]
    },
    {
     "data": {
      "image/png": "[encoded data removed]",
      "text/plain": [
       "<Figure size 640x480 with 1 Axes>"
      ]
     },
     "metadata": {},
     "output_type": "display_data"
    }
   ],
   "source": [
    "# Compare Algorithms with the Algorithm Harness\n",
    "# https://scikit-learn.org/stable/supervised_learning.html#supervised-learning\n",
    "from sklearn.metrics import roc_auc_score\n",
    "from time import time\n",
    "from sklearn.metrics import explained_variance_score,mean_absolute_error,r2_score\n",
    "from pandas import read_csv\n",
    "from matplotlib import pyplot\n",
    "from sklearn.model_selection import KFold\n",
    "from sklearn.model_selection import cross_val_score\n",
    "from sklearn.linear_model import LogisticRegression\n",
    "from sklearn.tree import DecisionTreeClassifier\n",
    "from sklearn.neighbors import KNeighborsClassifier\n",
    "from sklearn.discriminant_analysis import LinearDiscriminantAnalysis\n",
    "from sklearn.naive_bayes import GaussianNB\n",
    "from sklearn.svm import SVC\n",
    "models = []\n",
    "models.append(('LR', LogisticRegression(solver='liblinear')))\n",
    "models.append(('LDA', LinearDiscriminantAnalysis()))\n",
    "models.append(('KNN', KNeighborsClassifier()))\n",
    "models.append(('CART', DecisionTreeClassifier()))\n",
    "models.append(('NB', GaussianNB()))\n",
    "models.append(('SVM', SVC(gamma='auto')))\n",
    "# evaluate each model in turn\n",
    "results = []\n",
    "names = []\n",
    "scoring = 'roc_auc'\n",
    "# you can also use other metrics to score your models: https://iqcode.com/code/python/sklearn-cross-val-score-scoring-options\n",
    "for name, model in models:\n",
    "    start = time()\n",
    "    kfold = KFold(n_splits=10, random_state=7, shuffle=True)\n",
    "    model.fit(X_train, y_train)\n",
    "    train_time = time() - start\n",
    "    cv_results = cross_val_score(model, X_train, y_train, cv=kfold, scoring=scoring)\n",
    "    predict_time = time()-start \n",
    "    results.append(cv_results)\n",
    "    names.append(name)\n",
    "    msg = \"%s: %f (%f)\" % (name, cv_results.mean(), cv_results.std())\n",
    "    #y_pred = model.predict_proba(X_train)[:, 1]\n",
    "    #auc = roc_auc_score(y_train, y_pred)\n",
    "    print(msg)\n",
    "    print(\"Score for each of the 10 K-fold tests: \",cv_results)\n",
    "    print(model)\n",
    "    print(\"\\tTraining time: %0.3fs\" % train_time)\n",
    "    print(\"\\tPrediction time: %0.3fs\" % predict_time)\n",
    "    #y_pred = model.predict(X_test)\n",
    "    #print(\"\\tExplained variance:\", explained_variance_score(y_test, y_pred))\n",
    "    print()\n",
    "    \n",
    "    \n",
    "    \n",
    "# boxplot algorithm comparison\n",
    "fig = pyplot.figure()\n",
    "fig.suptitle('Algorithm Comparison')\n",
    "ax = fig.add_subplot(111)\n",
    "pyplot.boxplot(results)\n",
    "ax.set_xticklabels(names)\n",
    "pyplot.show()"
   ]
  },
  {
   "cell_type": "code",
   "execution_count": 48,
   "id": "4f91b99b-2d3b-4864-b4e3-0ba2e332b31b",
   "metadata": {
    "tags": []
   },
   "outputs": [
    {
     "data": {
      "text/html": [
       "<style>#sk-container-id-1 {color: black;background-color: white;}#sk-container-id-1 pre{padding: 0;}#sk-container-id-1 div.sk-toggleable {background-color: white;}#sk-container-id-1 label.sk-toggleable__label {cursor: pointer;display: block;width: 100%;margin-bottom: 0;padding: 0.3em;box-sizing: border-box;text-align: center;}#sk-container-id-1 label.sk-toggleable__label-arrow:before {content: \"▸\";float: left;margin-right: 0.25em;color: #696969;}#sk-container-id-1 label.sk-toggleable__label-arrow:hover:before {color: black;}#sk-container-id-1 div.sk-estimator:hover label.sk-toggleable__label-arrow:before {color: black;}#sk-container-id-1 div.sk-toggleable__content {max-height: 0;max-width: 0;overflow: hidden;text-align: left;background-color: #f0f8ff;}#sk-container-id-1 div.sk-toggleable__content pre {margin: 0.2em;color: black;border-radius: 0.25em;background-color: #f0f8ff;}#sk-container-id-1 input.sk-toggleable__control:checked~div.sk-toggleable__content {max-height: 200px;max-width: 100%;overflow: auto;}#sk-container-id-1 input.sk-toggleable__control:checked~label.sk-toggleable__label-arrow:before {content: \"▾\";}#sk-container-id-1 div.sk-estimator input.sk-toggleable__control:checked~label.sk-toggleable__label {background-color: #d4ebff;}#sk-container-id-1 div.sk-label input.sk-toggleable__control:checked~label.sk-toggleable__label {background-color: #d4ebff;}#sk-container-id-1 input.sk-hidden--visually {border: 0;clip: rect(1px 1px 1px 1px);clip: rect(1px, 1px, 1px, 1px);height: 1px;margin: -1px;overflow: hidden;padding: 0;position: absolute;width: 1px;}#sk-container-id-1 div.sk-estimator {font-family: monospace;background-color: #f0f8ff;border: 1px dotted black;border-radius: 0.25em;box-sizing: border-box;margin-bottom: 0.5em;}#sk-container-id-1 div.sk-estimator:hover {background-color: #d4ebff;}#sk-container-id-1 div.sk-parallel-item::after {content: \"\";width: 100%;border-bottom: 1px solid gray;flex-grow: 1;}#sk-container-id-1 div.sk-label:hover label.sk-toggleable__label {background-color: #d4ebff;}#sk-container-id-1 div.sk-serial::before {content: \"\";position: absolute;border-left: 1px solid gray;box-sizing: border-box;top: 0;bottom: 0;left: 50%;z-index: 0;}#sk-container-id-1 div.sk-serial {display: flex;flex-direction: column;align-items: center;background-color: white;padding-right: 0.2em;padding-left: 0.2em;position: relative;}#sk-container-id-1 div.sk-item {position: relative;z-index: 1;}#sk-container-id-1 div.sk-parallel {display: flex;align-items: stretch;justify-content: center;background-color: white;position: relative;}#sk-container-id-1 div.sk-item::before, #sk-container-id-1 div.sk-parallel-item::before {content: \"\";position: absolute;border-left: 1px solid gray;box-sizing: border-box;top: 0;bottom: 0;left: 50%;z-index: -1;}#sk-container-id-1 div.sk-parallel-item {display: flex;flex-direction: column;z-index: 1;position: relative;background-color: white;}#sk-container-id-1 div.sk-parallel-item:first-child::after {align-self: flex-end;width: 50%;}#sk-container-id-1 div.sk-parallel-item:last-child::after {align-self: flex-start;width: 50%;}#sk-container-id-1 div.sk-parallel-item:only-child::after {width: 0;}#sk-container-id-1 div.sk-dashed-wrapped {border: 1px dashed gray;margin: 0 0.4em 0.5em 0.4em;box-sizing: border-box;padding-bottom: 0.4em;background-color: white;}#sk-container-id-1 div.sk-label label {font-family: monospace;font-weight: bold;display: inline-block;line-height: 1.2em;}#sk-container-id-1 div.sk-label-container {text-align: center;}#sk-container-id-1 div.sk-container {/* jupyter's `normalize.less` sets `[hidden] { display: none; }` but bootstrap.min.css set `[hidden] { display: none !important; }` so we also need the `!important` here to be able to override the default hidden behavior on the sphinx rendered scikit-learn.org. See: https://github.com/scikit-learn/scikit-learn/issues/21755 */display: inline-block !important;position: relative;}#sk-container-id-1 div.sk-text-repr-fallback {display: none;}</style><div id=\"sk-container-id-1\" class=\"sk-top-container\"><div class=\"sk-text-repr-fallback\"><pre>DecisionTreeClassifier()</pre><b>In a Jupyter environment, please rerun this cell to show the HTML representation or trust the notebook. <br />On GitHub, the HTML representation is unable to render, please try loading this page with nbviewer.org.</b></div><div class=\"sk-container\" hidden><div class=\"sk-item\"><div class=\"sk-estimator sk-toggleable\"><input class=\"sk-toggleable__control sk-hidden--visually\" id=\"sk-estimator-id-1\" type=\"checkbox\" checked><label for=\"sk-estimator-id-1\" class=\"sk-toggleable__label sk-toggleable__label-arrow\">DecisionTreeClassifier</label><div class=\"sk-toggleable__content\"><pre>DecisionTreeClassifier()</pre></div></div></div></div></div>"
      ],
      "text/plain": [
       "DecisionTreeClassifier()"
      ]
     },
     "execution_count": 48,
     "metadata": {},
     "output_type": "execute_result"
    }
   ],
   "source": [
    "# once you have identified a couple of models... being to drill down and tweak it\n",
    "# %%timeit -n 1\n",
    "# if you uncomment %%timeit it will not put lr into memory\n",
    "# Let's assume that the decision tree is the one we want to explore\n",
    "from sklearn.tree import DecisionTreeClassifier\n",
    "dt = DecisionTreeClassifier()\n",
    "dt.fit(X_train, y_train)  # in this step here... you are training the data to the model... ie:  fitting the data to the model"
   ]
  },
  {
   "cell_type": "code",
   "execution_count": 49,
   "id": "23b35af5-28a7-4290-b33a-6c97a60a8868",
   "metadata": {
    "tags": []
   },
   "outputs": [
    {
     "data": {
      "text/plain": [
       "{'ccp_alpha': 0.0,\n",
       " 'class_weight': None,\n",
       " 'criterion': 'gini',\n",
       " 'max_depth': None,\n",
       " 'max_features': None,\n",
       " 'max_leaf_nodes': None,\n",
       " 'min_impurity_decrease': 0.0,\n",
       " 'min_samples_leaf': 1,\n",
       " 'min_samples_split': 2,\n",
       " 'min_weight_fraction_leaf': 0.0,\n",
       " 'random_state': None,\n",
       " 'splitter': 'best'}"
      ]
     },
     "execution_count": 49,
     "metadata": {},
     "output_type": "execute_result"
    }
   ],
   "source": [
    "# This will give you the list of Hyperparameters of your model\n",
    "dt.get_params()"
   ]
  },
  {
   "cell_type": "code",
   "execution_count": 50,
   "id": "1626b34d-a0da-4bc5-97f9-1cbd8692e3d7",
   "metadata": {
    "tags": []
   },
   "outputs": [],
   "source": []
  },
  {
   "cell_type": "code",
   "execution_count": 51,
   "id": "2fc136f0-6daf-48fe-bc13-b8e1450f0a2f",
   "metadata": {
    "tags": []
   },
   "outputs": [
    {
     "data": {
      "text/plain": [
       "['age',\n",
       " 'amount',\n",
       " 'assets',\n",
       " 'debt',\n",
       " 'expenses',\n",
       " 'home',\n",
       " 'income',\n",
       " 'job',\n",
       " 'marital',\n",
       " 'price',\n",
       " 'records',\n",
       " 'seniority',\n",
       " 'time']"
      ]
     },
     "execution_count": 51,
     "metadata": {},
     "output_type": "execute_result"
    }
   ],
   "source": [
    "# You have converted the dataframe into a list of dictionaries - validate the headers\n",
    "type(X_train)\n",
    "type(dv.feature_names_)\n",
    "type(dt.feature_importances_)\n",
    "dv.feature_names_"
   ]
  },
  {
   "cell_type": "code",
   "execution_count": 52,
   "id": "8ff9505a-67b5-4a70-88c5-06ec4e025315",
   "metadata": {
    "tags": []
   },
   "outputs": [
    {
     "data": {
      "text/plain": [
       "['n_features_in_',\n",
       " 'n_outputs_',\n",
       " 'classes_',\n",
       " 'n_classes_',\n",
       " 'max_features_',\n",
       " 'tree_']"
      ]
     },
     "execution_count": 52,
     "metadata": {},
     "output_type": "execute_result"
    }
   ],
   "source": [
    "# These are the model properties.  You can call all of these\n",
    "def get_properties(model):   \n",
    "  return [i for i in model.__dict__ if i.endswith('_')] \n",
    "get_properties(dt)"
   ]
  },
  {
   "cell_type": "code",
   "execution_count": 53,
   "id": "1b4634d1-9c72-42f2-ba73-d64c80494a92",
   "metadata": {
    "tags": []
   },
   "outputs": [
    {
     "name": "stdout",
     "output_type": "stream",
     "text": [
      "0.093 age\n",
      "0.114 amount\n",
      "0.078 assets\n",
      "0.022 debt\n",
      "0.055 expenses\n",
      "0.028 home\n",
      "0.181 income\n",
      "0.037 job\n",
      "0.019 marital\n",
      "0.124 price\n",
      "0.084 records\n",
      "0.123 seniority\n",
      "0.042 time\n"
     ]
    }
   ],
   "source": [
    "# Very important.  Once you have a trained model - interegate the coefficients to see WHAT is important\n",
    "feature_names=dv.feature_names_\n",
    "# Evaluate the coefficients to learn what the model thinks is important in the predictions.\n",
    "for i,j in zip(feature_names, dt.feature_importances_): print('%.3f' % j, i)"
   ]
  },
  {
   "cell_type": "code",
   "execution_count": 54,
   "id": "72ae4bb1-8f7b-41e8-a1db-b9059139a9bb",
   "metadata": {
    "tags": []
   },
   "outputs": [
    {
     "data": {
      "image/png": "[encoded data removed]",
      "text/plain": [
       "<Figure size 500x500 with 1 Axes>"
      ]
     },
     "metadata": {},
     "output_type": "display_data"
    }
   ],
   "source": [
    "from sklearn.metrics import confusion_matrix\n",
    "from sklearn.metrics import precision_score, recall_score, f1_score, accuracy_score\n",
    "import matplotlib.pyplot as plt\n",
    "# predict_proba predicts the probability and predict just predicts the category\n",
    "# y_pred = dt.predict_proba(X_test)[:, 1]\n",
    "y_pred = dt.predict(X_test)\n",
    "\n",
    "conf_matrix = confusion_matrix(y_true=y_test, y_pred=y_pred)\n",
    "#\n",
    "# Print the confusion matrix using Matplotlib\n",
    "#\n",
    "fig, ax = plt.subplots(figsize=(5, 5))\n",
    "ax.matshow(conf_matrix, cmap=plt.cm.Oranges, alpha=0.3)\n",
    "for i in range(conf_matrix.shape[0]):\n",
    "    for j in range(conf_matrix.shape[1]):\n",
    "        ax.text(x=j, y=i,s=conf_matrix[i, j], va='center', ha='center', size='xx-large')\n",
    " \n",
    "plt.xlabel('Predictions', fontsize=18)\n",
    "plt.ylabel('Actuals', fontsize=18)\n",
    "plt.title('Confusion Matrix', fontsize=18)\n",
    "plt.show()"
   ]
  },
  {
   "attachments": {
    "ebd8b139-b49a-4696-8e1c-93a61f163c02.png": {
     "image/png": "[encoded data removed]"
    }
   },
   "cell_type": "markdown",
   "id": "1889a861-906e-4d61-9e55-6258d876d299",
   "metadata": {},
   "source": [
    "# Confusion Matrix is the 2 by 2 between actual and model prediction\n",
    "# model accuracy is not everything\n",
    "# which quadrant of confusion matrix are you trying to optimize - hyperparameter training important to increase that quadrant\n",
    "\n",
    "![image.png](attachment:ebd8b139-b49a-4696-8e1c-93a61f163c02.png)"
   ]
  },
  {
   "cell_type": "code",
   "execution_count": 56,
   "id": "baca4e20-e325-480a-9d92-c175813c567f",
   "metadata": {
    "tags": []
   },
   "outputs": [
    {
     "name": "stdout",
     "output_type": "stream",
     "text": [
      "              precision    recall  f1-score   support\n",
      "\n",
      "           1       0.81      0.81      0.81       632\n",
      "           2       0.53      0.53      0.53       259\n",
      "\n",
      "    accuracy                           0.73       891\n",
      "   macro avg       0.67      0.67      0.67       891\n",
      "weighted avg       0.73      0.73      0.73       891\n",
      "\n"
     ]
    }
   ],
   "source": [
    "from sklearn.metrics import classification_report\n",
    "print(classification_report(y_test, y_pred))"
   ]
  },
  {
   "cell_type": "code",
   "execution_count": 57,
   "id": "3350ca0d-f657-487c-b81b-0dc9723b9a70",
   "metadata": {
    "tags": []
   },
   "outputs": [
    {
     "name": "stdout",
     "output_type": "stream",
     "text": [
      "The first 10 prediction [1 2 1 1 1 1 1 1 1 2]\n",
      "The real first 10 labels [2 1 1 1 2 1 1 1 1 1]\n"
     ]
    }
   ],
   "source": [
    "# Take a peek at your predictions:\n",
    "# Take a look at the first 10 rows and compare the predictions.\n",
    "pred_y = dt.predict(X_test)\n",
    "print(\"The first 10 prediction {}\".format(pred_y[:10].round(0)))\n",
    "print(\"The real first 10 labels {}\".format(y_test[:10]))"
   ]
  },
  {
   "cell_type": "markdown",
   "id": "253887ca-c2ad-48f6-aad9-f35ebf334496",
   "metadata": {},
   "source": [
    "### Predict on one record"
   ]
  },
  {
   "cell_type": "code",
   "execution_count": 58,
   "id": "a8f5b0c3-219d-4ace-8d76-348467b68977",
   "metadata": {
    "tags": []
   },
   "outputs": [
    {
     "data": {
      "text/plain": [
       "pandas.core.frame.DataFrame"
      ]
     },
     "execution_count": 58,
     "metadata": {},
     "output_type": "execute_result"
    }
   ],
   "source": [
    "# How to make predictions with BRAND NEW VALUES\n",
    "type(df_train_full.head(1))"
   ]
  },
  {
   "cell_type": "code",
   "execution_count": 59,
   "id": "585f38ae-a24e-454b-a67c-ee48a8c702c5",
   "metadata": {
    "tags": []
   },
   "outputs": [
    {
     "data": {
      "text/html": [
       "<div>\n",
       "<style scoped>\n",
       "    .dataframe tbody tr th:only-of-type {\n",
       "        vertical-align: middle;\n",
       "    }\n",
       "\n",
       "    .dataframe tbody tr th {\n",
       "        vertical-align: top;\n",
       "    }\n",
       "\n",
       "    .dataframe thead th {\n",
       "        text-align: right;\n",
       "    }\n",
       "</style>\n",
       "<table border=\"1\" class=\"dataframe\">\n",
       "  <thead>\n",
       "    <tr style=\"text-align: right;\">\n",
       "      <th></th>\n",
       "      <th>seniority</th>\n",
       "      <th>home</th>\n",
       "      <th>time</th>\n",
       "      <th>age</th>\n",
       "      <th>marital</th>\n",
       "      <th>records</th>\n",
       "      <th>job</th>\n",
       "      <th>expenses</th>\n",
       "      <th>income</th>\n",
       "      <th>assets</th>\n",
       "      <th>debt</th>\n",
       "      <th>amount</th>\n",
       "      <th>price</th>\n",
       "    </tr>\n",
       "  </thead>\n",
       "  <tbody>\n",
       "    <tr>\n",
       "      <th>1043</th>\n",
       "      <td>3</td>\n",
       "      <td>1</td>\n",
       "      <td>36</td>\n",
       "      <td>32</td>\n",
       "      <td>1</td>\n",
       "      <td>1</td>\n",
       "      <td>3</td>\n",
       "      <td>35</td>\n",
       "      <td>0.0</td>\n",
       "      <td>0.0</td>\n",
       "      <td>0.0</td>\n",
       "      <td>950</td>\n",
       "      <td>1350</td>\n",
       "    </tr>\n",
       "  </tbody>\n",
       "</table>\n",
       "</div>"
      ],
      "text/plain": [
       "      seniority  home  time  age  marital  records  job  expenses  income  \\\n",
       "1043          3     1    36   32        1        1    3        35     0.0   \n",
       "\n",
       "      assets  debt  amount  price  \n",
       "1043     0.0   0.0     950   1350  "
      ]
     },
     "execution_count": 59,
     "metadata": {},
     "output_type": "execute_result"
    }
   ],
   "source": [
    "# Use double brackets around the iloc to force it to return a pandas dataframe and not a series\n",
    "# Then you can convert ANY record into a dictionary.\n",
    "# This is important because when you want to make a prediction - it must be in this format\n",
    "df_train_full.iloc[[21]]"
   ]
  },
  {
   "cell_type": "code",
   "execution_count": 60,
   "id": "4794ee8e-888d-4e17-ba0c-8b428aeffcc2",
   "metadata": {
    "tags": []
   },
   "outputs": [
    {
     "data": {
      "text/plain": [
       "{'seniority': 12,\n",
       " 'home': 2,\n",
       " 'time': 60,\n",
       " 'age': 28,\n",
       " 'marital': 2,\n",
       " 'records': 1,\n",
       " 'job': 1,\n",
       " 'expenses': 45,\n",
       " 'income': 167.0,\n",
       " 'assets': 3000.0,\n",
       " 'debt': 1750.0,\n",
       " 'amount': 250,\n",
       " 'price': 1188}"
      ]
     },
     "execution_count": 60,
     "metadata": {},
     "output_type": "execute_result"
    }
   ],
   "source": [
    "# How to convert any pandas row into a dictionary... needed for predictions\n",
    "df_train_full.iloc[[213]].to_dict('records')[0]"
   ]
  },
  {
   "cell_type": "code",
   "execution_count": 61,
   "id": "f0e4c513-5ee2-451c-9256-5c277ce6c4b0",
   "metadata": {
    "tags": []
   },
   "outputs": [
    {
     "data": {
      "text/plain": [
       "{'seniority': 22,\n",
       " 'home': 2,\n",
       " 'time': 48,\n",
       " 'age': 48,\n",
       " 'marital': 2,\n",
       " 'records': 1,\n",
       " 'job': 1,\n",
       " 'expenses': 60,\n",
       " 'income': 110.0,\n",
       " 'assets': 3000.0,\n",
       " 'debt': 0.0,\n",
       " 'amount': 1000,\n",
       " 'price': 1460}"
      ]
     },
     "execution_count": 61,
     "metadata": {},
     "output_type": "execute_result"
    }
   ],
   "source": [
    "# How to convert any pandas row into a dictionary... needed for predictions\n",
    "df_train_full.head(21).to_dict('records')[0]"
   ]
  },
  {
   "cell_type": "code",
   "execution_count": 62,
   "id": "68617823-2006-46a4-9a56-07df0c7e3615",
   "metadata": {
    "tags": []
   },
   "outputs": [],
   "source": [
    "#item = df_train.head(1).to_dict('records')[0]\n",
    "item = df_train_full.iloc[[213]].to_dict('records')[0]\n",
    "actual = y_train[[213]]"
   ]
  },
  {
   "cell_type": "code",
   "execution_count": 63,
   "id": "e068dcaa-d4af-4ba2-adb6-95b2fd7b9253",
   "metadata": {
    "tags": []
   },
   "outputs": [
    {
     "data": {
      "text/plain": [
       "{'seniority': 12,\n",
       " 'home': 2,\n",
       " 'time': 60,\n",
       " 'age': 28,\n",
       " 'marital': 2,\n",
       " 'records': 1,\n",
       " 'job': 1,\n",
       " 'expenses': 45,\n",
       " 'income': 167.0,\n",
       " 'assets': 3000.0,\n",
       " 'debt': 1750.0,\n",
       " 'amount': 250,\n",
       " 'price': 1188}"
      ]
     },
     "execution_count": 63,
     "metadata": {},
     "output_type": "execute_result"
    }
   ],
   "source": [
    "item\n"
   ]
  },
  {
   "cell_type": "code",
   "execution_count": 64,
   "id": "357372d1-ad18-44cb-a3e4-9dfb029a6625",
   "metadata": {
    "tags": []
   },
   "outputs": [],
   "source": [
    "# The item to be predicted is passed in.  \n",
    "def model_prediction(item, dv, model):\n",
    "    X = dv.transform([item])\n",
    "    y_pred = model.predict(X)\n",
    "    return y_pred[0]"
   ]
  },
  {
   "cell_type": "code",
   "execution_count": 65,
   "id": "85fca13b-3ac2-4bfa-8a11-122c85e4bca8",
   "metadata": {
    "tags": []
   },
   "outputs": [],
   "source": [
    "# The item to be predicted is passed in. Probability Model \n",
    "def model_prediction_proba(item, dv, model):\n",
    "    X = dv.transform([item])\n",
    "    y_pred = model.predict_proba(X)[:, 1]\n",
    "    return y_pred[0]"
   ]
  },
  {
   "cell_type": "code",
   "execution_count": 66,
   "id": "b24f6af1-2493-4a93-a0dc-1c1037165a47",
   "metadata": {
    "tags": []
   },
   "outputs": [
    {
     "data": {
      "text/plain": [
       "1"
      ]
     },
     "execution_count": 66,
     "metadata": {},
     "output_type": "execute_result"
    }
   ],
   "source": [
    "model_prediction(item,dv,dt)"
   ]
  },
  {
   "cell_type": "code",
   "execution_count": 67,
   "id": "3fcd95c2-6a84-4f55-918d-030a685783fa",
   "metadata": {
    "tags": []
   },
   "outputs": [
    {
     "data": {
      "text/plain": [
       "array([1], dtype=int64)"
      ]
     },
     "execution_count": 67,
     "metadata": {},
     "output_type": "execute_result"
    }
   ],
   "source": [
    "actual"
   ]
  },
  {
   "cell_type": "code",
   "execution_count": null,
   "id": "50f37b93-8c83-439f-8e56-d10399af2d10",
   "metadata": {},
   "outputs": [],
   "source": [
    "# Recividism http://ernesto.net/research/\n",
    "# Most bias is in bias of training data\n",
    "# can you predict race or gender based on data, then data is biased"
   ]
  },
  {
   "cell_type": "code",
   "execution_count": 68,
   "id": "9ba8a966-df01-4de3-8aa1-4c5ce27b2aa1",
   "metadata": {
    "tags": []
   },
   "outputs": [
    {
     "data": {
      "text/plain": [
       "0.0"
      ]
     },
     "execution_count": 68,
     "metadata": {},
     "output_type": "execute_result"
    }
   ],
   "source": [
    "model_prediction_proba(item,dv,dt)"
   ]
  },
  {
   "cell_type": "code",
   "execution_count": 69,
   "id": "b07e2f4a-0146-48d5-b31d-568e845aaa03",
   "metadata": {
    "tags": []
   },
   "outputs": [
    {
     "data": {
      "text/plain": [
       "{'seniority': 2,\n",
       " 'home': 5,\n",
       " 'time': 36,\n",
       " 'age': 19,\n",
       " 'marital': 2,\n",
       " 'records': 1,\n",
       " 'job': 1,\n",
       " 'expenses': 35,\n",
       " 'income': 162.0,\n",
       " 'assets': 4000.0,\n",
       " 'debt': 100.0,\n",
       " 'amount': 400,\n",
       " 'price': 570}"
      ]
     },
     "execution_count": 69,
     "metadata": {},
     "output_type": "execute_result"
    }
   ],
   "source": [
    "# How to convert any pandas row into a dictionary... needed for predictions\n",
    "# This will give you a template that you can manipulate to create predictions with new values\n",
    "df_train_full.iloc[[2]].to_dict('records')[0]"
   ]
  },
  {
   "cell_type": "code",
   "execution_count": 74,
   "id": "925fd9c5-58d8-4374-a785-3a678205f245",
   "metadata": {
    "tags": []
   },
   "outputs": [],
   "source": [
    "#TINKER TO CREATE A SIMULATED DATA\n",
    "\n",
    "# The list above can be copied into here.  Take everything after a \" : \" and put it in a [] so you can pass it in as a pd.DF\n",
    "# create a DataFrame by transforming scalar values to list   (toggle the weekend)\n",
    "\n",
    "myItem = {'seniority': [1],\n",
    " 'home': [4],\n",
    " 'time': [136],\n",
    " 'age': [19],\n",
    " 'marital': [1],\n",
    " 'records': [1],\n",
    " 'job': [2],\n",
    " 'expenses': [35],\n",
    " 'income': [1162.0],\n",
    " 'assets': [4000.0],\n",
    " 'debt': [100.0],\n",
    " 'amount': [400],\n",
    " 'price': [570]}\n"
   ]
  },
  {
   "cell_type": "code",
   "execution_count": 75,
   "id": "6e0e5e37-db2b-426e-bd08-c7f0ab604bb8",
   "metadata": {
    "tags": []
   },
   "outputs": [],
   "source": [
    "newDF = pd.DataFrame.from_dict(myItem)"
   ]
  },
  {
   "cell_type": "code",
   "execution_count": 76,
   "id": "10b7fb73-f400-4658-bb06-afb0c914af62",
   "metadata": {
    "tags": []
   },
   "outputs": [
    {
     "data": {
      "text/html": [
       "<div>\n",
       "<style scoped>\n",
       "    .dataframe tbody tr th:only-of-type {\n",
       "        vertical-align: middle;\n",
       "    }\n",
       "\n",
       "    .dataframe tbody tr th {\n",
       "        vertical-align: top;\n",
       "    }\n",
       "\n",
       "    .dataframe thead th {\n",
       "        text-align: right;\n",
       "    }\n",
       "</style>\n",
       "<table border=\"1\" class=\"dataframe\">\n",
       "  <thead>\n",
       "    <tr style=\"text-align: right;\">\n",
       "      <th></th>\n",
       "      <th>seniority</th>\n",
       "      <th>home</th>\n",
       "      <th>time</th>\n",
       "      <th>age</th>\n",
       "      <th>marital</th>\n",
       "      <th>records</th>\n",
       "      <th>job</th>\n",
       "      <th>expenses</th>\n",
       "      <th>income</th>\n",
       "      <th>assets</th>\n",
       "      <th>debt</th>\n",
       "      <th>amount</th>\n",
       "      <th>price</th>\n",
       "    </tr>\n",
       "  </thead>\n",
       "  <tbody>\n",
       "    <tr>\n",
       "      <th>0</th>\n",
       "      <td>1</td>\n",
       "      <td>4</td>\n",
       "      <td>136</td>\n",
       "      <td>19</td>\n",
       "      <td>1</td>\n",
       "      <td>1</td>\n",
       "      <td>2</td>\n",
       "      <td>35</td>\n",
       "      <td>1162.0</td>\n",
       "      <td>4000.0</td>\n",
       "      <td>100.0</td>\n",
       "      <td>400</td>\n",
       "      <td>570</td>\n",
       "    </tr>\n",
       "  </tbody>\n",
       "</table>\n",
       "</div>"
      ],
      "text/plain": [
       "   seniority  home  time  age  marital  records  job  expenses  income  \\\n",
       "0          1     4   136   19        1        1    2        35  1162.0   \n",
       "\n",
       "   assets   debt  amount  price  \n",
       "0  4000.0  100.0     400    570  "
      ]
     },
     "execution_count": 76,
     "metadata": {},
     "output_type": "execute_result"
    }
   ],
   "source": [
    "newDF.head()"
   ]
  },
  {
   "cell_type": "code",
   "execution_count": 78,
   "id": "2a79ecf9-b552-4251-a56b-a69037442416",
   "metadata": {
    "tags": []
   },
   "outputs": [],
   "source": [
    "item = newDF.to_dict('records')[0]"
   ]
  },
  {
   "cell_type": "code",
   "execution_count": 79,
   "id": "385debf9-cba1-43e5-a5b4-884d0660954a",
   "metadata": {
    "tags": []
   },
   "outputs": [
    {
     "data": {
      "text/plain": [
       "1"
      ]
     },
     "execution_count": 79,
     "metadata": {},
     "output_type": "execute_result"
    }
   ],
   "source": [
    "model_prediction(item,dv,dt)"
   ]
  },
  {
   "cell_type": "markdown",
   "id": "fba56cd2-1229-4b5a-aa28-5e1b6ff073a1",
   "metadata": {},
   "source": [
    "## HyperParameter Tuning"
   ]
  },
  {
   "cell_type": "code",
   "execution_count": 80,
   "id": "4723521b-4a85-4fc5-be4d-c1217f5aba09",
   "metadata": {},
   "outputs": [
    {
     "data": {
      "text/plain": [
       "{'ccp_alpha': 0.0,\n",
       " 'class_weight': None,\n",
       " 'criterion': 'gini',\n",
       " 'max_depth': None,\n",
       " 'max_features': None,\n",
       " 'max_leaf_nodes': None,\n",
       " 'min_impurity_decrease': 0.0,\n",
       " 'min_samples_leaf': 1,\n",
       " 'min_samples_split': 2,\n",
       " 'min_weight_fraction_leaf': 0.0,\n",
       " 'random_state': None,\n",
       " 'splitter': 'best'}"
      ]
     },
     "execution_count": 80,
     "metadata": {},
     "output_type": "execute_result"
    }
   ],
   "source": [
    "# Hyperparameter Tuning... light...\n",
    "# Look at the model parameters.   You can tune these.\n",
    "dt.get_params()"
   ]
  },
  {
   "cell_type": "code",
   "execution_count": 81,
   "id": "aeaa76f0-6773-4e31-9fdb-29d092d13001",
   "metadata": {},
   "outputs": [
    {
     "name": "stdout",
     "output_type": "stream",
     "text": [
      "Fitting 3 folds for each of 12 candidates, totalling 36 fits\n"
     ]
    },
    {
     "data": {
      "text/html": [
       "<style>#sk-container-id-2 {color: black;background-color: white;}#sk-container-id-2 pre{padding: 0;}#sk-container-id-2 div.sk-toggleable {background-color: white;}#sk-container-id-2 label.sk-toggleable__label {cursor: pointer;display: block;width: 100%;margin-bottom: 0;padding: 0.3em;box-sizing: border-box;text-align: center;}#sk-container-id-2 label.sk-toggleable__label-arrow:before {content: \"▸\";float: left;margin-right: 0.25em;color: #696969;}#sk-container-id-2 label.sk-toggleable__label-arrow:hover:before {color: black;}#sk-container-id-2 div.sk-estimator:hover label.sk-toggleable__label-arrow:before {color: black;}#sk-container-id-2 div.sk-toggleable__content {max-height: 0;max-width: 0;overflow: hidden;text-align: left;background-color: #f0f8ff;}#sk-container-id-2 div.sk-toggleable__content pre {margin: 0.2em;color: black;border-radius: 0.25em;background-color: #f0f8ff;}#sk-container-id-2 input.sk-toggleable__control:checked~div.sk-toggleable__content {max-height: 200px;max-width: 100%;overflow: auto;}#sk-container-id-2 input.sk-toggleable__control:checked~label.sk-toggleable__label-arrow:before {content: \"▾\";}#sk-container-id-2 div.sk-estimator input.sk-toggleable__control:checked~label.sk-toggleable__label {background-color: #d4ebff;}#sk-container-id-2 div.sk-label input.sk-toggleable__control:checked~label.sk-toggleable__label {background-color: #d4ebff;}#sk-container-id-2 input.sk-hidden--visually {border: 0;clip: rect(1px 1px 1px 1px);clip: rect(1px, 1px, 1px, 1px);height: 1px;margin: -1px;overflow: hidden;padding: 0;position: absolute;width: 1px;}#sk-container-id-2 div.sk-estimator {font-family: monospace;background-color: #f0f8ff;border: 1px dotted black;border-radius: 0.25em;box-sizing: border-box;margin-bottom: 0.5em;}#sk-container-id-2 div.sk-estimator:hover {background-color: #d4ebff;}#sk-container-id-2 div.sk-parallel-item::after {content: \"\";width: 100%;border-bottom: 1px solid gray;flex-grow: 1;}#sk-container-id-2 div.sk-label:hover label.sk-toggleable__label {background-color: #d4ebff;}#sk-container-id-2 div.sk-serial::before {content: \"\";position: absolute;border-left: 1px solid gray;box-sizing: border-box;top: 0;bottom: 0;left: 50%;z-index: 0;}#sk-container-id-2 div.sk-serial {display: flex;flex-direction: column;align-items: center;background-color: white;padding-right: 0.2em;padding-left: 0.2em;position: relative;}#sk-container-id-2 div.sk-item {position: relative;z-index: 1;}#sk-container-id-2 div.sk-parallel {display: flex;align-items: stretch;justify-content: center;background-color: white;position: relative;}#sk-container-id-2 div.sk-item::before, #sk-container-id-2 div.sk-parallel-item::before {content: \"\";position: absolute;border-left: 1px solid gray;box-sizing: border-box;top: 0;bottom: 0;left: 50%;z-index: -1;}#sk-container-id-2 div.sk-parallel-item {display: flex;flex-direction: column;z-index: 1;position: relative;background-color: white;}#sk-container-id-2 div.sk-parallel-item:first-child::after {align-self: flex-end;width: 50%;}#sk-container-id-2 div.sk-parallel-item:last-child::after {align-self: flex-start;width: 50%;}#sk-container-id-2 div.sk-parallel-item:only-child::after {width: 0;}#sk-container-id-2 div.sk-dashed-wrapped {border: 1px dashed gray;margin: 0 0.4em 0.5em 0.4em;box-sizing: border-box;padding-bottom: 0.4em;background-color: white;}#sk-container-id-2 div.sk-label label {font-family: monospace;font-weight: bold;display: inline-block;line-height: 1.2em;}#sk-container-id-2 div.sk-label-container {text-align: center;}#sk-container-id-2 div.sk-container {/* jupyter's `normalize.less` sets `[hidden] { display: none; }` but bootstrap.min.css set `[hidden] { display: none !important; }` so we also need the `!important` here to be able to override the default hidden behavior on the sphinx rendered scikit-learn.org. See: https://github.com/scikit-learn/scikit-learn/issues/21755 */display: inline-block !important;position: relative;}#sk-container-id-2 div.sk-text-repr-fallback {display: none;}</style><div id=\"sk-container-id-2\" class=\"sk-top-container\"><div class=\"sk-text-repr-fallback\"><pre>GridSearchCV(cv=3, estimator=DecisionTreeClassifier(random_state=42),\n",
       "             param_grid={&#x27;max_depth&#x27;: [4, 6, 8], &#x27;min_samples_leaf&#x27;: [1, 3],\n",
       "                         &#x27;min_samples_split&#x27;: [2, 4]},\n",
       "             verbose=1)</pre><b>In a Jupyter environment, please rerun this cell to show the HTML representation or trust the notebook. <br />On GitHub, the HTML representation is unable to render, please try loading this page with nbviewer.org.</b></div><div class=\"sk-container\" hidden><div class=\"sk-item sk-dashed-wrapped\"><div class=\"sk-label-container\"><div class=\"sk-label sk-toggleable\"><input class=\"sk-toggleable__control sk-hidden--visually\" id=\"sk-estimator-id-2\" type=\"checkbox\" ><label for=\"sk-estimator-id-2\" class=\"sk-toggleable__label sk-toggleable__label-arrow\">GridSearchCV</label><div class=\"sk-toggleable__content\"><pre>GridSearchCV(cv=3, estimator=DecisionTreeClassifier(random_state=42),\n",
       "             param_grid={&#x27;max_depth&#x27;: [4, 6, 8], &#x27;min_samples_leaf&#x27;: [1, 3],\n",
       "                         &#x27;min_samples_split&#x27;: [2, 4]},\n",
       "             verbose=1)</pre></div></div></div><div class=\"sk-parallel\"><div class=\"sk-parallel-item\"><div class=\"sk-item\"><div class=\"sk-label-container\"><div class=\"sk-label sk-toggleable\"><input class=\"sk-toggleable__control sk-hidden--visually\" id=\"sk-estimator-id-3\" type=\"checkbox\" ><label for=\"sk-estimator-id-3\" class=\"sk-toggleable__label sk-toggleable__label-arrow\">estimator: DecisionTreeClassifier</label><div class=\"sk-toggleable__content\"><pre>DecisionTreeClassifier(random_state=42)</pre></div></div></div><div class=\"sk-serial\"><div class=\"sk-item\"><div class=\"sk-estimator sk-toggleable\"><input class=\"sk-toggleable__control sk-hidden--visually\" id=\"sk-estimator-id-4\" type=\"checkbox\" ><label for=\"sk-estimator-id-4\" class=\"sk-toggleable__label sk-toggleable__label-arrow\">DecisionTreeClassifier</label><div class=\"sk-toggleable__content\"><pre>DecisionTreeClassifier(random_state=42)</pre></div></div></div></div></div></div></div></div></div></div>"
      ],
      "text/plain": [
       "GridSearchCV(cv=3, estimator=DecisionTreeClassifier(random_state=42),\n",
       "             param_grid={'max_depth': [4, 6, 8], 'min_samples_leaf': [1, 3],\n",
       "                         'min_samples_split': [2, 4]},\n",
       "             verbose=1)"
      ]
     },
     "execution_count": 81,
     "metadata": {},
     "output_type": "execute_result"
    }
   ],
   "source": [
    "from sklearn.tree import DecisionTreeClassifier\n",
    "from sklearn.model_selection import GridSearchCV\n",
    "params = {'min_samples_leaf': [1, 3],'max_depth': [4,6,8],'min_samples_split': [2,4]}\n",
    "grid_search_cv = GridSearchCV(DecisionTreeClassifier(random_state=42), params, verbose=1, cv=3)\n",
    "grid_search_cv.fit(X_train, y_train)"
   ]
  },
  {
   "cell_type": "code",
   "execution_count": 82,
   "id": "5a3c7bc8-09ce-4d45-bacd-f646cb0b795c",
   "metadata": {},
   "outputs": [
    {
     "data": {
      "text/html": [
       "<style>#sk-container-id-3 {color: black;background-color: white;}#sk-container-id-3 pre{padding: 0;}#sk-container-id-3 div.sk-toggleable {background-color: white;}#sk-container-id-3 label.sk-toggleable__label {cursor: pointer;display: block;width: 100%;margin-bottom: 0;padding: 0.3em;box-sizing: border-box;text-align: center;}#sk-container-id-3 label.sk-toggleable__label-arrow:before {content: \"▸\";float: left;margin-right: 0.25em;color: #696969;}#sk-container-id-3 label.sk-toggleable__label-arrow:hover:before {color: black;}#sk-container-id-3 div.sk-estimator:hover label.sk-toggleable__label-arrow:before {color: black;}#sk-container-id-3 div.sk-toggleable__content {max-height: 0;max-width: 0;overflow: hidden;text-align: left;background-color: #f0f8ff;}#sk-container-id-3 div.sk-toggleable__content pre {margin: 0.2em;color: black;border-radius: 0.25em;background-color: #f0f8ff;}#sk-container-id-3 input.sk-toggleable__control:checked~div.sk-toggleable__content {max-height: 200px;max-width: 100%;overflow: auto;}#sk-container-id-3 input.sk-toggleable__control:checked~label.sk-toggleable__label-arrow:before {content: \"▾\";}#sk-container-id-3 div.sk-estimator input.sk-toggleable__control:checked~label.sk-toggleable__label {background-color: #d4ebff;}#sk-container-id-3 div.sk-label input.sk-toggleable__control:checked~label.sk-toggleable__label {background-color: #d4ebff;}#sk-container-id-3 input.sk-hidden--visually {border: 0;clip: rect(1px 1px 1px 1px);clip: rect(1px, 1px, 1px, 1px);height: 1px;margin: -1px;overflow: hidden;padding: 0;position: absolute;width: 1px;}#sk-container-id-3 div.sk-estimator {font-family: monospace;background-color: #f0f8ff;border: 1px dotted black;border-radius: 0.25em;box-sizing: border-box;margin-bottom: 0.5em;}#sk-container-id-3 div.sk-estimator:hover {background-color: #d4ebff;}#sk-container-id-3 div.sk-parallel-item::after {content: \"\";width: 100%;border-bottom: 1px solid gray;flex-grow: 1;}#sk-container-id-3 div.sk-label:hover label.sk-toggleable__label {background-color: #d4ebff;}#sk-container-id-3 div.sk-serial::before {content: \"\";position: absolute;border-left: 1px solid gray;box-sizing: border-box;top: 0;bottom: 0;left: 50%;z-index: 0;}#sk-container-id-3 div.sk-serial {display: flex;flex-direction: column;align-items: center;background-color: white;padding-right: 0.2em;padding-left: 0.2em;position: relative;}#sk-container-id-3 div.sk-item {position: relative;z-index: 1;}#sk-container-id-3 div.sk-parallel {display: flex;align-items: stretch;justify-content: center;background-color: white;position: relative;}#sk-container-id-3 div.sk-item::before, #sk-container-id-3 div.sk-parallel-item::before {content: \"\";position: absolute;border-left: 1px solid gray;box-sizing: border-box;top: 0;bottom: 0;left: 50%;z-index: -1;}#sk-container-id-3 div.sk-parallel-item {display: flex;flex-direction: column;z-index: 1;position: relative;background-color: white;}#sk-container-id-3 div.sk-parallel-item:first-child::after {align-self: flex-end;width: 50%;}#sk-container-id-3 div.sk-parallel-item:last-child::after {align-self: flex-start;width: 50%;}#sk-container-id-3 div.sk-parallel-item:only-child::after {width: 0;}#sk-container-id-3 div.sk-dashed-wrapped {border: 1px dashed gray;margin: 0 0.4em 0.5em 0.4em;box-sizing: border-box;padding-bottom: 0.4em;background-color: white;}#sk-container-id-3 div.sk-label label {font-family: monospace;font-weight: bold;display: inline-block;line-height: 1.2em;}#sk-container-id-3 div.sk-label-container {text-align: center;}#sk-container-id-3 div.sk-container {/* jupyter's `normalize.less` sets `[hidden] { display: none; }` but bootstrap.min.css set `[hidden] { display: none !important; }` so we also need the `!important` here to be able to override the default hidden behavior on the sphinx rendered scikit-learn.org. See: https://github.com/scikit-learn/scikit-learn/issues/21755 */display: inline-block !important;position: relative;}#sk-container-id-3 div.sk-text-repr-fallback {display: none;}</style><div id=\"sk-container-id-3\" class=\"sk-top-container\"><div class=\"sk-text-repr-fallback\"><pre>DecisionTreeClassifier(max_depth=4, min_samples_leaf=3, random_state=42)</pre><b>In a Jupyter environment, please rerun this cell to show the HTML representation or trust the notebook. <br />On GitHub, the HTML representation is unable to render, please try loading this page with nbviewer.org.</b></div><div class=\"sk-container\" hidden><div class=\"sk-item\"><div class=\"sk-estimator sk-toggleable\"><input class=\"sk-toggleable__control sk-hidden--visually\" id=\"sk-estimator-id-5\" type=\"checkbox\" checked><label for=\"sk-estimator-id-5\" class=\"sk-toggleable__label sk-toggleable__label-arrow\">DecisionTreeClassifier</label><div class=\"sk-toggleable__content\"><pre>DecisionTreeClassifier(max_depth=4, min_samples_leaf=3, random_state=42)</pre></div></div></div></div></div>"
      ],
      "text/plain": [
       "DecisionTreeClassifier(max_depth=4, min_samples_leaf=3, random_state=42)"
      ]
     },
     "execution_count": 82,
     "metadata": {},
     "output_type": "execute_result"
    }
   ],
   "source": [
    "grid_search_cv.best_estimator_    # this will output the best values for the hyperparameters\n"
   ]
  },
  {
   "cell_type": "code",
   "execution_count": 83,
   "id": "286ec553-8fb1-4028-9191-093a59d57204",
   "metadata": {},
   "outputs": [
    {
     "data": {
      "text/html": [
       "<style>#sk-container-id-4 {color: black;background-color: white;}#sk-container-id-4 pre{padding: 0;}#sk-container-id-4 div.sk-toggleable {background-color: white;}#sk-container-id-4 label.sk-toggleable__label {cursor: pointer;display: block;width: 100%;margin-bottom: 0;padding: 0.3em;box-sizing: border-box;text-align: center;}#sk-container-id-4 label.sk-toggleable__label-arrow:before {content: \"▸\";float: left;margin-right: 0.25em;color: #696969;}#sk-container-id-4 label.sk-toggleable__label-arrow:hover:before {color: black;}#sk-container-id-4 div.sk-estimator:hover label.sk-toggleable__label-arrow:before {color: black;}#sk-container-id-4 div.sk-toggleable__content {max-height: 0;max-width: 0;overflow: hidden;text-align: left;background-color: #f0f8ff;}#sk-container-id-4 div.sk-toggleable__content pre {margin: 0.2em;color: black;border-radius: 0.25em;background-color: #f0f8ff;}#sk-container-id-4 input.sk-toggleable__control:checked~div.sk-toggleable__content {max-height: 200px;max-width: 100%;overflow: auto;}#sk-container-id-4 input.sk-toggleable__control:checked~label.sk-toggleable__label-arrow:before {content: \"▾\";}#sk-container-id-4 div.sk-estimator input.sk-toggleable__control:checked~label.sk-toggleable__label {background-color: #d4ebff;}#sk-container-id-4 div.sk-label input.sk-toggleable__control:checked~label.sk-toggleable__label {background-color: #d4ebff;}#sk-container-id-4 input.sk-hidden--visually {border: 0;clip: rect(1px 1px 1px 1px);clip: rect(1px, 1px, 1px, 1px);height: 1px;margin: -1px;overflow: hidden;padding: 0;position: absolute;width: 1px;}#sk-container-id-4 div.sk-estimator {font-family: monospace;background-color: #f0f8ff;border: 1px dotted black;border-radius: 0.25em;box-sizing: border-box;margin-bottom: 0.5em;}#sk-container-id-4 div.sk-estimator:hover {background-color: #d4ebff;}#sk-container-id-4 div.sk-parallel-item::after {content: \"\";width: 100%;border-bottom: 1px solid gray;flex-grow: 1;}#sk-container-id-4 div.sk-label:hover label.sk-toggleable__label {background-color: #d4ebff;}#sk-container-id-4 div.sk-serial::before {content: \"\";position: absolute;border-left: 1px solid gray;box-sizing: border-box;top: 0;bottom: 0;left: 50%;z-index: 0;}#sk-container-id-4 div.sk-serial {display: flex;flex-direction: column;align-items: center;background-color: white;padding-right: 0.2em;padding-left: 0.2em;position: relative;}#sk-container-id-4 div.sk-item {position: relative;z-index: 1;}#sk-container-id-4 div.sk-parallel {display: flex;align-items: stretch;justify-content: center;background-color: white;position: relative;}#sk-container-id-4 div.sk-item::before, #sk-container-id-4 div.sk-parallel-item::before {content: \"\";position: absolute;border-left: 1px solid gray;box-sizing: border-box;top: 0;bottom: 0;left: 50%;z-index: -1;}#sk-container-id-4 div.sk-parallel-item {display: flex;flex-direction: column;z-index: 1;position: relative;background-color: white;}#sk-container-id-4 div.sk-parallel-item:first-child::after {align-self: flex-end;width: 50%;}#sk-container-id-4 div.sk-parallel-item:last-child::after {align-self: flex-start;width: 50%;}#sk-container-id-4 div.sk-parallel-item:only-child::after {width: 0;}#sk-container-id-4 div.sk-dashed-wrapped {border: 1px dashed gray;margin: 0 0.4em 0.5em 0.4em;box-sizing: border-box;padding-bottom: 0.4em;background-color: white;}#sk-container-id-4 div.sk-label label {font-family: monospace;font-weight: bold;display: inline-block;line-height: 1.2em;}#sk-container-id-4 div.sk-label-container {text-align: center;}#sk-container-id-4 div.sk-container {/* jupyter's `normalize.less` sets `[hidden] { display: none; }` but bootstrap.min.css set `[hidden] { display: none !important; }` so we also need the `!important` here to be able to override the default hidden behavior on the sphinx rendered scikit-learn.org. See: https://github.com/scikit-learn/scikit-learn/issues/21755 */display: inline-block !important;position: relative;}#sk-container-id-4 div.sk-text-repr-fallback {display: none;}</style><div id=\"sk-container-id-4\" class=\"sk-top-container\"><div class=\"sk-text-repr-fallback\"><pre>DecisionTreeClassifier(max_depth=4, min_samples_leaf=3, random_state=42)</pre><b>In a Jupyter environment, please rerun this cell to show the HTML representation or trust the notebook. <br />On GitHub, the HTML representation is unable to render, please try loading this page with nbviewer.org.</b></div><div class=\"sk-container\" hidden><div class=\"sk-item\"><div class=\"sk-estimator sk-toggleable\"><input class=\"sk-toggleable__control sk-hidden--visually\" id=\"sk-estimator-id-6\" type=\"checkbox\" checked><label for=\"sk-estimator-id-6\" class=\"sk-toggleable__label sk-toggleable__label-arrow\">DecisionTreeClassifier</label><div class=\"sk-toggleable__content\"><pre>DecisionTreeClassifier(max_depth=4, min_samples_leaf=3, random_state=42)</pre></div></div></div></div></div>"
      ],
      "text/plain": [
       "DecisionTreeClassifier(max_depth=4, min_samples_leaf=3, random_state=42)"
      ]
     },
     "execution_count": 83,
     "metadata": {},
     "output_type": "execute_result"
    }
   ],
   "source": [
    "# Let's assume that the decision tree is the one we want to explore\n",
    "from sklearn.tree import DecisionTreeClassifier\n",
    "dt = DecisionTreeClassifier(max_depth=4, min_samples_leaf=3, random_state=42)\n",
    "dt.fit(X_train, y_train)"
   ]
  },
  {
   "cell_type": "code",
   "execution_count": 84,
   "id": "cc6dd74d-b94c-4237-b471-f2ad71b94aab",
   "metadata": {},
   "outputs": [],
   "source": [
    "from sklearn.tree import export_graphviz\n",
    "export_graphviz( \n",
    " grid_search_cv.best_estimator_,\n",
    " out_file=('tree.dot'),\n",
    " feature_names=dv.feature_names_,\n",
    " class_names=None,\n",
    " filled=True,\n",
    ")"
   ]
  },
  {
   "cell_type": "code",
   "execution_count": 85,
   "id": "133d80da-c67f-4e78-b418-919de3c7448c",
   "metadata": {},
   "outputs": [
    {
     "name": "stdout",
     "output_type": "stream",
     "text": [
      "Collecting pydot\n",
      "  Downloading pydot-1.4.2-py2.py3-none-any.whl (21 kB)\n",
      "Requirement already satisfied: pyparsing>=2.1.4 in c:\\users\\john\\downloads\\.venv\\lib\\site-packages (from pydot) (3.0.9)\n",
      "Installing collected packages: pydot\n",
      "Successfully installed pydot-1.4.2\n"
     ]
    },
    {
     "name": "stderr",
     "output_type": "stream",
     "text": [
      "\n",
      "[notice] A new release of pip available: 22.2.1 -> 23.0.1\n",
      "[notice] To update, run: python.exe -m pip install --upgrade pip\n"
     ]
    }
   ],
   "source": [
    "!pip install pydot\n",
    "import pydot\n",
    "\n",
    "(graph,) = pydot.graph_from_dot_file('tree.dot')\n",
    "graph.write_png('tree.png')"
   ]
  },
  {
   "cell_type": "code",
   "execution_count": null,
   "id": "6f6c4ac8-ef9f-4c08-bb60-e6016266efb2",
   "metadata": {},
   "outputs": [],
   "source": []
  },
  {
   "cell_type": "code",
   "execution_count": null,
   "id": "c2ccf1d9-8178-44df-9319-55038de194df",
   "metadata": {},
   "outputs": [],
   "source": []
  },
  {
   "cell_type": "code",
   "execution_count": null,
   "id": "68797977-3096-495c-bfb4-2325987ede2b",
   "metadata": {},
   "outputs": [],
   "source": []
  },
  {
   "cell_type": "code",
   "execution_count": null,
   "id": "c471edb6-daad-444b-bebe-601c8e436b3e",
   "metadata": {},
   "outputs": [],
   "source": []
  },
  {
   "cell_type": "code",
   "execution_count": null,
   "id": "68eede3a-2545-44e2-bcd4-f0f211fed1a2",
   "metadata": {},
   "outputs": [],
   "source": []
  },
  {
   "cell_type": "code",
   "execution_count": null,
   "id": "4cabe77a-9983-4e68-b883-8225d270eb76",
   "metadata": {},
   "outputs": [],
   "source": []
  },
  {
   "cell_type": "code",
   "execution_count": null,
   "id": "48867fcf-967f-4c71-8f36-c1034a0bfef1",
   "metadata": {},
   "outputs": [],
   "source": []
  },
  {
   "cell_type": "code",
   "execution_count": null,
   "id": "a9269524-71d6-4d60-b984-00c2dd12438a",
   "metadata": {},
   "outputs": [],
   "source": []
  },
  {
   "cell_type": "code",
   "execution_count": null,
   "id": "197a9997-64b5-4833-8e00-640d94c36d6c",
   "metadata": {},
   "outputs": [],
   "source": []
  },
  {
   "cell_type": "code",
   "execution_count": null,
   "id": "6d60c04c-d52a-4315-9370-721da91e705a",
   "metadata": {},
   "outputs": [],
   "source": []
  },
  {
   "cell_type": "code",
   "execution_count": null,
   "id": "b62ff4c7-40bb-4f8d-8534-99c6d6993a91",
   "metadata": {},
   "outputs": [],
   "source": []
  },
  {
   "cell_type": "code",
   "execution_count": null,
   "id": "9eeb07e5-0669-4a5b-9299-758493a8a205",
   "metadata": {},
   "outputs": [],
   "source": []
  },
  {
   "cell_type": "code",
   "execution_count": null,
   "id": "fe1b4bd8-c227-4335-b3ac-a870027bb64d",
   "metadata": {},
   "outputs": [],
   "source": []
  },
  {
   "cell_type": "code",
   "execution_count": null,
   "id": "5bca2590-4ec5-4aba-a110-32aae9c51c14",
   "metadata": {},
   "outputs": [],
   "source": []
  },
  {
   "cell_type": "code",
   "execution_count": null,
   "id": "4949bac2-068a-4e10-9c10-ec989c0eaa6f",
   "metadata": {},
   "outputs": [],
   "source": []
  },
  {
   "cell_type": "code",
   "execution_count": null,
   "id": "06961ac8-95df-4971-9a8c-47b5a0115799",
   "metadata": {},
   "outputs": [],
   "source": []
  }
 ],
 "metadata": {
  "kernelspec": {
   "display_name": "Python 3 (ipykernel)",
   "language": "python",
   "name": "python3"
  },
  "language_info": {
   "codemirror_mode": {
    "name": "ipython",
    "version": 3
   },
   "file_extension": ".py",
   "mimetype": "text/x-python",
   "name": "python",
   "nbconvert_exporter": "python",
   "pygments_lexer": "ipython3",
   "version": "3.10.8"
  }
 },
 "nbformat": 4,
 "nbformat_minor": 5
}
