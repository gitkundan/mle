{
 "cells": [
  {
   "cell_type": "code",
   "execution_count": 15,
   "metadata": {},
   "outputs": [],
   "source": [
    "import numpy as np\n",
    "import pandas as pd\n",
    "from scipy import stats\n",
    "from sklearn.model_selection import train_test_split\n",
    "from matplotlib import pyplot as plt"
   ]
  },
  {
   "cell_type": "code",
   "execution_count": 16,
   "metadata": {},
   "outputs": [],
   "source": [
    "data=pd.DataFrame({\n",
    "    'Feature1':np.random.randn(100),\n",
    "    'feature2':np.random.randn(100),\n",
    "    'Target':np.random.randint(0,2,100)\n",
    "})"
   ]
  },
  {
   "cell_type": "code",
   "execution_count": 22,
   "metadata": {},
   "outputs": [
    {
     "data": {
      "text/plain": [
       "[<matplotlib.lines.Line2D at 0x16b257f9310>]"
      ]
     },
     "execution_count": 22,
     "metadata": {},
     "output_type": "execute_result"
    },
    {
     "data": {
      "image/png": "[encoded data removed]",
      "text/plain": [
       "<Figure size 640x480 with 1 Axes>"
      ]
     },
     "metadata": {},
     "output_type": "display_data"
    }
   ],
   "source": [
    "X=data.drop(columns=['Target'])\n",
    "y=data['Target']\n",
    "\n",
    "X_train,X_test,y_train,y_test=train_test_split(X,y,test_size=0.2,random_state=42)\n",
    "test=np.random.randint(10,20,5)\n",
    "plt.plot(test)"
   ]
  },
  {
   "cell_type": "code",
   "execution_count": 18,
   "metadata": {},
   "outputs": [
    {
     "name": "stdout",
     "output_type": "stream",
     "text": [
      "One-way ANOVA\n",
      "--------------------\n",
      "F-value: 15.74289643598053\n",
      "p-value: 0.0004415736183245906\n",
      "There is a significant difference between the means of the groups.\n"
     ]
    }
   ],
   "source": [
    "import scipy.stats as stats\n",
    "\n",
    "# Create example data\n",
    "group1 = [23, 28, 32, 34, 35]\n",
    "group2 = [270, 209, 301, 330, 45]\n",
    "group3 = [25, 26, 27, 31, 36]\n",
    "\n",
    "# Perform one-way ANOVA\n",
    "statistic, p_value = stats.f_oneway(group1, group2, group3)\n",
    "\n",
    "# Print results\n",
    "print(\"One-way ANOVA\")\n",
    "print(\"--------------------\")\n",
    "print(\"F-value:\", statistic)\n",
    "print(\"p-value:\", p_value)\n",
    "\n",
    "# Interpret results\n",
    "if p_value < 0.05:\n",
    "    print(\"There is a significant difference between the means of the groups.\")\n",
    "else:\n",
    "    print(\"There is not a significant difference between the means of the groups.\")\n"
   ]
  },
  {
   "cell_type": "markdown",
   "metadata": {},
   "source": [
    "ANOVA (Analysis of Variance) compares the means of two or more groups to determine if they are statistically different. However, the technique gets its name from the fact that it analyzes the variance of the data, which is the measure of how spread out the data is.\n",
    "\n",
    "During an ANOVA, the variation in the data is partitioned into two types: variation between the groups and variation within the groups. The variation between the groups is used to determine whether the means are significantly different, while the variation within the groups represents the variability of the data within each group.\n",
    "\n",
    "Thus, while ANOVA is a technique for comparing means, it does so by analyzing the variance in the data. It is important to note that ANOVA assumes that the variance within each group is approximately equal, which is known as the homogeneity of variance assumption."
   ]
  },
  {
   "cell_type": "markdown",
   "metadata": {},
   "source": [
    "The homogeneity of variance assumption can be tested using various statistical tests, including:\n",
    "\n",
    "    Levene's test: This test compares the variances of two or more groups and tests whether they are significantly different from each other. The null hypothesis is that the variances are equal. If the p-value of the test is less than the chosen significance level (e.g., 0.05), then the null hypothesis is rejected, and it can be concluded that the variances are significantly different.\n",
    "\n",
    "Here is an example of using Levene's test in Python with the SciPy library:"
   ]
  },
  {
   "cell_type": "code",
   "execution_count": 19,
   "metadata": {},
   "outputs": [
    {
     "name": "stdout",
     "output_type": "stream",
     "text": [
      "Levene's test\n",
      "--------------------\n",
      "W-value: 0.8807251908396948\n",
      "p-value: 0.43781747116630976\n",
      "The variances are not significantly different.\n"
     ]
    }
   ],
   "source": [
    "import scipy.stats as stats\n",
    "\n",
    "# Example data\n",
    "group1 = [5, 8, 11, 14]\n",
    "group2 = [10, 13, 16, 19, 22]\n",
    "group3 = [1, 4, 7, 10, 13, 16, 19]\n",
    "\n",
    "# Levene's test\n",
    "statistic, p_value = stats.levene(group1, group2, group3)\n",
    "\n",
    "# Print results\n",
    "print(\"Levene's test\")\n",
    "print(\"--------------------\")\n",
    "print(\"W-value:\", statistic)\n",
    "print(\"p-value:\", p_value)\n",
    "\n",
    "# Interpret results\n",
    "if p_value < 0.05:\n",
    "    print(\"The variances are significantly different.\")\n",
    "else:\n",
    "    print(\"The variances are not significantly different.\")\n"
   ]
  },
  {
   "cell_type": "code",
   "execution_count": null,
   "metadata": {},
   "outputs": [],
   "source": []
  }
 ],
 "metadata": {
  "kernelspec": {
   "display_name": ".venv",
   "language": "python",
   "name": "python3"
  },
  "language_info": {
   "codemirror_mode": {
    "name": "ipython",
    "version": 3
   },
   "file_extension": ".py",
   "mimetype": "text/x-python",
   "name": "python",
   "nbconvert_exporter": "python",
   "pygments_lexer": "ipython3",
   "version": "3.11.3"
  },
  "orig_nbformat": 4
 },
 "nbformat": 4,
 "nbformat_minor": 2
}
